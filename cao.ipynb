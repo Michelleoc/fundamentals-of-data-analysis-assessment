{
 "cells": [
  {
   "cell_type": "markdown",
   "id": "b6950e53",
   "metadata": {},
   "source": [
    "# CAO Points Analysis\n",
    "\n",
    "## Author : Michelle O'Connor\n",
    "\n",
    "***"
   ]
  },
  {
   "cell_type": "code",
   "execution_count": 1,
   "id": "1c723171",
   "metadata": {},
   "outputs": [],
   "source": [
    "# To access a URL from python\n",
    "# import urllib\n",
    "\n",
    "# Convenient HTTP requests\n",
    "import requests as rq\n",
    "\n",
    "# Regular expressions\n",
    "import re\n",
    "\n",
    "# Should always call this out on the requirements txt file as it doesn't come as standard package with python\n",
    "# Only if you have anaconda does it come with the package\n",
    "\n",
    "# Dates and times\n",
    "import datetime as dt\n",
    "\n",
    "# Data frames\n",
    "import pandas as pd\n",
    "\n",
    "# for downloading \n",
    "import urllib.request as urlrq"
   ]
  },
  {
   "cell_type": "code",
   "execution_count": 2,
   "id": "95b821e7",
   "metadata": {},
   "outputs": [],
   "source": [
    "# Get the current date and time\n",
    "now = dt.datetime.now()\n",
    "\n",
    "# Format as a string\n",
    "nowstr = now.strftime('%Y%m%d_%H%M%S')"
   ]
  },
  {
   "cell_type": "markdown",
   "id": "41416b54",
   "metadata": {},
   "source": [
    "<br>\n",
    "\n",
    "## 2021 Points \n",
    "https://www.cao.ie/index.php?page=points&p=2021&bb=points\n",
    "***"
   ]
  },
  {
   "cell_type": "code",
   "execution_count": 3,
   "id": "44f505b5",
   "metadata": {},
   "outputs": [],
   "source": [
    "# Fetch the CAO points URL.\n",
    "resp = rq.get('http://www2.cao.ie/points/l8.php')"
   ]
  },
  {
   "cell_type": "markdown",
   "id": "d8d86c7a",
   "metadata": {},
   "source": [
    "#### Save Original data set\n",
    "\n",
    "***"
   ]
  },
  {
   "cell_type": "code",
   "execution_count": 4,
   "id": "d549b5ff",
   "metadata": {},
   "outputs": [],
   "source": [
    "# Create a file path for the original data\n",
    "pathhtml = 'data/cao2021_' + nowstr + '.html'"
   ]
  },
  {
   "cell_type": "markdown",
   "id": "1d7c87c7",
   "metadata": {},
   "source": [
    "<br>\n",
    "\n",
    "**Error on server**\n",
    "\n",
    "Technically, the server says we should decode as per:\n",
    "```\n",
    "Content-Type: text/html; charset=iso-8859-1\n",
    "```\n",
    "However, one line uses \\x96 which isn't defined in iso-8859-1.\n",
    "<br>Therefore we use the similar decoding standard cp1252, which is very similar but includes #x96."
   ]
  },
  {
   "cell_type": "code",
   "execution_count": 5,
   "id": "285a58ed",
   "metadata": {},
   "outputs": [],
   "source": [
    "# The server uses the wrong encoding, fix it\n",
    "original_encoding = resp.encoding\n",
    "# Change to cp1252\n",
    "resp.encoding = 'cp1252'"
   ]
  },
  {
   "cell_type": "code",
   "execution_count": 6,
   "id": "52dba12e",
   "metadata": {},
   "outputs": [
    {
     "name": "stdout",
     "output_type": "stream",
     "text": [
      "\n",
      " Name       object\n",
      "Marks      object\n",
      "Fee        object\n",
      "Subject    object\n",
      "dtype: object\n"
     ]
    }
   ],
   "source": [
    "Student_dict = {\n",
    "    'Name': ['Jack', 'Rack', 'Max'],\n",
    "    'Marks':['100','100', '100'],\n",
    "    'Fee':['100','200','300'],\n",
    "    'Subject': ['Math', 'Math', 'Music']\n",
    "}\n",
    "  \n",
    "\n",
    "dfobj = pd.DataFrame(Student_dict)\n",
    "\n",
    "print(f'\\n {dfobj.dtypes}')"
   ]
  },
  {
   "cell_type": "code",
   "execution_count": 7,
   "id": "4f7f3745",
   "metadata": {},
   "outputs": [
    {
     "name": "stdout",
     "output_type": "stream",
     "text": [
      "dataframe str to float:\n",
      "    Name  Marks    Fee Subject\n",
      "0  Jack  100.0  100.0    Math\n",
      "1  Rack  100.0  200.0    Math\n",
      "2   Max  100.0  300.0   Music\n",
      "\n",
      " Name        object\n",
      "Marks      float64\n",
      "Fee        float64\n",
      "Subject     object\n",
      "dtype: object\n"
     ]
    }
   ],
   "source": [
    " \n",
    "dict_columns_type = {'Marks': float,\n",
    "                'Fee': float\n",
    "               }\n",
    "   \n",
    "dfobj = dfobj.astype(dict_columns_type)\n",
    "print('dataframe str to float:\\n',dfobj)\n",
    " \n",
    "print(f'\\n {dfobj.dtypes}')\n"
   ]
  },
  {
   "cell_type": "code",
   "execution_count": 8,
   "id": "485a3581",
   "metadata": {},
   "outputs": [],
   "source": [
    "Student_dict = {\n",
    "    'Name': ['Jack', 'Rack', 'Max'],\n",
    "    'Marks':[100,100,100],\n",
    "    'Subject': ['Math', 'Math', 'Music']\n",
    "}"
   ]
  },
  {
   "cell_type": "code",
   "execution_count": 9,
   "id": "65397489",
   "metadata": {},
   "outputs": [],
   "source": [
    "dfobj = pd.DataFrame(Student_dict)"
   ]
  },
  {
   "cell_type": "code",
   "execution_count": 10,
   "id": "ef897628",
   "metadata": {},
   "outputs": [
    {
     "data": {
      "text/plain": [
       "Name       object\n",
       "Marks       int64\n",
       "Subject    object\n",
       "dtype: object"
      ]
     },
     "execution_count": 10,
     "metadata": {},
     "output_type": "execute_result"
    }
   ],
   "source": [
    "dfobj.dtypes"
   ]
  },
  {
   "cell_type": "code",
   "execution_count": 11,
   "id": "f8e51f36",
   "metadata": {},
   "outputs": [
    {
     "name": "stdout",
     "output_type": "stream",
     "text": [
      "Name       object\n",
      "Marks       int64\n",
      "Subject    object\n",
      "dtype: object\n"
     ]
    }
   ],
   "source": [
    "dfobj = dfobj.infer_objects()\n",
    "print(dfobj.dtypes)"
   ]
  },
  {
   "cell_type": "code",
   "execution_count": 12,
   "id": "46998fef",
   "metadata": {},
   "outputs": [
    {
     "data": {
      "text/plain": [
       "Name       object\n",
       "Marks      object\n",
       "Subject    object\n",
       "dtype: object"
      ]
     },
     "execution_count": 12,
     "metadata": {},
     "output_type": "execute_result"
    }
   ],
   "source": [
    "Student_dict = {\n",
    "    'Name': ['Jack', 'Rack', 'Max'],\n",
    "    'Marks':[100,100,100],\n",
    "    'Subject': ['Math', 'Math', 'Music']\n",
    "}\n",
    "  \n",
    " \n",
    " \n",
    "dfobj = pd.DataFrame(Student_dict,dtype ='object')\n",
    "dfobj.dtypes"
   ]
  },
  {
   "cell_type": "code",
   "execution_count": 13,
   "id": "c7c6c962",
   "metadata": {},
   "outputs": [
    {
     "name": "stdout",
     "output_type": "stream",
     "text": [
      "Name       object\n",
      "Marks       int64\n",
      "Subject    object\n",
      "dtype: object\n"
     ]
    }
   ],
   "source": [
    "dfobj = dfobj.infer_objects()\n",
    "print(dfobj.dtypes)"
   ]
  },
  {
   "cell_type": "code",
   "execution_count": 14,
   "id": "40532e11",
   "metadata": {},
   "outputs": [
    {
     "name": "stdout",
     "output_type": "stream",
     "text": [
      "     bond_name  risk_score\n",
      "0  govt_bond_1         1.6\n",
      "1  govt_bond_2         0.9\n",
      "2  govt_bond_3         2.3\n",
      "3   pvt_bond_1         3.0\n",
      "4   pvt_bond_2         2.7\n",
      "5   pvt_bond_3         1.8\n",
      "6   pvt_bond_4         4.1\n"
     ]
    }
   ],
   "source": [
    "raw_data = {'bond_name': ['govt_bond_1', 'govt_bond_2', 'govt_bond_3', 'pvt_bond_1', 'pvt_bond_2', 'pvt_bond_3', 'pvt_bond_4'],\n",
    "                'risk_score': [1.6, 0.9, 2.3, 3.0, 2.7, 1.8, 4.1]}\n",
    "df = pd.DataFrame(raw_data, columns = ['bond_name', 'risk_score'])\n",
    "    \n",
    "print(df)"
   ]
  },
  {
   "cell_type": "code",
   "execution_count": 17,
   "id": "27a2f77e",
   "metadata": {},
   "outputs": [],
   "source": [
    "rating = []\n",
    "for row in df['risk_score']:\n",
    "    if row < 1.0 :    rating.append('AA')\n",
    "    elif row < 2.0:   rating.append('A')\n",
    "    elif row < 3.0:  rating.append('BB')\n",
    "    elif row < 4.0:  rating.append('B')\n",
    "    elif row < 5.0:  rating.append('C')\n",
    "    else:           rating.append('Not_Rated')"
   ]
  },
  {
   "cell_type": "code",
   "execution_count": 18,
   "id": "43918fe8",
   "metadata": {},
   "outputs": [
    {
     "name": "stdout",
     "output_type": "stream",
     "text": [
      "     bond_name  risk_score rating\n",
      "0  govt_bond_1         1.6      A\n",
      "1  govt_bond_2         0.9     AA\n",
      "2  govt_bond_3         2.3     BB\n",
      "3   pvt_bond_1         3.0      B\n",
      "4   pvt_bond_2         2.7     BB\n",
      "5   pvt_bond_3         1.8      A\n",
      "6   pvt_bond_4         4.1      C\n"
     ]
    }
   ],
   "source": [
    "df['rating'] = rating\n",
    "print(df) "
   ]
  },
  {
   "cell_type": "code",
   "execution_count": null,
   "id": "652b091f",
   "metadata": {},
   "outputs": [],
   "source": []
  }
 ],
 "metadata": {
  "kernelspec": {
   "display_name": "Python 3",
   "language": "python",
   "name": "python3"
  },
  "language_info": {
   "codemirror_mode": {
    "name": "ipython",
    "version": 3
   },
   "file_extension": ".py",
   "mimetype": "text/x-python",
   "name": "python",
   "nbconvert_exporter": "python",
   "pygments_lexer": "ipython3",
   "version": "3.8.8"
  }
 },
 "nbformat": 4,
 "nbformat_minor": 5
}
