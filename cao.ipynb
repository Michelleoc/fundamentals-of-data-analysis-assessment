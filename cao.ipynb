{
 "cells": [
  {
   "attachments": {
    "cao.png": {
     "image/png": "[encoded data removed]"
    }
   },
   "cell_type": "markdown",
   "id": "2755b17a",
   "metadata": {},
   "source": [
    "![cao.png](attachment:cao.png)"
   ]
  },
  {
   "cell_type": "markdown",
   "id": "75824ace",
   "metadata": {},
   "source": [
    "# CAO POINTS ANALYSIS\n",
    "\n",
    "## Fundmentals of Data Analysis Assessment, Winter 21/22\n",
    "\n",
    "## Michelle O'Connor, Student ID G00398975\n",
    "\n",
    "***"
   ]
  },
  {
   "cell_type": "markdown",
   "id": "a30450f6",
   "metadata": {},
   "source": [
    "### Table of Contents\n",
    "\n",
    "* [CAO](##CAO)   \n",
    "    * [Background](#CAO_background)\n",
    "    * [Libraries and packages](#libraries)\n",
    "    * [CAO Points format](#points)     \n",
    "    * [Date and Time stamp](#date)   \n",
    "* [2021 Points](#2021)\n",
    "    * [Basic Commands](#basic_commands)\n",
    "    * [Intermediate](#intermediate_commands)\n",
    "    * [Advanced](#advanced_commands)  \n",
    "* [2020 Points](#pyplot_commands)\n",
    "    * [Basic Commands](#basic_commands)\n",
    "    * [Intermediate](#intermediate_commands)\n",
    "    * [Advanced](#advanced_commands)   \n",
    "* [2019 Points](#pyplot_commands)\n",
    "    * [Basic Commands](#basic_commands)\n",
    "    * [Intermediate](#intermediate_commands)\n",
    "    * [Advanced](#advanced_commands)  \n",
    "* [Plot types](#plot_types)\n",
    "    * [Regular Plot](#regular_plot)\n",
    "    * [Scatter Plot](#scatter_plot)\n",
    "    * [Bar Plot](#bar_plot) \n",
    "    * [Contour Plot](#contour_plot)\n",
    "    * [Pie Chart](#pie_chart)\n",
    "    * [Quiver Plot](#quiver_plot)\n",
    "* [Subplots](#subplots)\n",
    "    * [Subplot structure](#subplot_structure)  \n",
    "    * [Subplot examples](#subplot_examples)  \n",
    "* [Explanation of 3 plots](#explanation_of_3_plots)\n",
    "    * [Barplot](#barplot)\n",
    "    * [Boxplot](#boxplot)\n",
    "    * [Pie Chart](#piechart)\n",
    "    * [Multiple Line plot](#multiple_line_plot)  \n",
    "* [Conclusion](#conclusion)\n",
    "* [References](#references)  \n",
    "\n",
    "\n",
    "***"
   ]
  },
  {
   "cell_type": "markdown",
   "id": "aada776c",
   "metadata": {},
   "source": [
    "## CAO <a name=\"CAO\"></a>"
   ]
  },
  {
   "cell_type": "markdown",
   "id": "d6871f5a",
   "metadata": {},
   "source": [
    "### CAO Background <a name=\"CAO_background\"></a>"
   ]
  },
  {
   "cell_type": "markdown",
   "id": "634656d8",
   "metadata": {},
   "source": [
    "Students applying for admission to third level education courses in Ireland apply to the CAO rather than to individual educational institutions such as colleges and universities. The CAO then offers places to students who meet the minimum requirements for a course for which they have applied. If for a particular course there are more qualified applicants than available places, the CAO makes offers to those applicants with the highest score in the CAO points system. If students do not accepts offers, or later decline them because they receive an offer for another course, the CAO makes further offers until all of the places have been filled or until the offer season closes.  \n",
    "\n",
    "https://en.wikipedia.org/wiki/Central_Applications_Office  \n",
    "\n",
    "The CAO each year publish the points required for undergraduate courses in Irish Higher Education Institutions (HEIs). \n",
    "\n",
    "In this notebook, we will load the 2021, 2020 & 2019 points into one pandas dataframe and publish a detailed comparsion showing the points activity over the 3 years. "
   ]
  },
  {
   "cell_type": "markdown",
   "id": "b105728b",
   "metadata": {},
   "source": [
    "### Import required libraries and packages <a name=\"libraries\"></a>"
   ]
  },
  {
   "cell_type": "code",
   "execution_count": 1,
   "id": "4a6b71e2",
   "metadata": {
    "scrolled": false
   },
   "outputs": [],
   "source": [
    "# Convenient HTTP requests\n",
    "import requests as rq\n",
    "\n",
    "# Regular expressions\n",
    "import re\n",
    "\n",
    "# Dates and times\n",
    "import datetime as dt\n",
    "\n",
    "# Data frames\n",
    "import pandas as pd\n",
    "\n",
    "# To access a URL from python and downloading \n",
    "import urllib.request as urlrq\n",
    "\n",
    "# Arrays\n",
    "import numpy as np\n",
    "\n",
    "# Plotting and visuals\n",
    "import matplotlib.pyplot as plt\n",
    "\n",
    "# Plotting and visuals\n",
    "import seaborn as sns"
   ]
  },
  {
   "cell_type": "markdown",
   "id": "d852f319",
   "metadata": {},
   "source": [
    "### CAO Points Format <a name=\"points\"></a>"
   ]
  },
  {
   "cell_type": "markdown",
   "id": "9c0f6feb",
   "metadata": {},
   "source": [
    "In this notebook, we will be downloading the 2021, 2020 & 2019 data from the CAO website. Each year comes in a different format :   \n",
    "\n",
    "2021 will be downloaded via HTML [Click here to go directly to the 2021 points webpage](https://www.cao.ie/index.php?page=points&p=2021&bb=points)    \n",
    "\n",
    "\n",
    "2020 will be downloaded via XLSX (Excel)\n",
    "[Click here to go directly to the 2020 points webpage](https://www.cao.ie/index.php?page=points&p=2020&bb=points)    \n",
    "\n",
    "2019 will be downloaded via PDF\n",
    "[Click here to go directly to the 2019 points webpage](https://www.cao.ie/index.php?page=points&p=2019&bb=points)      "
   ]
  },
  {
   "cell_type": "markdown",
   "id": "0556c45f",
   "metadata": {},
   "source": [
    "### Date and Time stamp <a name=\"date\"></a>"
   ]
  },
  {
   "cell_type": "markdown",
   "id": "e6853ae8",
   "metadata": {},
   "source": [
    "Best practice when downloading data from the internet is to store a copy of the original data downloaded for verison control. At any stage the owner of the website may alter the data, if this happens you have your own master copy of the data which you can reference back to any time.  \n",
    "\n",
    "One common practice is to date and timestamp the file as you save it. The below code will date and timestamp the files as I download them. "
   ]
  },
  {
   "cell_type": "code",
   "execution_count": 2,
   "id": "137fb3ba",
   "metadata": {
    "scrolled": false
   },
   "outputs": [],
   "source": [
    "# Get the current date and time\n",
    "now = dt.datetime.now()\n",
    "\n",
    "# Format as a string\n",
    "nowstr = now.strftime('%Y%m%d_%H%M%S')"
   ]
  },
  {
   "cell_type": "markdown",
   "id": "cbc44ce0",
   "metadata": {},
   "source": [
    "<br>\n",
    "\n",
    "## 2021 Points  <a name=\"2021\"></a>\n",
    "\n",
    "***"
   ]
  },
  {
   "cell_type": "markdown",
   "id": "23524cdd",
   "metadata": {},
   "source": [
    "### Fetch the CAO URL and save the original data set\n"
   ]
  },
  {
   "cell_type": "code",
   "execution_count": 3,
   "id": "f0844374",
   "metadata": {
    "scrolled": false
   },
   "outputs": [
    {
     "data": {
      "text/plain": [
       "<Response [200]>"
      ]
     },
     "execution_count": 3,
     "metadata": {},
     "output_type": "execute_result"
    }
   ],
   "source": [
    "# Fetch the CAO points URL.\n",
    "resp = rq.get('http://www2.cao.ie/points/l8.php')\n",
    "# Check to response, if http code 200 means it is ok, however if you receive 404 then you have an error\n",
    "resp"
   ]
  },
  {
   "cell_type": "code",
   "execution_count": 4,
   "id": "e0836537",
   "metadata": {
    "scrolled": false
   },
   "outputs": [],
   "source": [
    "# Create a file path for the original data inlcuding a date & timestamp\n",
    "pathhtml = 'data/cao2021_' + nowstr + '.html'"
   ]
  },
  {
   "cell_type": "markdown",
   "id": "b2919efc",
   "metadata": {},
   "source": [
    "<br>\n",
    "\n",
    "**Error on server**\n",
    "\n",
    "Technically, the server says we should decode as per:\n",
    "```\n",
    "Content-Type: text/html; charset=iso-8859-1\n",
    "```\n",
    "However, one line uses \\x96 which isn't defined in iso-8859-1.\n",
    "<br>Therefore we use the similar decoding standard cp1252, which is very similar but includes #x96."
   ]
  },
  {
   "cell_type": "code",
   "execution_count": 5,
   "id": "b9fcf204",
   "metadata": {
    "scrolled": false
   },
   "outputs": [],
   "source": [
    "# The server uses the wrong encoding, fix it\n",
    "original_encoding = resp.encoding\n",
    "# Change to cp1252\n",
    "resp.encoding = 'cp1252'"
   ]
  },
  {
   "cell_type": "code",
   "execution_count": 6,
   "id": "940316a3",
   "metadata": {
    "scrolled": false
   },
   "outputs": [],
   "source": [
    "# Save the original html file\n",
    "with open (pathhtml, 'w') as f:\n",
    "    f.write(resp.text)"
   ]
  },
  {
   "cell_type": "markdown",
   "id": "7873f5c6",
   "metadata": {},
   "source": [
    "<br>\n",
    "\n",
    "### Use regular expressions to select lines we want\n"
   ]
  },
  {
   "cell_type": "code",
   "execution_count": 7,
   "id": "f13eb930",
   "metadata": {
    "scrolled": false
   },
   "outputs": [],
   "source": [
    "# Compile the regular expression for matching lines\n",
    "# [A-Z]{2} - Will select rows that start with two letters\n",
    "# [0-9]{3} - Will select rows that then have 3 numbers after the 2 letters\n",
    "# (.*) - and then this is a gotcha to cover everything else on the rows that start with 2 letters and 3 numbers\n",
    "re_course = re.compile(r'([A-Z]{2}[0-9]{3})(.*)')"
   ]
  },
  {
   "cell_type": "markdown",
   "id": "66de9843",
   "metadata": {},
   "source": [
    "<br>\n",
    "\n",
    "### Loop through the lines of the response\n"
   ]
  },
  {
   "cell_type": "markdown",
   "id": "22425ef0",
   "metadata": {},
   "source": [
    "Use regular expression to extract the lines we need"
   ]
  },
  {
   "cell_type": "code",
   "execution_count": 8,
   "id": "83808006",
   "metadata": {
    "scrolled": false
   },
   "outputs": [],
   "source": [
    "def points_to_array(s):\n",
    "    portfolio = ''\n",
    "    if s[0] == '#':\n",
    "        portfolio = '#'\n",
    "    random = ''\n",
    "    if s[-1] == '*':\n",
    "        random = '*'\n",
    "    points = ''\n",
    "    for i in s:\n",
    "        if i.isdigit():\n",
    "            points = points + i\n",
    "    return [points, portfolio, random]"
   ]
  },
  {
   "cell_type": "code",
   "execution_count": 9,
   "id": "a226ea44",
   "metadata": {
    "scrolled": false
   },
   "outputs": [],
   "source": [
    "# Once we extract the rows we need, we need to save a csv verison of the data\n",
    "# The file path for the csv file\n",
    "path2021 = 'data/cao2021_csv_' + nowstr + '.csv'"
   ]
  },
  {
   "cell_type": "code",
   "execution_count": 10,
   "id": "649e3462",
   "metadata": {
    "scrolled": false
   },
   "outputs": [
    {
     "name": "stdout",
     "output_type": "stream",
     "text": [
      "Total number of lines is 949.\n"
     ]
    }
   ],
   "source": [
    "# Keep track of how many courses we process \n",
    "no_lines = 0\n",
    "\n",
    "# Open the csv file for writing\n",
    "with open (path2021, 'w') as f:\n",
    "    # Write a header row.\n",
    "    f.write(','.join(['code','title','pointsR1','pointsR2']) + '\\n')\n",
    "    # Loop through lines of the respone\n",
    "    for line in resp.iter_lines():\n",
    "        # Decode the line, changed from ISO-8859-1 to cp1252\n",
    "        # as one line uses \\x96 which isn't defined in iso-8859-1\n",
    "        dline = line.decode('cp1252')\n",
    "        # Match only the lines representing courses\n",
    "        if re_course.fullmatch(dline):\n",
    "            # Add one to the lines counter\n",
    "            no_lines = no_lines + 1\n",
    "            # The course code\n",
    "            course_code = dline[:5]\n",
    "            # print(course_code)\n",
    "            # The course title\n",
    "            course_title = dline[7:57].strip()\n",
    "            # Round one points\n",
    "            course_points = re.split(' +', dline[60:])\n",
    "            if len(course_points) !=2:\n",
    "                # print(f\"'{course_code} {course_points}'\")\n",
    "                course_points = course_points[:2]\n",
    "            # Join the fields using a comma\n",
    "            linesplit = [course_code, course_title, course_points[0], course_points[1]]\n",
    "            # Rejoin the substrings with commas in between\n",
    "            f.write(','.join(linesplit) + '\\n')\n",
    "\n",
    "# Print the total number of processed lines\n",
    "print(f\"Total number of lines is {no_lines}.\")"
   ]
  },
  {
   "cell_type": "markdown",
   "id": "37753429",
   "metadata": {},
   "source": [
    "<br>\n",
    "\n",
    "**NB:** It was verified as of 24th Nov 2021 that there was 949 courses exactly in the CAO 2021 point list"
   ]
  },
  {
   "cell_type": "code",
   "execution_count": 11,
   "id": "3ecccb4a",
   "metadata": {
    "scrolled": false
   },
   "outputs": [],
   "source": [
    "df2021 = pd.read_csv(path2021, encoding='cp1252')"
   ]
  },
  {
   "cell_type": "code",
   "execution_count": 12,
   "id": "45940a89",
   "metadata": {},
   "outputs": [
    {
     "data": {
      "text/plain": [
       "['code', 'title', 'pointsR1', 'pointsR2']"
      ]
     },
     "execution_count": 12,
     "metadata": {},
     "output_type": "execute_result"
    }
   ],
   "source": [
    "list(df2021.columns)"
   ]
  },
  {
   "cell_type": "code",
   "execution_count": 13,
   "id": "5a40eef1",
   "metadata": {},
   "outputs": [
    {
     "data": {
      "text/html": [
       "<div>\n",
       "<style scoped>\n",
       "    .dataframe tbody tr th:only-of-type {\n",
       "        vertical-align: middle;\n",
       "    }\n",
       "\n",
       "    .dataframe tbody tr th {\n",
       "        vertical-align: top;\n",
       "    }\n",
       "\n",
       "    .dataframe thead th {\n",
       "        text-align: right;\n",
       "    }\n",
       "</style>\n",
       "<table border=\"1\" class=\"dataframe\">\n",
       "  <thead>\n",
       "    <tr style=\"text-align: right;\">\n",
       "      <th></th>\n",
       "      <th>code</th>\n",
       "      <th>title</th>\n",
       "      <th>pointsR1</th>\n",
       "      <th>pointsR2</th>\n",
       "    </tr>\n",
       "  </thead>\n",
       "  <tbody>\n",
       "    <tr>\n",
       "      <th>0</th>\n",
       "      <td>AL801</td>\n",
       "      <td>Software Design for Virtual Reality and Gaming</td>\n",
       "      <td>300</td>\n",
       "      <td>NaN</td>\n",
       "    </tr>\n",
       "    <tr>\n",
       "      <th>1</th>\n",
       "      <td>AL802</td>\n",
       "      <td>Software Design in Artificial Intelligence for...</td>\n",
       "      <td>313</td>\n",
       "      <td>NaN</td>\n",
       "    </tr>\n",
       "    <tr>\n",
       "      <th>2</th>\n",
       "      <td>AL803</td>\n",
       "      <td>Software Design for Mobile Apps and Connected ...</td>\n",
       "      <td>350</td>\n",
       "      <td>NaN</td>\n",
       "    </tr>\n",
       "    <tr>\n",
       "      <th>3</th>\n",
       "      <td>AL805</td>\n",
       "      <td>Computer Engineering for Network Infrastructure</td>\n",
       "      <td>321</td>\n",
       "      <td>NaN</td>\n",
       "    </tr>\n",
       "    <tr>\n",
       "      <th>4</th>\n",
       "      <td>AL810</td>\n",
       "      <td>Quantity Surveying</td>\n",
       "      <td>328</td>\n",
       "      <td>NaN</td>\n",
       "    </tr>\n",
       "    <tr>\n",
       "      <th>...</th>\n",
       "      <td>...</td>\n",
       "      <td>...</td>\n",
       "      <td>...</td>\n",
       "      <td>...</td>\n",
       "    </tr>\n",
       "    <tr>\n",
       "      <th>944</th>\n",
       "      <td>WD211</td>\n",
       "      <td>Creative Computing</td>\n",
       "      <td>270</td>\n",
       "      <td>NaN</td>\n",
       "    </tr>\n",
       "    <tr>\n",
       "      <th>945</th>\n",
       "      <td>WD212</td>\n",
       "      <td>Recreation and Sport Management</td>\n",
       "      <td>262</td>\n",
       "      <td>NaN</td>\n",
       "    </tr>\n",
       "    <tr>\n",
       "      <th>946</th>\n",
       "      <td>WD230</td>\n",
       "      <td>Mechanical and Manufacturing Engineering</td>\n",
       "      <td>230</td>\n",
       "      <td>230</td>\n",
       "    </tr>\n",
       "    <tr>\n",
       "      <th>947</th>\n",
       "      <td>WD231</td>\n",
       "      <td>Early Childhood Care and Education</td>\n",
       "      <td>266</td>\n",
       "      <td>NaN</td>\n",
       "    </tr>\n",
       "    <tr>\n",
       "      <th>948</th>\n",
       "      <td>WD232</td>\n",
       "      <td>Business Information Systems</td>\n",
       "      <td>261</td>\n",
       "      <td>261</td>\n",
       "    </tr>\n",
       "  </tbody>\n",
       "</table>\n",
       "<p>949 rows × 4 columns</p>\n",
       "</div>"
      ],
      "text/plain": [
       "      code                                              title pointsR1  \\\n",
       "0    AL801     Software Design for Virtual Reality and Gaming      300   \n",
       "1    AL802  Software Design in Artificial Intelligence for...      313   \n",
       "2    AL803  Software Design for Mobile Apps and Connected ...      350   \n",
       "3    AL805    Computer Engineering for Network Infrastructure      321   \n",
       "4    AL810                                 Quantity Surveying      328   \n",
       "..     ...                                                ...      ...   \n",
       "944  WD211                                 Creative Computing      270   \n",
       "945  WD212                    Recreation and Sport Management      262   \n",
       "946  WD230           Mechanical and Manufacturing Engineering      230   \n",
       "947  WD231                 Early Childhood Care and Education      266   \n",
       "948  WD232                       Business Information Systems      261   \n",
       "\n",
       "    pointsR2  \n",
       "0        NaN  \n",
       "1        NaN  \n",
       "2        NaN  \n",
       "3        NaN  \n",
       "4        NaN  \n",
       "..       ...  \n",
       "944      NaN  \n",
       "945      NaN  \n",
       "946      230  \n",
       "947      NaN  \n",
       "948      261  \n",
       "\n",
       "[949 rows x 4 columns]"
      ]
     },
     "execution_count": 13,
     "metadata": {},
     "output_type": "execute_result"
    }
   ],
   "source": [
    "# Take a quick look at the data to check \n",
    "df2021"
   ]
  },
  {
   "cell_type": "code",
   "execution_count": 14,
   "id": "52c71fda",
   "metadata": {
    "scrolled": true
   },
   "outputs": [
    {
     "data": {
      "text/html": [
       "<div>\n",
       "<style scoped>\n",
       "    .dataframe tbody tr th:only-of-type {\n",
       "        vertical-align: middle;\n",
       "    }\n",
       "\n",
       "    .dataframe tbody tr th {\n",
       "        vertical-align: top;\n",
       "    }\n",
       "\n",
       "    .dataframe thead th {\n",
       "        text-align: right;\n",
       "    }\n",
       "</style>\n",
       "<table border=\"1\" class=\"dataframe\">\n",
       "  <thead>\n",
       "    <tr style=\"text-align: right;\">\n",
       "      <th></th>\n",
       "      <th>code</th>\n",
       "      <th>title</th>\n",
       "      <th>pointsR1</th>\n",
       "      <th>pointsR2</th>\n",
       "    </tr>\n",
       "  </thead>\n",
       "  <tbody>\n",
       "    <tr>\n",
       "      <th>0</th>\n",
       "      <td>AL801</td>\n",
       "      <td>Software Design for Virtual Reality and Gaming</td>\n",
       "      <td>300</td>\n",
       "      <td>NaN</td>\n",
       "    </tr>\n",
       "    <tr>\n",
       "      <th>1</th>\n",
       "      <td>AL802</td>\n",
       "      <td>Software Design in Artificial Intelligence for...</td>\n",
       "      <td>313</td>\n",
       "      <td>NaN</td>\n",
       "    </tr>\n",
       "    <tr>\n",
       "      <th>2</th>\n",
       "      <td>AL803</td>\n",
       "      <td>Software Design for Mobile Apps and Connected ...</td>\n",
       "      <td>350</td>\n",
       "      <td>NaN</td>\n",
       "    </tr>\n",
       "    <tr>\n",
       "      <th>3</th>\n",
       "      <td>AL805</td>\n",
       "      <td>Computer Engineering for Network Infrastructure</td>\n",
       "      <td>321</td>\n",
       "      <td>NaN</td>\n",
       "    </tr>\n",
       "    <tr>\n",
       "      <th>4</th>\n",
       "      <td>AL810</td>\n",
       "      <td>Quantity Surveying</td>\n",
       "      <td>328</td>\n",
       "      <td>NaN</td>\n",
       "    </tr>\n",
       "    <tr>\n",
       "      <th>...</th>\n",
       "      <td>...</td>\n",
       "      <td>...</td>\n",
       "      <td>...</td>\n",
       "      <td>...</td>\n",
       "    </tr>\n",
       "    <tr>\n",
       "      <th>944</th>\n",
       "      <td>WD211</td>\n",
       "      <td>Creative Computing</td>\n",
       "      <td>270</td>\n",
       "      <td>NaN</td>\n",
       "    </tr>\n",
       "    <tr>\n",
       "      <th>945</th>\n",
       "      <td>WD212</td>\n",
       "      <td>Recreation and Sport Management</td>\n",
       "      <td>262</td>\n",
       "      <td>NaN</td>\n",
       "    </tr>\n",
       "    <tr>\n",
       "      <th>946</th>\n",
       "      <td>WD230</td>\n",
       "      <td>Mechanical and Manufacturing Engineering</td>\n",
       "      <td>230</td>\n",
       "      <td>230</td>\n",
       "    </tr>\n",
       "    <tr>\n",
       "      <th>947</th>\n",
       "      <td>WD231</td>\n",
       "      <td>Early Childhood Care and Education</td>\n",
       "      <td>266</td>\n",
       "      <td>NaN</td>\n",
       "    </tr>\n",
       "    <tr>\n",
       "      <th>948</th>\n",
       "      <td>WD232</td>\n",
       "      <td>Business Information Systems</td>\n",
       "      <td>261</td>\n",
       "      <td>261</td>\n",
       "    </tr>\n",
       "  </tbody>\n",
       "</table>\n",
       "<p>949 rows × 4 columns</p>\n",
       "</div>"
      ],
      "text/plain": [
       "      code                                              title pointsR1  \\\n",
       "0    AL801     Software Design for Virtual Reality and Gaming      300   \n",
       "1    AL802  Software Design in Artificial Intelligence for...      313   \n",
       "2    AL803  Software Design for Mobile Apps and Connected ...      350   \n",
       "3    AL805    Computer Engineering for Network Infrastructure      321   \n",
       "4    AL810                                 Quantity Surveying      328   \n",
       "..     ...                                                ...      ...   \n",
       "944  WD211                                 Creative Computing      270   \n",
       "945  WD212                    Recreation and Sport Management      262   \n",
       "946  WD230           Mechanical and Manufacturing Engineering      230   \n",
       "947  WD231                 Early Childhood Care and Education      266   \n",
       "948  WD232                       Business Information Systems      261   \n",
       "\n",
       "    pointsR2  \n",
       "0        NaN  \n",
       "1        NaN  \n",
       "2        NaN  \n",
       "3        NaN  \n",
       "4        NaN  \n",
       "..       ...  \n",
       "944      NaN  \n",
       "945      NaN  \n",
       "946      230  \n",
       "947      NaN  \n",
       "948      261  \n",
       "\n",
       "[949 rows x 4 columns]"
      ]
     },
     "execution_count": 14,
     "metadata": {},
     "output_type": "execute_result"
    }
   ],
   "source": [
    "df2021"
   ]
  },
  {
   "cell_type": "markdown",
   "id": "523743be",
   "metadata": {},
   "source": [
    "### Data cleaning"
   ]
  },
  {
   "cell_type": "markdown",
   "id": "845ff600",
   "metadata": {},
   "source": [
    "Some rows have more than numbers in the points column, for example the '*', '#' and 'AQA' are appearing on some rows. "
   ]
  },
  {
   "cell_type": "code",
   "execution_count": 15,
   "id": "add2c419",
   "metadata": {},
   "outputs": [
    {
     "data": {
      "text/plain": [
       "code                                                    MH801\n",
       "title       Early Childhood - Teaching and Learning (part-...\n",
       "pointsR1                                                  AQA\n",
       "pointsR2                                                  AQA\n",
       "Name: 842, dtype: object"
      ]
     },
     "metadata": {},
     "output_type": "display_data"
    }
   ],
   "source": [
    "display(df2021.iloc[842])"
   ]
  },
  {
   "cell_type": "code",
   "execution_count": 16,
   "id": "197c0cee",
   "metadata": {
    "scrolled": false
   },
   "outputs": [],
   "source": [
    "# # https://www.geeksforgeeks.org/python-pandas-dataframe-replace/\n",
    "# remove * & # characters\n",
    "df2021 = df2021.replace('[*,#]', '', regex = True)"
   ]
  },
  {
   "cell_type": "code",
   "execution_count": 17,
   "id": "14a3c97a",
   "metadata": {},
   "outputs": [],
   "source": [
    "# remove *, # & AQA characters\n",
    "df2021 = df2021.replace('AQA', '', regex = True)"
   ]
  },
  {
   "cell_type": "code",
   "execution_count": 18,
   "id": "0c5caeb3",
   "metadata": {
    "scrolled": true
   },
   "outputs": [
    {
     "data": {
      "text/plain": [
       "code                                                    MH801\n",
       "title       Early Childhood - Teaching and Learning (part-...\n",
       "pointsR1                                                     \n",
       "pointsR2                                                     \n",
       "Name: 842, dtype: object"
      ]
     },
     "metadata": {},
     "output_type": "display_data"
    }
   ],
   "source": [
    "# Show row 842 after removing the non numerical characters\n",
    "display(df2021.iloc[842])"
   ]
  },
  {
   "cell_type": "markdown",
   "id": "3258cc75",
   "metadata": {},
   "source": [
    "### Data types"
   ]
  },
  {
   "cell_type": "markdown",
   "id": "fd22fbeb",
   "metadata": {},
   "source": [
    "We will be comparing the points data for each year. In order to compare points data, the data type will need to be float or integer.  \n",
    "Let's check the data types"
   ]
  },
  {
   "cell_type": "code",
   "execution_count": 19,
   "id": "fa117fc9",
   "metadata": {},
   "outputs": [
    {
     "data": {
      "text/plain": [
       "code        object\n",
       "title       object\n",
       "pointsR1    object\n",
       "pointsR2    object\n",
       "dtype: object"
      ]
     },
     "execution_count": 19,
     "metadata": {},
     "output_type": "execute_result"
    }
   ],
   "source": [
    "# Check the data types\n",
    "df2021.dtypes"
   ]
  },
  {
   "cell_type": "code",
   "execution_count": 20,
   "id": "5af7cefd",
   "metadata": {
    "scrolled": false
   },
   "outputs": [],
   "source": [
    "# https://pandas.pydata.org/docs/reference/api/pandas.to_numeric.html\n",
    "# change the points columns from object to float\n",
    "df2021[['pointsR1','pointsR2']]= df2021[['pointsR1','pointsR2']].apply(pd.to_numeric)"
   ]
  },
  {
   "cell_type": "code",
   "execution_count": 21,
   "id": "fe71a429",
   "metadata": {},
   "outputs": [
    {
     "name": "stdout",
     "output_type": "stream",
     "text": [
      "      code                                              title  pointsR1  \\\n",
      "0    AL801     Software Design for Virtual Reality and Gaming     300.0   \n",
      "1    AL802  Software Design in Artificial Intelligence for...     313.0   \n",
      "2    AL803  Software Design for Mobile Apps and Connected ...     350.0   \n",
      "3    AL805    Computer Engineering for Network Infrastructure     321.0   \n",
      "4    AL810                                 Quantity Surveying     328.0   \n",
      "..     ...                                                ...       ...   \n",
      "944  WD211                                 Creative Computing     270.0   \n",
      "945  WD212                    Recreation and Sport Management     262.0   \n",
      "946  WD230           Mechanical and Manufacturing Engineering     230.0   \n",
      "947  WD231                 Early Childhood Care and Education     266.0   \n",
      "948  WD232                       Business Information Systems     261.0   \n",
      "\n",
      "     pointsR2  \n",
      "0         NaN  \n",
      "1         NaN  \n",
      "2         NaN  \n",
      "3         NaN  \n",
      "4         NaN  \n",
      "..        ...  \n",
      "944       NaN  \n",
      "945       NaN  \n",
      "946     230.0  \n",
      "947       NaN  \n",
      "948     261.0  \n",
      "\n",
      "[949 rows x 4 columns]\n"
     ]
    }
   ],
   "source": [
    "print (df2021)"
   ]
  },
  {
   "cell_type": "code",
   "execution_count": 22,
   "id": "8772c9af",
   "metadata": {},
   "outputs": [
    {
     "data": {
      "text/plain": [
       "code         object\n",
       "title        object\n",
       "pointsR1    float64\n",
       "pointsR2    float64\n",
       "dtype: object"
      ]
     },
     "execution_count": 22,
     "metadata": {},
     "output_type": "execute_result"
    }
   ],
   "source": [
    "df2021.dtypes"
   ]
  },
  {
   "cell_type": "markdown",
   "id": "936fabda",
   "metadata": {},
   "source": [
    "### Save clean data"
   ]
  },
  {
   "cell_type": "markdown",
   "id": "7b22655c",
   "metadata": {},
   "source": [
    "Now that we have cleaned the 2021 data, I'll save a copy of the data"
   ]
  },
  {
   "cell_type": "code",
   "execution_count": 23,
   "id": "210df263",
   "metadata": {},
   "outputs": [],
   "source": [
    "# Create a file path for the pandas data\n",
    "path2021clean = 'data/cao2021clean_' + nowstr + '.csv'"
   ]
  },
  {
   "cell_type": "code",
   "execution_count": 24,
   "id": "2d615759",
   "metadata": {},
   "outputs": [],
   "source": [
    "# Save pandas data frame to disk\n",
    "df2021.to_csv(path2021clean) "
   ]
  },
  {
   "cell_type": "markdown",
   "id": "0e2080ad",
   "metadata": {},
   "source": [
    "<br>\n",
    "\n",
    "## 2020 Points\n",
    "\n",
    "https://www.cao.ie/index.php?page=points&p=2020&bb=points\n",
    "\n",
    "***"
   ]
  },
  {
   "cell_type": "markdown",
   "id": "2864e6e4",
   "metadata": {},
   "source": [
    "I will download the 2020 points from an xlsx filem the link to the file is listed below:"
   ]
  },
  {
   "cell_type": "code",
   "execution_count": 25,
   "id": "4a1c0a5f",
   "metadata": {
    "scrolled": false
   },
   "outputs": [],
   "source": [
    "url2020 = 'http://www2.cao.ie/points/CAOPointsCharts2020.xlsx'"
   ]
  },
  {
   "cell_type": "markdown",
   "id": "292b04c8",
   "metadata": {},
   "source": [
    "<br>\n",
    "\n",
    "### Save original 2020 dataset\n",
    "\n",
    "***"
   ]
  },
  {
   "cell_type": "code",
   "execution_count": 26,
   "id": "8958fdb3",
   "metadata": {
    "scrolled": false
   },
   "outputs": [],
   "source": [
    "# Create a file path for the original data\n",
    "pathxlsx = 'data/cao2020_' + nowstr + '.xlsx'"
   ]
  },
  {
   "cell_type": "code",
   "execution_count": 27,
   "id": "085207b9",
   "metadata": {
    "scrolled": false
   },
   "outputs": [
    {
     "data": {
      "text/plain": [
       "('data/cao2020_20211219_211028.xlsx',\n",
       " <http.client.HTTPMessage at 0x28a096f1a00>)"
      ]
     },
     "execution_count": 27,
     "metadata": {},
     "output_type": "execute_result"
    }
   ],
   "source": [
    "# Save original file to disk\n",
    "urlrq.urlretrieve(url2020, pathxlsx)"
   ]
  },
  {
   "cell_type": "markdown",
   "id": "444c55e6",
   "metadata": {},
   "source": [
    "<br>\n",
    "\n",
    "### Load Spreadsheet using pandas\n",
    "\n",
    "***"
   ]
  },
  {
   "cell_type": "code",
   "execution_count": 28,
   "id": "937506c7",
   "metadata": {
    "scrolled": false
   },
   "outputs": [],
   "source": [
    "# Download and parse the excel spreadsheet\n",
    "df2020 = pd.read_excel(url2020, skiprows=10)"
   ]
  },
  {
   "cell_type": "code",
   "execution_count": 29,
   "id": "efb99bf4",
   "metadata": {
    "scrolled": false
   },
   "outputs": [
    {
     "data": {
      "text/html": [
       "<div>\n",
       "<style scoped>\n",
       "    .dataframe tbody tr th:only-of-type {\n",
       "        vertical-align: middle;\n",
       "    }\n",
       "\n",
       "    .dataframe tbody tr th {\n",
       "        vertical-align: top;\n",
       "    }\n",
       "\n",
       "    .dataframe thead th {\n",
       "        text-align: right;\n",
       "    }\n",
       "</style>\n",
       "<table border=\"1\" class=\"dataframe\">\n",
       "  <thead>\n",
       "    <tr style=\"text-align: right;\">\n",
       "      <th></th>\n",
       "      <th>CATEGORY (i.e.ISCED description)</th>\n",
       "      <th>COURSE TITLE</th>\n",
       "      <th>COURSE CODE2</th>\n",
       "      <th>R1 POINTS</th>\n",
       "      <th>R1 Random *</th>\n",
       "      <th>R2 POINTS</th>\n",
       "      <th>R2 Random*</th>\n",
       "      <th>EOS</th>\n",
       "      <th>EOS Random *</th>\n",
       "      <th>EOS Mid-point</th>\n",
       "      <th>...</th>\n",
       "      <th>avp</th>\n",
       "      <th>v</th>\n",
       "      <th>Column1</th>\n",
       "      <th>Column2</th>\n",
       "      <th>Column3</th>\n",
       "      <th>Column4</th>\n",
       "      <th>Column5</th>\n",
       "      <th>Column6</th>\n",
       "      <th>Column7</th>\n",
       "      <th>Column8</th>\n",
       "    </tr>\n",
       "  </thead>\n",
       "  <tbody>\n",
       "    <tr>\n",
       "      <th>0</th>\n",
       "      <td>Business and administration</td>\n",
       "      <td>International Business</td>\n",
       "      <td>AC120</td>\n",
       "      <td>209</td>\n",
       "      <td>NaN</td>\n",
       "      <td>NaN</td>\n",
       "      <td>NaN</td>\n",
       "      <td>209</td>\n",
       "      <td>NaN</td>\n",
       "      <td>280</td>\n",
       "      <td>...</td>\n",
       "      <td>NaN</td>\n",
       "      <td>NaN</td>\n",
       "      <td>NaN</td>\n",
       "      <td>NaN</td>\n",
       "      <td>NaN</td>\n",
       "      <td>NaN</td>\n",
       "      <td>NaN</td>\n",
       "      <td>NaN</td>\n",
       "      <td>NaN</td>\n",
       "      <td>NaN</td>\n",
       "    </tr>\n",
       "    <tr>\n",
       "      <th>1</th>\n",
       "      <td>Humanities (except languages)</td>\n",
       "      <td>Liberal Arts</td>\n",
       "      <td>AC137</td>\n",
       "      <td>252</td>\n",
       "      <td>NaN</td>\n",
       "      <td>NaN</td>\n",
       "      <td>NaN</td>\n",
       "      <td>252</td>\n",
       "      <td>NaN</td>\n",
       "      <td>270</td>\n",
       "      <td>...</td>\n",
       "      <td>NaN</td>\n",
       "      <td>NaN</td>\n",
       "      <td>NaN</td>\n",
       "      <td>NaN</td>\n",
       "      <td>NaN</td>\n",
       "      <td>NaN</td>\n",
       "      <td>NaN</td>\n",
       "      <td>NaN</td>\n",
       "      <td>NaN</td>\n",
       "      <td>NaN</td>\n",
       "    </tr>\n",
       "    <tr>\n",
       "      <th>2</th>\n",
       "      <td>Arts</td>\n",
       "      <td>First Year Art &amp; Design (Common Entry,portfolio)</td>\n",
       "      <td>AD101</td>\n",
       "      <td>#+matric</td>\n",
       "      <td>NaN</td>\n",
       "      <td>NaN</td>\n",
       "      <td>NaN</td>\n",
       "      <td>#+matric</td>\n",
       "      <td>NaN</td>\n",
       "      <td>#+matric</td>\n",
       "      <td>...</td>\n",
       "      <td>NaN</td>\n",
       "      <td>NaN</td>\n",
       "      <td>NaN</td>\n",
       "      <td>NaN</td>\n",
       "      <td>NaN</td>\n",
       "      <td>NaN</td>\n",
       "      <td>NaN</td>\n",
       "      <td>NaN</td>\n",
       "      <td>NaN</td>\n",
       "      <td>NaN</td>\n",
       "    </tr>\n",
       "    <tr>\n",
       "      <th>3</th>\n",
       "      <td>Arts</td>\n",
       "      <td>Graphic Design and Moving Image Design (portfo...</td>\n",
       "      <td>AD102</td>\n",
       "      <td>#+matric</td>\n",
       "      <td>NaN</td>\n",
       "      <td>NaN</td>\n",
       "      <td>NaN</td>\n",
       "      <td>#+matric</td>\n",
       "      <td>NaN</td>\n",
       "      <td>#+matric</td>\n",
       "      <td>...</td>\n",
       "      <td>NaN</td>\n",
       "      <td>NaN</td>\n",
       "      <td>NaN</td>\n",
       "      <td>NaN</td>\n",
       "      <td>NaN</td>\n",
       "      <td>NaN</td>\n",
       "      <td>NaN</td>\n",
       "      <td>NaN</td>\n",
       "      <td>NaN</td>\n",
       "      <td>NaN</td>\n",
       "    </tr>\n",
       "    <tr>\n",
       "      <th>4</th>\n",
       "      <td>Arts</td>\n",
       "      <td>Textile &amp; Surface Design and Jewellery &amp; Objec...</td>\n",
       "      <td>AD103</td>\n",
       "      <td>#+matric</td>\n",
       "      <td>NaN</td>\n",
       "      <td>NaN</td>\n",
       "      <td>NaN</td>\n",
       "      <td>#+matric</td>\n",
       "      <td>NaN</td>\n",
       "      <td>#+matric</td>\n",
       "      <td>...</td>\n",
       "      <td>NaN</td>\n",
       "      <td>NaN</td>\n",
       "      <td>NaN</td>\n",
       "      <td>NaN</td>\n",
       "      <td>NaN</td>\n",
       "      <td>NaN</td>\n",
       "      <td>NaN</td>\n",
       "      <td>NaN</td>\n",
       "      <td>NaN</td>\n",
       "      <td>NaN</td>\n",
       "    </tr>\n",
       "    <tr>\n",
       "      <th>...</th>\n",
       "      <td>...</td>\n",
       "      <td>...</td>\n",
       "      <td>...</td>\n",
       "      <td>...</td>\n",
       "      <td>...</td>\n",
       "      <td>...</td>\n",
       "      <td>...</td>\n",
       "      <td>...</td>\n",
       "      <td>...</td>\n",
       "      <td>...</td>\n",
       "      <td>...</td>\n",
       "      <td>...</td>\n",
       "      <td>...</td>\n",
       "      <td>...</td>\n",
       "      <td>...</td>\n",
       "      <td>...</td>\n",
       "      <td>...</td>\n",
       "      <td>...</td>\n",
       "      <td>...</td>\n",
       "      <td>...</td>\n",
       "      <td>...</td>\n",
       "    </tr>\n",
       "    <tr>\n",
       "      <th>1459</th>\n",
       "      <td>Manufacturing and processing</td>\n",
       "      <td>Manufacturing Engineering</td>\n",
       "      <td>WD208</td>\n",
       "      <td>188</td>\n",
       "      <td>NaN</td>\n",
       "      <td>NaN</td>\n",
       "      <td>NaN</td>\n",
       "      <td>188</td>\n",
       "      <td>NaN</td>\n",
       "      <td>339</td>\n",
       "      <td>...</td>\n",
       "      <td>NaN</td>\n",
       "      <td>NaN</td>\n",
       "      <td>NaN</td>\n",
       "      <td>NaN</td>\n",
       "      <td>NaN</td>\n",
       "      <td>NaN</td>\n",
       "      <td>NaN</td>\n",
       "      <td>NaN</td>\n",
       "      <td>NaN</td>\n",
       "      <td>NaN</td>\n",
       "    </tr>\n",
       "    <tr>\n",
       "      <th>1460</th>\n",
       "      <td>Information and Communication Technologies (ICTs)</td>\n",
       "      <td>Software Systems Development</td>\n",
       "      <td>WD210</td>\n",
       "      <td>279</td>\n",
       "      <td>NaN</td>\n",
       "      <td>NaN</td>\n",
       "      <td>NaN</td>\n",
       "      <td>279</td>\n",
       "      <td>NaN</td>\n",
       "      <td>337</td>\n",
       "      <td>...</td>\n",
       "      <td>NaN</td>\n",
       "      <td>NaN</td>\n",
       "      <td>NaN</td>\n",
       "      <td>NaN</td>\n",
       "      <td>NaN</td>\n",
       "      <td>NaN</td>\n",
       "      <td>NaN</td>\n",
       "      <td>NaN</td>\n",
       "      <td>NaN</td>\n",
       "      <td>NaN</td>\n",
       "    </tr>\n",
       "    <tr>\n",
       "      <th>1461</th>\n",
       "      <td>Information and Communication Technologies (ICTs)</td>\n",
       "      <td>Creative Computing</td>\n",
       "      <td>WD211</td>\n",
       "      <td>271</td>\n",
       "      <td>NaN</td>\n",
       "      <td>NaN</td>\n",
       "      <td>NaN</td>\n",
       "      <td>271</td>\n",
       "      <td>NaN</td>\n",
       "      <td>318</td>\n",
       "      <td>...</td>\n",
       "      <td>NaN</td>\n",
       "      <td>NaN</td>\n",
       "      <td>NaN</td>\n",
       "      <td>NaN</td>\n",
       "      <td>NaN</td>\n",
       "      <td>NaN</td>\n",
       "      <td>NaN</td>\n",
       "      <td>NaN</td>\n",
       "      <td>NaN</td>\n",
       "      <td>NaN</td>\n",
       "    </tr>\n",
       "    <tr>\n",
       "      <th>1462</th>\n",
       "      <td>Personal services</td>\n",
       "      <td>Recreation and Sport Management</td>\n",
       "      <td>WD212</td>\n",
       "      <td>270</td>\n",
       "      <td>NaN</td>\n",
       "      <td>NaN</td>\n",
       "      <td>NaN</td>\n",
       "      <td>270</td>\n",
       "      <td>NaN</td>\n",
       "      <td>349</td>\n",
       "      <td>...</td>\n",
       "      <td>NaN</td>\n",
       "      <td>NaN</td>\n",
       "      <td>NaN</td>\n",
       "      <td>NaN</td>\n",
       "      <td>NaN</td>\n",
       "      <td>NaN</td>\n",
       "      <td>NaN</td>\n",
       "      <td>NaN</td>\n",
       "      <td>NaN</td>\n",
       "      <td>NaN</td>\n",
       "    </tr>\n",
       "    <tr>\n",
       "      <th>1463</th>\n",
       "      <td>Engineering and engineering trades</td>\n",
       "      <td>Mechanical and Manufacturing Engineering</td>\n",
       "      <td>WD230</td>\n",
       "      <td>253</td>\n",
       "      <td>NaN</td>\n",
       "      <td>NaN</td>\n",
       "      <td>NaN</td>\n",
       "      <td>253</td>\n",
       "      <td>NaN</td>\n",
       "      <td>369</td>\n",
       "      <td>...</td>\n",
       "      <td>NaN</td>\n",
       "      <td>NaN</td>\n",
       "      <td>NaN</td>\n",
       "      <td>NaN</td>\n",
       "      <td>NaN</td>\n",
       "      <td>NaN</td>\n",
       "      <td>NaN</td>\n",
       "      <td>NaN</td>\n",
       "      <td>NaN</td>\n",
       "      <td>NaN</td>\n",
       "    </tr>\n",
       "  </tbody>\n",
       "</table>\n",
       "<p>1464 rows × 23 columns</p>\n",
       "</div>"
      ],
      "text/plain": [
       "                       CATEGORY (i.e.ISCED description)  \\\n",
       "0                           Business and administration   \n",
       "1                         Humanities (except languages)   \n",
       "2                                                  Arts   \n",
       "3                                                  Arts   \n",
       "4                                                  Arts   \n",
       "...                                                 ...   \n",
       "1459                       Manufacturing and processing   \n",
       "1460  Information and Communication Technologies (ICTs)   \n",
       "1461  Information and Communication Technologies (ICTs)   \n",
       "1462                                  Personal services   \n",
       "1463                 Engineering and engineering trades   \n",
       "\n",
       "                                           COURSE TITLE COURSE CODE2  \\\n",
       "0                                International Business        AC120   \n",
       "1                                          Liberal Arts        AC137   \n",
       "2      First Year Art & Design (Common Entry,portfolio)        AD101   \n",
       "3     Graphic Design and Moving Image Design (portfo...        AD102   \n",
       "4     Textile & Surface Design and Jewellery & Objec...        AD103   \n",
       "...                                                 ...          ...   \n",
       "1459                          Manufacturing Engineering        WD208   \n",
       "1460                       Software Systems Development        WD210   \n",
       "1461                                 Creative Computing        WD211   \n",
       "1462                    Recreation and Sport Management        WD212   \n",
       "1463           Mechanical and Manufacturing Engineering        WD230   \n",
       "\n",
       "     R1 POINTS R1 Random * R2 POINTS R2 Random*       EOS EOS Random *  \\\n",
       "0          209         NaN       NaN        NaN       209          NaN   \n",
       "1          252         NaN       NaN        NaN       252          NaN   \n",
       "2     #+matric         NaN       NaN        NaN  #+matric          NaN   \n",
       "3     #+matric         NaN       NaN        NaN  #+matric          NaN   \n",
       "4     #+matric         NaN       NaN        NaN  #+matric          NaN   \n",
       "...        ...         ...       ...        ...       ...          ...   \n",
       "1459       188         NaN       NaN        NaN       188          NaN   \n",
       "1460       279         NaN       NaN        NaN       279          NaN   \n",
       "1461       271         NaN       NaN        NaN       271          NaN   \n",
       "1462       270         NaN       NaN        NaN       270          NaN   \n",
       "1463       253         NaN       NaN        NaN       253          NaN   \n",
       "\n",
       "     EOS Mid-point  ...  avp    v Column1 Column2 Column3  Column4  Column5  \\\n",
       "0              280  ...  NaN  NaN     NaN     NaN     NaN      NaN      NaN   \n",
       "1              270  ...  NaN  NaN     NaN     NaN     NaN      NaN      NaN   \n",
       "2         #+matric  ...  NaN  NaN     NaN     NaN     NaN      NaN      NaN   \n",
       "3         #+matric  ...  NaN  NaN     NaN     NaN     NaN      NaN      NaN   \n",
       "4         #+matric  ...  NaN  NaN     NaN     NaN     NaN      NaN      NaN   \n",
       "...            ...  ...  ...  ...     ...     ...     ...      ...      ...   \n",
       "1459           339  ...  NaN  NaN     NaN     NaN     NaN      NaN      NaN   \n",
       "1460           337  ...  NaN  NaN     NaN     NaN     NaN      NaN      NaN   \n",
       "1461           318  ...  NaN  NaN     NaN     NaN     NaN      NaN      NaN   \n",
       "1462           349  ...  NaN  NaN     NaN     NaN     NaN      NaN      NaN   \n",
       "1463           369  ...  NaN  NaN     NaN     NaN     NaN      NaN      NaN   \n",
       "\n",
       "      Column6  Column7  Column8  \n",
       "0         NaN      NaN      NaN  \n",
       "1         NaN      NaN      NaN  \n",
       "2         NaN      NaN      NaN  \n",
       "3         NaN      NaN      NaN  \n",
       "4         NaN      NaN      NaN  \n",
       "...       ...      ...      ...  \n",
       "1459      NaN      NaN      NaN  \n",
       "1460      NaN      NaN      NaN  \n",
       "1461      NaN      NaN      NaN  \n",
       "1462      NaN      NaN      NaN  \n",
       "1463      NaN      NaN      NaN  \n",
       "\n",
       "[1464 rows x 23 columns]"
      ]
     },
     "execution_count": 29,
     "metadata": {},
     "output_type": "execute_result"
    }
   ],
   "source": [
    "df2020"
   ]
  },
  {
   "cell_type": "code",
   "execution_count": null,
   "id": "70db6311",
   "metadata": {},
   "outputs": [],
   "source": []
  },
  {
   "cell_type": "code",
   "execution_count": 30,
   "id": "9fcd51ef",
   "metadata": {
    "scrolled": false
   },
   "outputs": [
    {
     "data": {
      "text/plain": [
       "CATEGORY (i.e.ISCED description)          Engineering and engineering trades\n",
       "COURSE TITLE                        Mechanical and Manufacturing Engineering\n",
       "COURSE CODE2                                                           WD230\n",
       "R1 POINTS                                                                253\n",
       "R1 Random *                                                              NaN\n",
       "R2 POINTS                                                                NaN\n",
       "R2 Random*                                                               NaN\n",
       "EOS                                                                      253\n",
       "EOS Random *                                                             NaN\n",
       "EOS Mid-point                                                            369\n",
       "LEVEL                                                                      8\n",
       "HEI                                        Waterford Institute of Technology\n",
       "Test/Interview #                                                         NaN\n",
       "avp                                                                      NaN\n",
       "v                                                                        NaN\n",
       "Column1                                                                  NaN\n",
       "Column2                                                                  NaN\n",
       "Column3                                                                  NaN\n",
       "Column4                                                                  NaN\n",
       "Column5                                                                  NaN\n",
       "Column6                                                                  NaN\n",
       "Column7                                                                  NaN\n",
       "Column8                                                                  NaN\n",
       "Name: 1463, dtype: object"
      ]
     },
     "execution_count": 30,
     "metadata": {},
     "output_type": "execute_result"
    }
   ],
   "source": [
    "# Spot check random row\n",
    "df2020.iloc[1463]"
   ]
  },
  {
   "cell_type": "code",
   "execution_count": 31,
   "id": "8026bdd5",
   "metadata": {
    "scrolled": false
   },
   "outputs": [],
   "source": [
    "# Create a file path for the pandas data\n",
    "path2020 = 'data/cao2020_' + nowstr + '.csv'"
   ]
  },
  {
   "cell_type": "code",
   "execution_count": 32,
   "id": "650719cb",
   "metadata": {
    "scrolled": false
   },
   "outputs": [],
   "source": [
    "# Save pandas data frame to disk\n",
    "df2020.to_csv(path2020) "
   ]
  },
  {
   "cell_type": "code",
   "execution_count": 33,
   "id": "a5a001e6",
   "metadata": {
    "scrolled": false
   },
   "outputs": [
    {
     "data": {
      "text/plain": [
       "(1464, 23)"
      ]
     },
     "execution_count": 33,
     "metadata": {},
     "output_type": "execute_result"
    }
   ],
   "source": [
    "######################## testing\n",
    "\n",
    "# Check the initial shape of the DataFrame\n",
    "df2020.shape"
   ]
  },
  {
   "cell_type": "markdown",
   "id": "cb6cedbc",
   "metadata": {},
   "source": [
    "### Course level"
   ]
  },
  {
   "cell_type": "markdown",
   "id": "af14a0f0",
   "metadata": {},
   "source": [
    "From reviewing the data load, I can see we have Level, 6, 7 & 8 courses listed. The analysis I am doing is only on Level 8 courses so I need only select the courses that meet this criteria. "
   ]
  },
  {
   "cell_type": "code",
   "execution_count": 34,
   "id": "70b62b2d",
   "metadata": {
    "scrolled": false
   },
   "outputs": [
    {
     "data": {
      "text/plain": [
       "(1027, 23)"
      ]
     },
     "execution_count": 34,
     "metadata": {},
     "output_type": "execute_result"
    }
   ],
   "source": [
    "## https://www.shanelynn.ie/pandas-drop-delete-dataframe-rows-columns/    \n",
    "# Create a new dataframe with courses where the level is higher than 7\n",
    "df2020new = df2020.loc[df2020[\"LEVEL\"] > 7]\n",
    "df2020new.shape"
   ]
  },
  {
   "cell_type": "code",
   "execution_count": 35,
   "id": "2e7277dd",
   "metadata": {},
   "outputs": [
    {
     "data": {
      "text/plain": [
       "['CATEGORY (i.e.ISCED description)',\n",
       " 'COURSE TITLE',\n",
       " 'COURSE CODE2',\n",
       " 'R1 POINTS',\n",
       " 'R1 Random *',\n",
       " 'R2 POINTS',\n",
       " 'R2 Random*',\n",
       " 'EOS',\n",
       " 'EOS Random *',\n",
       " 'EOS Mid-point',\n",
       " 'LEVEL',\n",
       " 'HEI',\n",
       " 'Test/Interview #',\n",
       " 'avp',\n",
       " 'v',\n",
       " 'Column1',\n",
       " 'Column2',\n",
       " 'Column3',\n",
       " 'Column4',\n",
       " 'Column5',\n",
       " 'Column6',\n",
       " 'Column7',\n",
       " 'Column8']"
      ]
     },
     "execution_count": 35,
     "metadata": {},
     "output_type": "execute_result"
    }
   ],
   "source": [
    "list(df2020new.columns)"
   ]
  },
  {
   "cell_type": "markdown",
   "id": "c748826f",
   "metadata": {},
   "source": [
    " ### Data Cleaning"
   ]
  },
  {
   "cell_type": "markdown",
   "id": "06c3746d",
   "metadata": {},
   "source": [
    "Some rows have more than numbers in the points column, for example the *, # and AQA are appearing on some rows."
   ]
  },
  {
   "cell_type": "code",
   "execution_count": 36,
   "id": "6c102782",
   "metadata": {},
   "outputs": [],
   "source": [
    "# remove *, # & AQA characters\n",
    "# df2019 = df2019.replace('[+mat]', '')\n",
    "df2020new = df2020new.replace(to_replace =\"#+matric\",value ='')"
   ]
  },
  {
   "cell_type": "code",
   "execution_count": 37,
   "id": "240247a1",
   "metadata": {},
   "outputs": [],
   "source": [
    "# remove AQA characters\n",
    "df2020new = df2020new.replace(to_replace =\"AQA\",value ='')"
   ]
  },
  {
   "cell_type": "code",
   "execution_count": 38,
   "id": "b2b346cb",
   "metadata": {},
   "outputs": [],
   "source": [
    "# # https://www.geeksforgeeks.org/python-pandas-dataframe-replace/\n",
    "# remove *, # characters\n",
    "df2020new = df2020new.replace('[*,#]', '', regex = True)"
   ]
  },
  {
   "cell_type": "markdown",
   "id": "0e3bdec7",
   "metadata": {},
   "source": [
    "### Data types"
   ]
  },
  {
   "cell_type": "markdown",
   "id": "b588f478",
   "metadata": {},
   "source": [
    "We will be comparing the points data for each year. In order to compare points data, the data type will need to be float or integer.\n",
    "Let's check the data types"
   ]
  },
  {
   "cell_type": "code",
   "execution_count": 39,
   "id": "f262831a",
   "metadata": {},
   "outputs": [
    {
     "data": {
      "text/plain": [
       "CATEGORY (i.e.ISCED description)     object\n",
       "COURSE TITLE                         object\n",
       "COURSE CODE2                         object\n",
       "R1 POINTS                            object\n",
       "R1 Random *                          object\n",
       "R2 POINTS                            object\n",
       "R2 Random*                           object\n",
       "EOS                                  object\n",
       "EOS Random *                         object\n",
       "EOS Mid-point                        object\n",
       "LEVEL                                 int64\n",
       "HEI                                  object\n",
       "Test/Interview #                     object\n",
       "avp                                  object\n",
       "v                                    object\n",
       "Column1                             float64\n",
       "Column2                             float64\n",
       "Column3                             float64\n",
       "Column4                             float64\n",
       "Column5                             float64\n",
       "Column6                             float64\n",
       "Column7                             float64\n",
       "Column8                             float64\n",
       "dtype: object"
      ]
     },
     "execution_count": 39,
     "metadata": {},
     "output_type": "execute_result"
    }
   ],
   "source": [
    "df2020new.dtypes"
   ]
  },
  {
   "cell_type": "code",
   "execution_count": 40,
   "id": "c553d956",
   "metadata": {},
   "outputs": [],
   "source": [
    "# https://pandas.pydata.org/docs/reference/api/pandas.to_numeric.html\n",
    "# change the points columns from object to float\n",
    "df2020new[['R1 POINTS','R2 POINTS']] = df2020new[['R1 POINTS','R2 POINTS']].apply(pd.to_numeric)"
   ]
  },
  {
   "cell_type": "code",
   "execution_count": 41,
   "id": "b72f4ae9",
   "metadata": {},
   "outputs": [
    {
     "data": {
      "text/plain": [
       "CATEGORY (i.e.ISCED description)     object\n",
       "COURSE TITLE                         object\n",
       "COURSE CODE2                         object\n",
       "R1 POINTS                           float64\n",
       "R1 Random *                          object\n",
       "R2 POINTS                           float64\n",
       "R2 Random*                           object\n",
       "EOS                                  object\n",
       "EOS Random *                         object\n",
       "EOS Mid-point                        object\n",
       "LEVEL                                 int64\n",
       "HEI                                  object\n",
       "Test/Interview #                     object\n",
       "avp                                  object\n",
       "v                                    object\n",
       "Column1                             float64\n",
       "Column2                             float64\n",
       "Column3                             float64\n",
       "Column4                             float64\n",
       "Column5                             float64\n",
       "Column6                             float64\n",
       "Column7                             float64\n",
       "Column8                             float64\n",
       "dtype: object"
      ]
     },
     "execution_count": 41,
     "metadata": {},
     "output_type": "execute_result"
    }
   ],
   "source": [
    "df2020new.dtypes"
   ]
  },
  {
   "cell_type": "markdown",
   "id": "757d302f",
   "metadata": {},
   "source": [
    "### Save clean data"
   ]
  },
  {
   "cell_type": "markdown",
   "id": "03454eca",
   "metadata": {},
   "source": [
    "Now that we have cleaned the 2021 data, I'll save a copy of the data"
   ]
  },
  {
   "cell_type": "code",
   "execution_count": 42,
   "id": "b9381eeb",
   "metadata": {},
   "outputs": [],
   "source": [
    "# Create a file path for the pandas data\n",
    "path2020clean = 'data/cao2020clean_' + nowstr + '.csv'"
   ]
  },
  {
   "cell_type": "code",
   "execution_count": 43,
   "id": "0ad6e84c",
   "metadata": {},
   "outputs": [],
   "source": [
    "# Save pandas data frame to disk\n",
    "df2020new.to_csv(path2020clean) "
   ]
  },
  {
   "cell_type": "markdown",
   "id": "ec95af0b",
   "metadata": {},
   "source": [
    "<br>\n",
    "\n",
    "## 2019 Points \n",
    "https://www.cao.ie/index.php?page=points&p=2019&bb=points\n",
    "***"
   ]
  },
  {
   "cell_type": "markdown",
   "id": "a6a51215",
   "metadata": {},
   "source": [
    "Another format that data is available on the internet is on PDFs. The 2019 points are available in this format, the link is as follows http://www2.cao.ie/points/lvl8_19.pdf"
   ]
  },
  {
   "cell_type": "markdown",
   "id": "8461fd34",
   "metadata": {},
   "source": [
    "### Steps to reproduce\n",
    "\n",
    "1. Download original pdf file.\n",
    "2. Open original pdf file in Microsoft Word.\n",
    "3. Save Microsoft Word's converted PDF in docx format.\n",
    "4. Re-save Word document for editing.\n",
    "5. Delete headers and footers.\n",
    "6. Delete preamble on page 1.\n",
    "7. Select all and copy.\n",
    "8. Paste into Notepad ++.\n",
    "9. Remove HEI name headings and paste onto each course line. \n",
    "10. Delete blank lines.\n",
    "11. Replace double tab characters with a single. \n",
    "12. Deleted tab character at end of line 308. \n",
    "13. Change backticks to apostrophes."
   ]
  },
  {
   "cell_type": "code",
   "execution_count": 44,
   "id": "a04631aa",
   "metadata": {
    "scrolled": false
   },
   "outputs": [],
   "source": [
    "df2019 = pd.read_csv('data/cao2019_20211109_edited.csv', header=0, sep='\\t')"
   ]
  },
  {
   "cell_type": "code",
   "execution_count": 45,
   "id": "f6ffdef0",
   "metadata": {
    "scrolled": false
   },
   "outputs": [
    {
     "data": {
      "text/html": [
       "<div>\n",
       "<style scoped>\n",
       "    .dataframe tbody tr th:only-of-type {\n",
       "        vertical-align: middle;\n",
       "    }\n",
       "\n",
       "    .dataframe tbody tr th {\n",
       "        vertical-align: top;\n",
       "    }\n",
       "\n",
       "    .dataframe thead th {\n",
       "        text-align: right;\n",
       "    }\n",
       "</style>\n",
       "<table border=\"1\" class=\"dataframe\">\n",
       "  <thead>\n",
       "    <tr style=\"text-align: right;\">\n",
       "      <th></th>\n",
       "      <th>HEI</th>\n",
       "      <th>Course Code</th>\n",
       "      <th>INSTITUTION and COURSE</th>\n",
       "      <th>EOS</th>\n",
       "      <th>Mid</th>\n",
       "    </tr>\n",
       "  </thead>\n",
       "  <tbody>\n",
       "    <tr>\n",
       "      <th>0</th>\n",
       "      <td>Athlone Institute of Technology</td>\n",
       "      <td>AL801</td>\n",
       "      <td>Software Design with Virtual Reality and Gaming</td>\n",
       "      <td>304</td>\n",
       "      <td>328.0</td>\n",
       "    </tr>\n",
       "    <tr>\n",
       "      <th>1</th>\n",
       "      <td>Athlone Institute of Technology</td>\n",
       "      <td>AL802</td>\n",
       "      <td>Software Design with Cloud Computing</td>\n",
       "      <td>301</td>\n",
       "      <td>306.0</td>\n",
       "    </tr>\n",
       "    <tr>\n",
       "      <th>2</th>\n",
       "      <td>Athlone Institute of Technology</td>\n",
       "      <td>AL803</td>\n",
       "      <td>Software Design with Mobile Apps and Connected...</td>\n",
       "      <td>309</td>\n",
       "      <td>337.0</td>\n",
       "    </tr>\n",
       "    <tr>\n",
       "      <th>3</th>\n",
       "      <td>Athlone Institute of Technology</td>\n",
       "      <td>AL805</td>\n",
       "      <td>Network Management and Cloud Infrastructure</td>\n",
       "      <td>329</td>\n",
       "      <td>442.0</td>\n",
       "    </tr>\n",
       "    <tr>\n",
       "      <th>4</th>\n",
       "      <td>Athlone Institute of Technology</td>\n",
       "      <td>AL810</td>\n",
       "      <td>Quantity Surveying</td>\n",
       "      <td>307</td>\n",
       "      <td>349.0</td>\n",
       "    </tr>\n",
       "    <tr>\n",
       "      <th>...</th>\n",
       "      <td>...</td>\n",
       "      <td>...</td>\n",
       "      <td>...</td>\n",
       "      <td>...</td>\n",
       "      <td>...</td>\n",
       "    </tr>\n",
       "    <tr>\n",
       "      <th>925</th>\n",
       "      <td>Waterford Institute of Technology</td>\n",
       "      <td>WD200</td>\n",
       "      <td>Arts (options)</td>\n",
       "      <td>221</td>\n",
       "      <td>296.0</td>\n",
       "    </tr>\n",
       "    <tr>\n",
       "      <th>926</th>\n",
       "      <td>Waterford Institute of Technology</td>\n",
       "      <td>WD210</td>\n",
       "      <td>Software Systems Development</td>\n",
       "      <td>271</td>\n",
       "      <td>329.0</td>\n",
       "    </tr>\n",
       "    <tr>\n",
       "      <th>927</th>\n",
       "      <td>Waterford Institute of Technology</td>\n",
       "      <td>WD211</td>\n",
       "      <td>Creative Computing</td>\n",
       "      <td>275</td>\n",
       "      <td>322.0</td>\n",
       "    </tr>\n",
       "    <tr>\n",
       "      <th>928</th>\n",
       "      <td>Waterford Institute of Technology</td>\n",
       "      <td>WD212</td>\n",
       "      <td>Recreation and Sport Management</td>\n",
       "      <td>274</td>\n",
       "      <td>311.0</td>\n",
       "    </tr>\n",
       "    <tr>\n",
       "      <th>929</th>\n",
       "      <td>Waterford Institute of Technology</td>\n",
       "      <td>WD230</td>\n",
       "      <td>Mechanical and Manufacturing Engineering</td>\n",
       "      <td>273</td>\n",
       "      <td>348.0</td>\n",
       "    </tr>\n",
       "  </tbody>\n",
       "</table>\n",
       "<p>930 rows × 5 columns</p>\n",
       "</div>"
      ],
      "text/plain": [
       "                                   HEI Course Code  \\\n",
       "0      Athlone Institute of Technology       AL801   \n",
       "1      Athlone Institute of Technology       AL802   \n",
       "2      Athlone Institute of Technology       AL803   \n",
       "3      Athlone Institute of Technology       AL805   \n",
       "4      Athlone Institute of Technology       AL810   \n",
       "..                                 ...         ...   \n",
       "925  Waterford Institute of Technology       WD200   \n",
       "926  Waterford Institute of Technology       WD210   \n",
       "927  Waterford Institute of Technology       WD211   \n",
       "928  Waterford Institute of Technology       WD212   \n",
       "929  Waterford Institute of Technology       WD230   \n",
       "\n",
       "                                INSTITUTION and COURSE  EOS    Mid  \n",
       "0      Software Design with Virtual Reality and Gaming  304  328.0  \n",
       "1                 Software Design with Cloud Computing  301  306.0  \n",
       "2    Software Design with Mobile Apps and Connected...  309  337.0  \n",
       "3          Network Management and Cloud Infrastructure  329  442.0  \n",
       "4                                   Quantity Surveying  307  349.0  \n",
       "..                                                 ...  ...    ...  \n",
       "925                                     Arts (options)  221  296.0  \n",
       "926                       Software Systems Development  271  329.0  \n",
       "927                                 Creative Computing  275  322.0  \n",
       "928                    Recreation and Sport Management  274  311.0  \n",
       "929           Mechanical and Manufacturing Engineering  273  348.0  \n",
       "\n",
       "[930 rows x 5 columns]"
      ]
     },
     "execution_count": 45,
     "metadata": {},
     "output_type": "execute_result"
    }
   ],
   "source": [
    "df2019"
   ]
  },
  {
   "cell_type": "code",
   "execution_count": 46,
   "id": "f7a9fc5b",
   "metadata": {
    "scrolled": false
   },
   "outputs": [],
   "source": [
    "# Create a file path for the pandas data\n",
    "path2019 = 'data/cao2019_' + nowstr + '.csv'"
   ]
  },
  {
   "cell_type": "code",
   "execution_count": 47,
   "id": "1c51c370",
   "metadata": {
    "scrolled": false
   },
   "outputs": [],
   "source": [
    "# Save pandas data frame to disk\n",
    "df2019.to_csv(path2019) "
   ]
  },
  {
   "cell_type": "markdown",
   "id": "8b383cf5",
   "metadata": {},
   "source": [
    " ### Data Cleaning"
   ]
  },
  {
   "cell_type": "code",
   "execution_count": 48,
   "id": "7b43522a",
   "metadata": {},
   "outputs": [],
   "source": [
    "# remove *, # & AQA characters\n",
    "# df2019 = df2019.replace('[+mat]', '')\n",
    "df2019 = df2019.replace(to_replace =\"\\+mat\",value = '0', regex = True)"
   ]
  },
  {
   "cell_type": "code",
   "execution_count": 49,
   "id": "fd715d01",
   "metadata": {},
   "outputs": [],
   "source": [
    "# # https://www.geeksforgeeks.org/python-pandas-dataframe-replace/\n",
    "# remove *, # & AQA characters\n",
    "df2019 = df2019.replace('[*,#]', '', regex = True)"
   ]
  },
  {
   "cell_type": "markdown",
   "id": "8c8957d2",
   "metadata": {},
   "source": [
    "### Data types"
   ]
  },
  {
   "cell_type": "markdown",
   "id": "b9f139eb",
   "metadata": {},
   "source": [
    "Similar to the 2021 & 2020, since we will be comparing the points data for each year we need the data type to be a float or integer. Let's check the data types"
   ]
  },
  {
   "cell_type": "code",
   "execution_count": 50,
   "id": "294fbb1f",
   "metadata": {},
   "outputs": [
    {
     "data": {
      "text/plain": [
       "HEI                        object\n",
       "Course Code                object\n",
       "INSTITUTION and COURSE     object\n",
       "EOS                        object\n",
       "Mid                       float64\n",
       "dtype: object"
      ]
     },
     "execution_count": 50,
     "metadata": {},
     "output_type": "execute_result"
    }
   ],
   "source": [
    "df2019.dtypes"
   ]
  },
  {
   "cell_type": "code",
   "execution_count": 51,
   "id": "f72ad9da",
   "metadata": {},
   "outputs": [],
   "source": [
    "# https://pandas.pydata.org/docs/reference/api/pandas.to_numeric.html\n",
    "df2019[['EOS','Mid']] = df2019[['EOS','Mid']].apply(pd.to_numeric)\n",
    "# df2019[['Mid']] = df2019[['Mid']].apply(pd.to_numeric)"
   ]
  },
  {
   "cell_type": "code",
   "execution_count": 52,
   "id": "a73417e4",
   "metadata": {},
   "outputs": [
    {
     "data": {
      "text/plain": [
       "HEI                        object\n",
       "Course Code                object\n",
       "INSTITUTION and COURSE     object\n",
       "EOS                       float64\n",
       "Mid                       float64\n",
       "dtype: object"
      ]
     },
     "execution_count": 52,
     "metadata": {},
     "output_type": "execute_result"
    }
   ],
   "source": [
    "df2019.dtypes"
   ]
  },
  {
   "cell_type": "markdown",
   "id": "07800517",
   "metadata": {},
   "source": [
    "### Save clean data"
   ]
  },
  {
   "cell_type": "code",
   "execution_count": 53,
   "id": "d75aa743",
   "metadata": {},
   "outputs": [],
   "source": [
    "# Create a file path for the pandas data\n",
    "path2019a = 'data/cao2019a_' + nowstr + '.csv'"
   ]
  },
  {
   "cell_type": "code",
   "execution_count": 54,
   "id": "1c651713",
   "metadata": {},
   "outputs": [],
   "source": [
    "# Save pandas data frame to disk\n",
    "df2019.to_csv(path2019a) "
   ]
  },
  {
   "cell_type": "code",
   "execution_count": null,
   "id": "8a9e0623",
   "metadata": {},
   "outputs": [],
   "source": []
  },
  {
   "cell_type": "markdown",
   "id": "3b9eac93",
   "metadata": {},
   "source": [
    "<br>\n",
    "\n",
    "##  Concat and join"
   ]
  },
  {
   "cell_type": "markdown",
   "id": "67dc5aa1",
   "metadata": {},
   "source": [
    "Now that we have extract the data by year, we will need to concatenate and join the data together before we can begin analysis. "
   ]
  },
  {
   "cell_type": "markdown",
   "id": "615b2e3e",
   "metadata": {},
   "source": [
    "### Creating the dataset with all courses listed from 2019 to 2021"
   ]
  },
  {
   "cell_type": "markdown",
   "id": "7fe36a11",
   "metadata": {},
   "source": [
    "#### 1. List the 2021 courses"
   ]
  },
  {
   "cell_type": "code",
   "execution_count": 55,
   "id": "630408d7",
   "metadata": {
    "scrolled": false
   },
   "outputs": [
    {
     "data": {
      "text/html": [
       "<div>\n",
       "<style scoped>\n",
       "    .dataframe tbody tr th:only-of-type {\n",
       "        vertical-align: middle;\n",
       "    }\n",
       "\n",
       "    .dataframe tbody tr th {\n",
       "        vertical-align: top;\n",
       "    }\n",
       "\n",
       "    .dataframe thead th {\n",
       "        text-align: right;\n",
       "    }\n",
       "</style>\n",
       "<table border=\"1\" class=\"dataframe\">\n",
       "  <thead>\n",
       "    <tr style=\"text-align: right;\">\n",
       "      <th></th>\n",
       "      <th>code</th>\n",
       "      <th>title</th>\n",
       "    </tr>\n",
       "  </thead>\n",
       "  <tbody>\n",
       "    <tr>\n",
       "      <th>0</th>\n",
       "      <td>AL801</td>\n",
       "      <td>Software Design for Virtual Reality and Gaming</td>\n",
       "    </tr>\n",
       "    <tr>\n",
       "      <th>1</th>\n",
       "      <td>AL802</td>\n",
       "      <td>Software Design in Artificial Intelligence for...</td>\n",
       "    </tr>\n",
       "    <tr>\n",
       "      <th>2</th>\n",
       "      <td>AL803</td>\n",
       "      <td>Software Design for Mobile Apps and Connected ...</td>\n",
       "    </tr>\n",
       "    <tr>\n",
       "      <th>3</th>\n",
       "      <td>AL805</td>\n",
       "      <td>Computer Engineering for Network Infrastructure</td>\n",
       "    </tr>\n",
       "    <tr>\n",
       "      <th>4</th>\n",
       "      <td>AL810</td>\n",
       "      <td>Quantity Surveying</td>\n",
       "    </tr>\n",
       "    <tr>\n",
       "      <th>...</th>\n",
       "      <td>...</td>\n",
       "      <td>...</td>\n",
       "    </tr>\n",
       "    <tr>\n",
       "      <th>944</th>\n",
       "      <td>WD211</td>\n",
       "      <td>Creative Computing</td>\n",
       "    </tr>\n",
       "    <tr>\n",
       "      <th>945</th>\n",
       "      <td>WD212</td>\n",
       "      <td>Recreation and Sport Management</td>\n",
       "    </tr>\n",
       "    <tr>\n",
       "      <th>946</th>\n",
       "      <td>WD230</td>\n",
       "      <td>Mechanical and Manufacturing Engineering</td>\n",
       "    </tr>\n",
       "    <tr>\n",
       "      <th>947</th>\n",
       "      <td>WD231</td>\n",
       "      <td>Early Childhood Care and Education</td>\n",
       "    </tr>\n",
       "    <tr>\n",
       "      <th>948</th>\n",
       "      <td>WD232</td>\n",
       "      <td>Business Information Systems</td>\n",
       "    </tr>\n",
       "  </tbody>\n",
       "</table>\n",
       "<p>949 rows × 2 columns</p>\n",
       "</div>"
      ],
      "text/plain": [
       "      code                                              title\n",
       "0    AL801     Software Design for Virtual Reality and Gaming\n",
       "1    AL802  Software Design in Artificial Intelligence for...\n",
       "2    AL803  Software Design for Mobile Apps and Connected ...\n",
       "3    AL805    Computer Engineering for Network Infrastructure\n",
       "4    AL810                                 Quantity Surveying\n",
       "..     ...                                                ...\n",
       "944  WD211                                 Creative Computing\n",
       "945  WD212                    Recreation and Sport Management\n",
       "946  WD230           Mechanical and Manufacturing Engineering\n",
       "947  WD231                 Early Childhood Care and Education\n",
       "948  WD232                       Business Information Systems\n",
       "\n",
       "[949 rows x 2 columns]"
      ]
     },
     "execution_count": 55,
     "metadata": {},
     "output_type": "execute_result"
    }
   ],
   "source": [
    "courses2021 = df2021[['code', 'title']]\n",
    "courses2021"
   ]
  },
  {
   "cell_type": "markdown",
   "id": "fa7f7ad3",
   "metadata": {},
   "source": [
    "#### 2. List the 2020 courses"
   ]
  },
  {
   "cell_type": "code",
   "execution_count": 56,
   "id": "411651f1",
   "metadata": {
    "scrolled": false
   },
   "outputs": [
    {
     "data": {
      "text/html": [
       "<div>\n",
       "<style scoped>\n",
       "    .dataframe tbody tr th:only-of-type {\n",
       "        vertical-align: middle;\n",
       "    }\n",
       "\n",
       "    .dataframe tbody tr th {\n",
       "        vertical-align: top;\n",
       "    }\n",
       "\n",
       "    .dataframe thead th {\n",
       "        text-align: right;\n",
       "    }\n",
       "</style>\n",
       "<table border=\"1\" class=\"dataframe\">\n",
       "  <thead>\n",
       "    <tr style=\"text-align: right;\">\n",
       "      <th></th>\n",
       "      <th>code</th>\n",
       "      <th>title</th>\n",
       "    </tr>\n",
       "  </thead>\n",
       "  <tbody>\n",
       "    <tr>\n",
       "      <th>0</th>\n",
       "      <td>AC120</td>\n",
       "      <td>International Business</td>\n",
       "    </tr>\n",
       "    <tr>\n",
       "      <th>1</th>\n",
       "      <td>AC137</td>\n",
       "      <td>Liberal Arts</td>\n",
       "    </tr>\n",
       "    <tr>\n",
       "      <th>2</th>\n",
       "      <td>AD101</td>\n",
       "      <td>First Year Art &amp; Design (Common Entryportfolio)</td>\n",
       "    </tr>\n",
       "    <tr>\n",
       "      <th>3</th>\n",
       "      <td>AD102</td>\n",
       "      <td>Graphic Design and Moving Image Design (portfo...</td>\n",
       "    </tr>\n",
       "    <tr>\n",
       "      <th>4</th>\n",
       "      <td>AD103</td>\n",
       "      <td>Textile &amp; Surface Design and Jewellery &amp; Objec...</td>\n",
       "    </tr>\n",
       "    <tr>\n",
       "      <th>...</th>\n",
       "      <td>...</td>\n",
       "      <td>...</td>\n",
       "    </tr>\n",
       "    <tr>\n",
       "      <th>1455</th>\n",
       "      <td>WD200</td>\n",
       "      <td>Arts (options)</td>\n",
       "    </tr>\n",
       "    <tr>\n",
       "      <th>1460</th>\n",
       "      <td>WD210</td>\n",
       "      <td>Software Systems Development</td>\n",
       "    </tr>\n",
       "    <tr>\n",
       "      <th>1461</th>\n",
       "      <td>WD211</td>\n",
       "      <td>Creative Computing</td>\n",
       "    </tr>\n",
       "    <tr>\n",
       "      <th>1462</th>\n",
       "      <td>WD212</td>\n",
       "      <td>Recreation and Sport Management</td>\n",
       "    </tr>\n",
       "    <tr>\n",
       "      <th>1463</th>\n",
       "      <td>WD230</td>\n",
       "      <td>Mechanical and Manufacturing Engineering</td>\n",
       "    </tr>\n",
       "  </tbody>\n",
       "</table>\n",
       "<p>1027 rows × 2 columns</p>\n",
       "</div>"
      ],
      "text/plain": [
       "       code                                              title\n",
       "0     AC120                             International Business\n",
       "1     AC137                                       Liberal Arts\n",
       "2     AD101    First Year Art & Design (Common Entryportfolio)\n",
       "3     AD102  Graphic Design and Moving Image Design (portfo...\n",
       "4     AD103  Textile & Surface Design and Jewellery & Objec...\n",
       "...     ...                                                ...\n",
       "1455  WD200                                     Arts (options)\n",
       "1460  WD210                       Software Systems Development\n",
       "1461  WD211                                 Creative Computing\n",
       "1462  WD212                    Recreation and Sport Management\n",
       "1463  WD230           Mechanical and Manufacturing Engineering\n",
       "\n",
       "[1027 rows x 2 columns]"
      ]
     },
     "execution_count": 56,
     "metadata": {},
     "output_type": "execute_result"
    }
   ],
   "source": [
    "courses2020 = df2020new[['COURSE CODE2', 'COURSE TITLE']]\n",
    "courses2020.columns = ['code', 'title']\n",
    "courses2020"
   ]
  },
  {
   "cell_type": "markdown",
   "id": "a8c9d397",
   "metadata": {},
   "source": [
    "#### 3. List the 2019 courses"
   ]
  },
  {
   "cell_type": "code",
   "execution_count": 57,
   "id": "2584a76f",
   "metadata": {
    "scrolled": false
   },
   "outputs": [
    {
     "data": {
      "text/html": [
       "<div>\n",
       "<style scoped>\n",
       "    .dataframe tbody tr th:only-of-type {\n",
       "        vertical-align: middle;\n",
       "    }\n",
       "\n",
       "    .dataframe tbody tr th {\n",
       "        vertical-align: top;\n",
       "    }\n",
       "\n",
       "    .dataframe thead th {\n",
       "        text-align: right;\n",
       "    }\n",
       "</style>\n",
       "<table border=\"1\" class=\"dataframe\">\n",
       "  <thead>\n",
       "    <tr style=\"text-align: right;\">\n",
       "      <th></th>\n",
       "      <th>code</th>\n",
       "      <th>title</th>\n",
       "    </tr>\n",
       "  </thead>\n",
       "  <tbody>\n",
       "    <tr>\n",
       "      <th>0</th>\n",
       "      <td>AL801</td>\n",
       "      <td>Software Design with Virtual Reality and Gaming</td>\n",
       "    </tr>\n",
       "    <tr>\n",
       "      <th>1</th>\n",
       "      <td>AL802</td>\n",
       "      <td>Software Design with Cloud Computing</td>\n",
       "    </tr>\n",
       "    <tr>\n",
       "      <th>2</th>\n",
       "      <td>AL803</td>\n",
       "      <td>Software Design with Mobile Apps and Connected...</td>\n",
       "    </tr>\n",
       "    <tr>\n",
       "      <th>3</th>\n",
       "      <td>AL805</td>\n",
       "      <td>Network Management and Cloud Infrastructure</td>\n",
       "    </tr>\n",
       "    <tr>\n",
       "      <th>4</th>\n",
       "      <td>AL810</td>\n",
       "      <td>Quantity Surveying</td>\n",
       "    </tr>\n",
       "    <tr>\n",
       "      <th>...</th>\n",
       "      <td>...</td>\n",
       "      <td>...</td>\n",
       "    </tr>\n",
       "    <tr>\n",
       "      <th>925</th>\n",
       "      <td>WD200</td>\n",
       "      <td>Arts (options)</td>\n",
       "    </tr>\n",
       "    <tr>\n",
       "      <th>926</th>\n",
       "      <td>WD210</td>\n",
       "      <td>Software Systems Development</td>\n",
       "    </tr>\n",
       "    <tr>\n",
       "      <th>927</th>\n",
       "      <td>WD211</td>\n",
       "      <td>Creative Computing</td>\n",
       "    </tr>\n",
       "    <tr>\n",
       "      <th>928</th>\n",
       "      <td>WD212</td>\n",
       "      <td>Recreation and Sport Management</td>\n",
       "    </tr>\n",
       "    <tr>\n",
       "      <th>929</th>\n",
       "      <td>WD230</td>\n",
       "      <td>Mechanical and Manufacturing Engineering</td>\n",
       "    </tr>\n",
       "  </tbody>\n",
       "</table>\n",
       "<p>930 rows × 2 columns</p>\n",
       "</div>"
      ],
      "text/plain": [
       "      code                                              title\n",
       "0    AL801    Software Design with Virtual Reality and Gaming\n",
       "1    AL802               Software Design with Cloud Computing\n",
       "2    AL803  Software Design with Mobile Apps and Connected...\n",
       "3    AL805        Network Management and Cloud Infrastructure\n",
       "4    AL810                                 Quantity Surveying\n",
       "..     ...                                                ...\n",
       "925  WD200                                     Arts (options)\n",
       "926  WD210                       Software Systems Development\n",
       "927  WD211                                 Creative Computing\n",
       "928  WD212                    Recreation and Sport Management\n",
       "929  WD230           Mechanical and Manufacturing Engineering\n",
       "\n",
       "[930 rows x 2 columns]"
      ]
     },
     "execution_count": 57,
     "metadata": {},
     "output_type": "execute_result"
    }
   ],
   "source": [
    "courses2019 = df2019[['Course Code', 'INSTITUTION and COURSE']]\n",
    "courses2019.columns = ['code', 'title']\n",
    "courses2019"
   ]
  },
  {
   "cell_type": "markdown",
   "id": "1e2f1ace",
   "metadata": {},
   "source": [
    "#### 4. Combine together"
   ]
  },
  {
   "cell_type": "code",
   "execution_count": 58,
   "id": "a2c9249a",
   "metadata": {
    "scrolled": false
   },
   "outputs": [
    {
     "data": {
      "text/html": [
       "<div>\n",
       "<style scoped>\n",
       "    .dataframe tbody tr th:only-of-type {\n",
       "        vertical-align: middle;\n",
       "    }\n",
       "\n",
       "    .dataframe tbody tr th {\n",
       "        vertical-align: top;\n",
       "    }\n",
       "\n",
       "    .dataframe thead th {\n",
       "        text-align: right;\n",
       "    }\n",
       "</style>\n",
       "<table border=\"1\" class=\"dataframe\">\n",
       "  <thead>\n",
       "    <tr style=\"text-align: right;\">\n",
       "      <th></th>\n",
       "      <th>code</th>\n",
       "      <th>title</th>\n",
       "    </tr>\n",
       "  </thead>\n",
       "  <tbody>\n",
       "    <tr>\n",
       "      <th>0</th>\n",
       "      <td>AL801</td>\n",
       "      <td>Software Design for Virtual Reality and Gaming</td>\n",
       "    </tr>\n",
       "    <tr>\n",
       "      <th>1</th>\n",
       "      <td>AL802</td>\n",
       "      <td>Software Design in Artificial Intelligence for...</td>\n",
       "    </tr>\n",
       "    <tr>\n",
       "      <th>2</th>\n",
       "      <td>AL803</td>\n",
       "      <td>Software Design for Mobile Apps and Connected ...</td>\n",
       "    </tr>\n",
       "    <tr>\n",
       "      <th>3</th>\n",
       "      <td>AL805</td>\n",
       "      <td>Computer Engineering for Network Infrastructure</td>\n",
       "    </tr>\n",
       "    <tr>\n",
       "      <th>4</th>\n",
       "      <td>AL810</td>\n",
       "      <td>Quantity Surveying</td>\n",
       "    </tr>\n",
       "    <tr>\n",
       "      <th>...</th>\n",
       "      <td>...</td>\n",
       "      <td>...</td>\n",
       "    </tr>\n",
       "    <tr>\n",
       "      <th>2901</th>\n",
       "      <td>WD200</td>\n",
       "      <td>Arts (options)</td>\n",
       "    </tr>\n",
       "    <tr>\n",
       "      <th>2902</th>\n",
       "      <td>WD210</td>\n",
       "      <td>Software Systems Development</td>\n",
       "    </tr>\n",
       "    <tr>\n",
       "      <th>2903</th>\n",
       "      <td>WD211</td>\n",
       "      <td>Creative Computing</td>\n",
       "    </tr>\n",
       "    <tr>\n",
       "      <th>2904</th>\n",
       "      <td>WD212</td>\n",
       "      <td>Recreation and Sport Management</td>\n",
       "    </tr>\n",
       "    <tr>\n",
       "      <th>2905</th>\n",
       "      <td>WD230</td>\n",
       "      <td>Mechanical and Manufacturing Engineering</td>\n",
       "    </tr>\n",
       "  </tbody>\n",
       "</table>\n",
       "<p>2906 rows × 2 columns</p>\n",
       "</div>"
      ],
      "text/plain": [
       "       code                                              title\n",
       "0     AL801     Software Design for Virtual Reality and Gaming\n",
       "1     AL802  Software Design in Artificial Intelligence for...\n",
       "2     AL803  Software Design for Mobile Apps and Connected ...\n",
       "3     AL805    Computer Engineering for Network Infrastructure\n",
       "4     AL810                                 Quantity Surveying\n",
       "...     ...                                                ...\n",
       "2901  WD200                                     Arts (options)\n",
       "2902  WD210                       Software Systems Development\n",
       "2903  WD211                                 Creative Computing\n",
       "2904  WD212                    Recreation and Sport Management\n",
       "2905  WD230           Mechanical and Manufacturing Engineering\n",
       "\n",
       "[2906 rows x 2 columns]"
      ]
     },
     "execution_count": 58,
     "metadata": {},
     "output_type": "execute_result"
    }
   ],
   "source": [
    "allcourses = pd.concat([courses2021, courses2020, courses2019], ignore_index=True)\n",
    "allcourses"
   ]
  },
  {
   "cell_type": "markdown",
   "id": "6f6837d8",
   "metadata": {},
   "source": [
    "#### 5.Check for duplication and remove duplicated rows"
   ]
  },
  {
   "cell_type": "code",
   "execution_count": 59,
   "id": "fed7fef1",
   "metadata": {
    "scrolled": false
   },
   "outputs": [
    {
     "data": {
      "text/plain": [
       "0       False\n",
       "1       False\n",
       "2       False\n",
       "3       False\n",
       "4       False\n",
       "        ...  \n",
       "2901     True\n",
       "2902     True\n",
       "2903     True\n",
       "2904     True\n",
       "2905     True\n",
       "Length: 2906, dtype: bool"
      ]
     },
     "execution_count": 59,
     "metadata": {},
     "output_type": "execute_result"
    }
   ],
   "source": [
    "# Checks dataframe for duplicated rows\n",
    "allcourses.duplicated()"
   ]
  },
  {
   "cell_type": "code",
   "execution_count": 60,
   "id": "d1a17271",
   "metadata": {
    "scrolled": false
   },
   "outputs": [
    {
     "data": {
      "text/html": [
       "<div>\n",
       "<style scoped>\n",
       "    .dataframe tbody tr th:only-of-type {\n",
       "        vertical-align: middle;\n",
       "    }\n",
       "\n",
       "    .dataframe tbody tr th {\n",
       "        vertical-align: top;\n",
       "    }\n",
       "\n",
       "    .dataframe thead th {\n",
       "        text-align: right;\n",
       "    }\n",
       "</style>\n",
       "<table border=\"1\" class=\"dataframe\">\n",
       "  <thead>\n",
       "    <tr style=\"text-align: right;\">\n",
       "      <th></th>\n",
       "      <th>code</th>\n",
       "      <th>title</th>\n",
       "    </tr>\n",
       "  </thead>\n",
       "  <tbody>\n",
       "    <tr>\n",
       "      <th>175</th>\n",
       "      <td>AC120</td>\n",
       "      <td>International Business</td>\n",
       "    </tr>\n",
       "    <tr>\n",
       "      <th>2144</th>\n",
       "      <td>AC120</td>\n",
       "      <td>International Business</td>\n",
       "    </tr>\n",
       "    <tr>\n",
       "      <th>949</th>\n",
       "      <td>AC120</td>\n",
       "      <td>International Business</td>\n",
       "    </tr>\n",
       "    <tr>\n",
       "      <th>176</th>\n",
       "      <td>AC137</td>\n",
       "      <td>Liberal Arts</td>\n",
       "    </tr>\n",
       "    <tr>\n",
       "      <th>2145</th>\n",
       "      <td>AC137</td>\n",
       "      <td>Liberal Arts</td>\n",
       "    </tr>\n",
       "    <tr>\n",
       "      <th>...</th>\n",
       "      <td>...</td>\n",
       "      <td>...</td>\n",
       "    </tr>\n",
       "    <tr>\n",
       "      <th>1975</th>\n",
       "      <td>WD230</td>\n",
       "      <td>Mechanical and Manufacturing Engineering</td>\n",
       "    </tr>\n",
       "    <tr>\n",
       "      <th>946</th>\n",
       "      <td>WD230</td>\n",
       "      <td>Mechanical and Manufacturing Engineering</td>\n",
       "    </tr>\n",
       "    <tr>\n",
       "      <th>2905</th>\n",
       "      <td>WD230</td>\n",
       "      <td>Mechanical and Manufacturing Engineering</td>\n",
       "    </tr>\n",
       "    <tr>\n",
       "      <th>947</th>\n",
       "      <td>WD231</td>\n",
       "      <td>Early Childhood Care and Education</td>\n",
       "    </tr>\n",
       "    <tr>\n",
       "      <th>948</th>\n",
       "      <td>WD232</td>\n",
       "      <td>Business Information Systems</td>\n",
       "    </tr>\n",
       "  </tbody>\n",
       "</table>\n",
       "<p>2906 rows × 2 columns</p>\n",
       "</div>"
      ],
      "text/plain": [
       "       code                                     title\n",
       "175   AC120                    International Business\n",
       "2144  AC120                    International Business\n",
       "949   AC120                    International Business\n",
       "176   AC137                              Liberal Arts\n",
       "2145  AC137                              Liberal Arts\n",
       "...     ...                                       ...\n",
       "1975  WD230  Mechanical and Manufacturing Engineering\n",
       "946   WD230  Mechanical and Manufacturing Engineering\n",
       "2905  WD230  Mechanical and Manufacturing Engineering\n",
       "947   WD231        Early Childhood Care and Education\n",
       "948   WD232              Business Information Systems\n",
       "\n",
       "[2906 rows x 2 columns]"
      ]
     },
     "execution_count": 60,
     "metadata": {},
     "output_type": "execute_result"
    }
   ],
   "source": [
    "# An alternative would be to sort it on the course code\n",
    "allcourses.sort_values('code')"
   ]
  },
  {
   "cell_type": "code",
   "execution_count": 61,
   "id": "df1c0a13",
   "metadata": {
    "scrolled": false
   },
   "outputs": [],
   "source": [
    "# Create a file path for the pandas data\n",
    "dfallcourses = allcourses\n",
    "pathallcourses = 'data/allcourses_' + nowstr + '.csv'"
   ]
  },
  {
   "cell_type": "code",
   "execution_count": 62,
   "id": "967568f4",
   "metadata": {
    "scrolled": false
   },
   "outputs": [],
   "source": [
    "# Save pandas data frame to disk before removing the duplicated rows\n",
    "dfallcourses.to_csv(pathallcourses) "
   ]
  },
  {
   "cell_type": "code",
   "execution_count": 63,
   "id": "fd7e7223",
   "metadata": {
    "scrolled": false
   },
   "outputs": [],
   "source": [
    "# Finds all extra copies of duplicated rows\n",
    "# allcourses[allcourses.duplicated()]"
   ]
  },
  {
   "cell_type": "code",
   "execution_count": 64,
   "id": "dbeb4f18",
   "metadata": {
    "scrolled": false
   },
   "outputs": [],
   "source": [
    "# Returns a copy of the data frame with the duplicates removed\n",
    "# allcourses.drop_duplicates()"
   ]
  },
  {
   "cell_type": "code",
   "execution_count": 65,
   "id": "4a2c8961",
   "metadata": {
    "scrolled": false
   },
   "outputs": [
    {
     "data": {
      "text/html": [
       "<div>\n",
       "<style scoped>\n",
       "    .dataframe tbody tr th:only-of-type {\n",
       "        vertical-align: middle;\n",
       "    }\n",
       "\n",
       "    .dataframe tbody tr th {\n",
       "        vertical-align: top;\n",
       "    }\n",
       "\n",
       "    .dataframe thead th {\n",
       "        text-align: right;\n",
       "    }\n",
       "</style>\n",
       "<table border=\"1\" class=\"dataframe\">\n",
       "  <thead>\n",
       "    <tr style=\"text-align: right;\">\n",
       "      <th></th>\n",
       "      <th>code</th>\n",
       "      <th>title</th>\n",
       "    </tr>\n",
       "  </thead>\n",
       "  <tbody>\n",
       "    <tr>\n",
       "      <th>949</th>\n",
       "      <td>AC120</td>\n",
       "      <td>International Business</td>\n",
       "    </tr>\n",
       "    <tr>\n",
       "      <th>950</th>\n",
       "      <td>AC137</td>\n",
       "      <td>Liberal Arts</td>\n",
       "    </tr>\n",
       "    <tr>\n",
       "      <th>951</th>\n",
       "      <td>AD101</td>\n",
       "      <td>First Year Art &amp; Design (Common Entryportfolio)</td>\n",
       "    </tr>\n",
       "    <tr>\n",
       "      <th>952</th>\n",
       "      <td>AD102</td>\n",
       "      <td>Graphic Design and Moving Image Design (portfo...</td>\n",
       "    </tr>\n",
       "    <tr>\n",
       "      <th>953</th>\n",
       "      <td>AD103</td>\n",
       "      <td>Textile &amp; Surface Design and Jewellery &amp; Objec...</td>\n",
       "    </tr>\n",
       "    <tr>\n",
       "      <th>...</th>\n",
       "      <td>...</td>\n",
       "      <td>...</td>\n",
       "    </tr>\n",
       "    <tr>\n",
       "      <th>2901</th>\n",
       "      <td>WD200</td>\n",
       "      <td>Arts (options)</td>\n",
       "    </tr>\n",
       "    <tr>\n",
       "      <th>2902</th>\n",
       "      <td>WD210</td>\n",
       "      <td>Software Systems Development</td>\n",
       "    </tr>\n",
       "    <tr>\n",
       "      <th>2903</th>\n",
       "      <td>WD211</td>\n",
       "      <td>Creative Computing</td>\n",
       "    </tr>\n",
       "    <tr>\n",
       "      <th>2904</th>\n",
       "      <td>WD212</td>\n",
       "      <td>Recreation and Sport Management</td>\n",
       "    </tr>\n",
       "    <tr>\n",
       "      <th>2905</th>\n",
       "      <td>WD230</td>\n",
       "      <td>Mechanical and Manufacturing Engineering</td>\n",
       "    </tr>\n",
       "  </tbody>\n",
       "</table>\n",
       "<p>1692 rows × 2 columns</p>\n",
       "</div>"
      ],
      "text/plain": [
       "       code                                              title\n",
       "949   AC120                             International Business\n",
       "950   AC137                                       Liberal Arts\n",
       "951   AD101    First Year Art & Design (Common Entryportfolio)\n",
       "952   AD102  Graphic Design and Moving Image Design (portfo...\n",
       "953   AD103  Textile & Surface Design and Jewellery & Objec...\n",
       "...     ...                                                ...\n",
       "2901  WD200                                     Arts (options)\n",
       "2902  WD210                       Software Systems Development\n",
       "2903  WD211                                 Creative Computing\n",
       "2904  WD212                    Recreation and Sport Management\n",
       "2905  WD230           Mechanical and Manufacturing Engineering\n",
       "\n",
       "[1692 rows x 2 columns]"
      ]
     },
     "execution_count": 65,
     "metadata": {},
     "output_type": "execute_result"
    }
   ],
   "source": [
    "# Finds duplicates based on the course code\n",
    "allcourses[allcourses.duplicated(subset=['code'])]"
   ]
  },
  {
   "cell_type": "code",
   "execution_count": 66,
   "id": "68b5716a",
   "metadata": {
    "scrolled": false
   },
   "outputs": [
    {
     "data": {
      "text/html": [
       "<div>\n",
       "<style scoped>\n",
       "    .dataframe tbody tr th:only-of-type {\n",
       "        vertical-align: middle;\n",
       "    }\n",
       "\n",
       "    .dataframe tbody tr th {\n",
       "        vertical-align: top;\n",
       "    }\n",
       "\n",
       "    .dataframe thead th {\n",
       "        text-align: right;\n",
       "    }\n",
       "</style>\n",
       "<table border=\"1\" class=\"dataframe\">\n",
       "  <thead>\n",
       "    <tr style=\"text-align: right;\">\n",
       "      <th></th>\n",
       "      <th>code</th>\n",
       "      <th>title</th>\n",
       "    </tr>\n",
       "  </thead>\n",
       "  <tbody>\n",
       "    <tr>\n",
       "      <th>0</th>\n",
       "      <td>AL801</td>\n",
       "      <td>Software Design for Virtual Reality and Gaming</td>\n",
       "    </tr>\n",
       "    <tr>\n",
       "      <th>1</th>\n",
       "      <td>AL802</td>\n",
       "      <td>Software Design in Artificial Intelligence for...</td>\n",
       "    </tr>\n",
       "    <tr>\n",
       "      <th>2</th>\n",
       "      <td>AL803</td>\n",
       "      <td>Software Design for Mobile Apps and Connected ...</td>\n",
       "    </tr>\n",
       "    <tr>\n",
       "      <th>3</th>\n",
       "      <td>AL805</td>\n",
       "      <td>Computer Engineering for Network Infrastructure</td>\n",
       "    </tr>\n",
       "    <tr>\n",
       "      <th>4</th>\n",
       "      <td>AL810</td>\n",
       "      <td>Quantity Surveying</td>\n",
       "    </tr>\n",
       "    <tr>\n",
       "      <th>...</th>\n",
       "      <td>...</td>\n",
       "      <td>...</td>\n",
       "    </tr>\n",
       "    <tr>\n",
       "      <th>1209</th>\n",
       "      <td>SG441</td>\n",
       "      <td>Environmental Science</td>\n",
       "    </tr>\n",
       "    <tr>\n",
       "      <th>1210</th>\n",
       "      <td>SG446</td>\n",
       "      <td>Applied Archaeology</td>\n",
       "    </tr>\n",
       "    <tr>\n",
       "      <th>1211</th>\n",
       "      <td>TL803</td>\n",
       "      <td>Music Technology</td>\n",
       "    </tr>\n",
       "    <tr>\n",
       "      <th>1212</th>\n",
       "      <td>TL812</td>\n",
       "      <td>Computing with Digital Media</td>\n",
       "    </tr>\n",
       "    <tr>\n",
       "      <th>1213</th>\n",
       "      <td>WD148</td>\n",
       "      <td>Tourism Marketing</td>\n",
       "    </tr>\n",
       "  </tbody>\n",
       "</table>\n",
       "<p>1214 rows × 2 columns</p>\n",
       "</div>"
      ],
      "text/plain": [
       "       code                                              title\n",
       "0     AL801     Software Design for Virtual Reality and Gaming\n",
       "1     AL802  Software Design in Artificial Intelligence for...\n",
       "2     AL803  Software Design for Mobile Apps and Connected ...\n",
       "3     AL805    Computer Engineering for Network Infrastructure\n",
       "4     AL810                                 Quantity Surveying\n",
       "...     ...                                                ...\n",
       "1209  SG441                              Environmental Science\n",
       "1210  SG446                                Applied Archaeology\n",
       "1211  TL803                                   Music Technology\n",
       "1212  TL812                       Computing with Digital Media\n",
       "1213  WD148                                  Tourism Marketing\n",
       "\n",
       "[1214 rows x 2 columns]"
      ]
     },
     "execution_count": 66,
     "metadata": {},
     "output_type": "execute_result"
    }
   ],
   "source": [
    "# Returns a copy of the data frame with the duplicates removed - based only on code\n",
    "allcourses.drop_duplicates(subset=['code'], inplace=True, ignore_index=True)\n",
    "allcourses"
   ]
  },
  {
   "cell_type": "code",
   "execution_count": null,
   "id": "9352b07f",
   "metadata": {
    "scrolled": false
   },
   "outputs": [],
   "source": []
  },
  {
   "cell_type": "markdown",
   "id": "c29ffecf",
   "metadata": {},
   "source": [
    "<br>\n",
    "\n",
    "### Join to the points\n",
    "\n",
    "***"
   ]
  },
  {
   "cell_type": "markdown",
   "id": "e4a0a425",
   "metadata": {},
   "source": [
    "#### 1.Join in the 2021 R1 points"
   ]
  },
  {
   "cell_type": "code",
   "execution_count": 67,
   "id": "e96bac8b",
   "metadata": {
    "scrolled": false
   },
   "outputs": [
    {
     "data": {
      "text/html": [
       "<div>\n",
       "<style scoped>\n",
       "    .dataframe tbody tr th:only-of-type {\n",
       "        vertical-align: middle;\n",
       "    }\n",
       "\n",
       "    .dataframe tbody tr th {\n",
       "        vertical-align: top;\n",
       "    }\n",
       "\n",
       "    .dataframe thead th {\n",
       "        text-align: right;\n",
       "    }\n",
       "</style>\n",
       "<table border=\"1\" class=\"dataframe\">\n",
       "  <thead>\n",
       "    <tr style=\"text-align: right;\">\n",
       "      <th></th>\n",
       "      <th>title</th>\n",
       "      <th>points_r1_2021</th>\n",
       "      <th>points_r2_2021</th>\n",
       "    </tr>\n",
       "    <tr>\n",
       "      <th>code</th>\n",
       "      <th></th>\n",
       "      <th></th>\n",
       "      <th></th>\n",
       "    </tr>\n",
       "  </thead>\n",
       "  <tbody>\n",
       "    <tr>\n",
       "      <th>AL801</th>\n",
       "      <td>Software Design for Virtual Reality and Gaming</td>\n",
       "      <td>300.0</td>\n",
       "      <td>NaN</td>\n",
       "    </tr>\n",
       "    <tr>\n",
       "      <th>AL802</th>\n",
       "      <td>Software Design in Artificial Intelligence for...</td>\n",
       "      <td>313.0</td>\n",
       "      <td>NaN</td>\n",
       "    </tr>\n",
       "    <tr>\n",
       "      <th>AL803</th>\n",
       "      <td>Software Design for Mobile Apps and Connected ...</td>\n",
       "      <td>350.0</td>\n",
       "      <td>NaN</td>\n",
       "    </tr>\n",
       "    <tr>\n",
       "      <th>AL805</th>\n",
       "      <td>Computer Engineering for Network Infrastructure</td>\n",
       "      <td>321.0</td>\n",
       "      <td>NaN</td>\n",
       "    </tr>\n",
       "    <tr>\n",
       "      <th>AL810</th>\n",
       "      <td>Quantity Surveying</td>\n",
       "      <td>328.0</td>\n",
       "      <td>NaN</td>\n",
       "    </tr>\n",
       "    <tr>\n",
       "      <th>...</th>\n",
       "      <td>...</td>\n",
       "      <td>...</td>\n",
       "      <td>...</td>\n",
       "    </tr>\n",
       "    <tr>\n",
       "      <th>WD211</th>\n",
       "      <td>Creative Computing</td>\n",
       "      <td>270.0</td>\n",
       "      <td>NaN</td>\n",
       "    </tr>\n",
       "    <tr>\n",
       "      <th>WD212</th>\n",
       "      <td>Recreation and Sport Management</td>\n",
       "      <td>262.0</td>\n",
       "      <td>NaN</td>\n",
       "    </tr>\n",
       "    <tr>\n",
       "      <th>WD230</th>\n",
       "      <td>Mechanical and Manufacturing Engineering</td>\n",
       "      <td>230.0</td>\n",
       "      <td>230.0</td>\n",
       "    </tr>\n",
       "    <tr>\n",
       "      <th>WD231</th>\n",
       "      <td>Early Childhood Care and Education</td>\n",
       "      <td>266.0</td>\n",
       "      <td>NaN</td>\n",
       "    </tr>\n",
       "    <tr>\n",
       "      <th>WD232</th>\n",
       "      <td>Business Information Systems</td>\n",
       "      <td>261.0</td>\n",
       "      <td>261.0</td>\n",
       "    </tr>\n",
       "  </tbody>\n",
       "</table>\n",
       "<p>949 rows × 3 columns</p>\n",
       "</div>"
      ],
      "text/plain": [
       "                                                   title  points_r1_2021  \\\n",
       "code                                                                       \n",
       "AL801     Software Design for Virtual Reality and Gaming           300.0   \n",
       "AL802  Software Design in Artificial Intelligence for...           313.0   \n",
       "AL803  Software Design for Mobile Apps and Connected ...           350.0   \n",
       "AL805    Computer Engineering for Network Infrastructure           321.0   \n",
       "AL810                                 Quantity Surveying           328.0   \n",
       "...                                                  ...             ...   \n",
       "WD211                                 Creative Computing           270.0   \n",
       "WD212                    Recreation and Sport Management           262.0   \n",
       "WD230           Mechanical and Manufacturing Engineering           230.0   \n",
       "WD231                 Early Childhood Care and Education           266.0   \n",
       "WD232                       Business Information Systems           261.0   \n",
       "\n",
       "       points_r2_2021  \n",
       "code                   \n",
       "AL801             NaN  \n",
       "AL802             NaN  \n",
       "AL803             NaN  \n",
       "AL805             NaN  \n",
       "AL810             NaN  \n",
       "...               ...  \n",
       "WD211             NaN  \n",
       "WD212             NaN  \n",
       "WD230           230.0  \n",
       "WD231             NaN  \n",
       "WD232           261.0  \n",
       "\n",
       "[949 rows x 3 columns]"
      ]
     },
     "execution_count": 67,
     "metadata": {},
     "output_type": "execute_result"
    }
   ],
   "source": [
    "# Set the index to the code column and add in the points\n",
    "df2021.set_index('code', inplace=True)\n",
    "df2021.columns = ['title', 'points_r1_2021', 'points_r2_2021']\n",
    "df2021"
   ]
  },
  {
   "cell_type": "code",
   "execution_count": 68,
   "id": "53bc801d",
   "metadata": {
    "scrolled": false
   },
   "outputs": [
    {
     "data": {
      "text/html": [
       "<div>\n",
       "<style scoped>\n",
       "    .dataframe tbody tr th:only-of-type {\n",
       "        vertical-align: middle;\n",
       "    }\n",
       "\n",
       "    .dataframe tbody tr th {\n",
       "        vertical-align: top;\n",
       "    }\n",
       "\n",
       "    .dataframe thead th {\n",
       "        text-align: right;\n",
       "    }\n",
       "</style>\n",
       "<table border=\"1\" class=\"dataframe\">\n",
       "  <thead>\n",
       "    <tr style=\"text-align: right;\">\n",
       "      <th></th>\n",
       "      <th>title</th>\n",
       "    </tr>\n",
       "    <tr>\n",
       "      <th>code</th>\n",
       "      <th></th>\n",
       "    </tr>\n",
       "  </thead>\n",
       "  <tbody>\n",
       "    <tr>\n",
       "      <th>AL801</th>\n",
       "      <td>Software Design for Virtual Reality and Gaming</td>\n",
       "    </tr>\n",
       "    <tr>\n",
       "      <th>AL802</th>\n",
       "      <td>Software Design in Artificial Intelligence for...</td>\n",
       "    </tr>\n",
       "    <tr>\n",
       "      <th>AL803</th>\n",
       "      <td>Software Design for Mobile Apps and Connected ...</td>\n",
       "    </tr>\n",
       "    <tr>\n",
       "      <th>AL805</th>\n",
       "      <td>Computer Engineering for Network Infrastructure</td>\n",
       "    </tr>\n",
       "    <tr>\n",
       "      <th>AL810</th>\n",
       "      <td>Quantity Surveying</td>\n",
       "    </tr>\n",
       "    <tr>\n",
       "      <th>...</th>\n",
       "      <td>...</td>\n",
       "    </tr>\n",
       "    <tr>\n",
       "      <th>SG441</th>\n",
       "      <td>Environmental Science</td>\n",
       "    </tr>\n",
       "    <tr>\n",
       "      <th>SG446</th>\n",
       "      <td>Applied Archaeology</td>\n",
       "    </tr>\n",
       "    <tr>\n",
       "      <th>TL803</th>\n",
       "      <td>Music Technology</td>\n",
       "    </tr>\n",
       "    <tr>\n",
       "      <th>TL812</th>\n",
       "      <td>Computing with Digital Media</td>\n",
       "    </tr>\n",
       "    <tr>\n",
       "      <th>WD148</th>\n",
       "      <td>Tourism Marketing</td>\n",
       "    </tr>\n",
       "  </tbody>\n",
       "</table>\n",
       "<p>1214 rows × 1 columns</p>\n",
       "</div>"
      ],
      "text/plain": [
       "                                                   title\n",
       "code                                                    \n",
       "AL801     Software Design for Virtual Reality and Gaming\n",
       "AL802  Software Design in Artificial Intelligence for...\n",
       "AL803  Software Design for Mobile Apps and Connected ...\n",
       "AL805    Computer Engineering for Network Infrastructure\n",
       "AL810                                 Quantity Surveying\n",
       "...                                                  ...\n",
       "SG441                              Environmental Science\n",
       "SG446                                Applied Archaeology\n",
       "TL803                                   Music Technology\n",
       "TL812                       Computing with Digital Media\n",
       "WD148                                  Tourism Marketing\n",
       "\n",
       "[1214 rows x 1 columns]"
      ]
     },
     "execution_count": 68,
     "metadata": {},
     "output_type": "execute_result"
    }
   ],
   "source": [
    "# Set the index to the code column\n",
    "allcourses.set_index('code', inplace=True)\n",
    "allcourses"
   ]
  },
  {
   "cell_type": "code",
   "execution_count": 69,
   "id": "9fc17cdb",
   "metadata": {
    "scrolled": false
   },
   "outputs": [
    {
     "data": {
      "text/html": [
       "<div>\n",
       "<style scoped>\n",
       "    .dataframe tbody tr th:only-of-type {\n",
       "        vertical-align: middle;\n",
       "    }\n",
       "\n",
       "    .dataframe tbody tr th {\n",
       "        vertical-align: top;\n",
       "    }\n",
       "\n",
       "    .dataframe thead th {\n",
       "        text-align: right;\n",
       "    }\n",
       "</style>\n",
       "<table border=\"1\" class=\"dataframe\">\n",
       "  <thead>\n",
       "    <tr style=\"text-align: right;\">\n",
       "      <th></th>\n",
       "      <th>title</th>\n",
       "      <th>points_r1_2021</th>\n",
       "    </tr>\n",
       "    <tr>\n",
       "      <th>code</th>\n",
       "      <th></th>\n",
       "      <th></th>\n",
       "    </tr>\n",
       "  </thead>\n",
       "  <tbody>\n",
       "    <tr>\n",
       "      <th>AL801</th>\n",
       "      <td>Software Design for Virtual Reality and Gaming</td>\n",
       "      <td>300.0</td>\n",
       "    </tr>\n",
       "    <tr>\n",
       "      <th>AL802</th>\n",
       "      <td>Software Design in Artificial Intelligence for...</td>\n",
       "      <td>313.0</td>\n",
       "    </tr>\n",
       "    <tr>\n",
       "      <th>AL803</th>\n",
       "      <td>Software Design for Mobile Apps and Connected ...</td>\n",
       "      <td>350.0</td>\n",
       "    </tr>\n",
       "    <tr>\n",
       "      <th>AL805</th>\n",
       "      <td>Computer Engineering for Network Infrastructure</td>\n",
       "      <td>321.0</td>\n",
       "    </tr>\n",
       "    <tr>\n",
       "      <th>AL810</th>\n",
       "      <td>Quantity Surveying</td>\n",
       "      <td>328.0</td>\n",
       "    </tr>\n",
       "    <tr>\n",
       "      <th>...</th>\n",
       "      <td>...</td>\n",
       "      <td>...</td>\n",
       "    </tr>\n",
       "    <tr>\n",
       "      <th>SG441</th>\n",
       "      <td>Environmental Science</td>\n",
       "      <td>NaN</td>\n",
       "    </tr>\n",
       "    <tr>\n",
       "      <th>SG446</th>\n",
       "      <td>Applied Archaeology</td>\n",
       "      <td>NaN</td>\n",
       "    </tr>\n",
       "    <tr>\n",
       "      <th>TL803</th>\n",
       "      <td>Music Technology</td>\n",
       "      <td>NaN</td>\n",
       "    </tr>\n",
       "    <tr>\n",
       "      <th>TL812</th>\n",
       "      <td>Computing with Digital Media</td>\n",
       "      <td>NaN</td>\n",
       "    </tr>\n",
       "    <tr>\n",
       "      <th>WD148</th>\n",
       "      <td>Tourism Marketing</td>\n",
       "      <td>NaN</td>\n",
       "    </tr>\n",
       "  </tbody>\n",
       "</table>\n",
       "<p>1214 rows × 2 columns</p>\n",
       "</div>"
      ],
      "text/plain": [
       "                                                   title  points_r1_2021\n",
       "code                                                                    \n",
       "AL801     Software Design for Virtual Reality and Gaming           300.0\n",
       "AL802  Software Design in Artificial Intelligence for...           313.0\n",
       "AL803  Software Design for Mobile Apps and Connected ...           350.0\n",
       "AL805    Computer Engineering for Network Infrastructure           321.0\n",
       "AL810                                 Quantity Surveying           328.0\n",
       "...                                                  ...             ...\n",
       "SG441                              Environmental Science             NaN\n",
       "SG446                                Applied Archaeology             NaN\n",
       "TL803                                   Music Technology             NaN\n",
       "TL812                       Computing with Digital Media             NaN\n",
       "WD148                                  Tourism Marketing             NaN\n",
       "\n",
       "[1214 rows x 2 columns]"
      ]
     },
     "execution_count": 69,
     "metadata": {},
     "output_type": "execute_result"
    }
   ],
   "source": [
    "# Join 2021 points to allcourses\n",
    "allcourses = allcourses.join(df2021[['points_r1_2021']])\n",
    "allcourses"
   ]
  },
  {
   "cell_type": "markdown",
   "id": "9fcf6e43",
   "metadata": {},
   "source": [
    "#### 2.Join in the 2020 R1 points"
   ]
  },
  {
   "cell_type": "code",
   "execution_count": 70,
   "id": "549df6bb",
   "metadata": {
    "scrolled": false
   },
   "outputs": [
    {
     "data": {
      "text/html": [
       "<div>\n",
       "<style scoped>\n",
       "    .dataframe tbody tr th:only-of-type {\n",
       "        vertical-align: middle;\n",
       "    }\n",
       "\n",
       "    .dataframe tbody tr th {\n",
       "        vertical-align: top;\n",
       "    }\n",
       "\n",
       "    .dataframe thead th {\n",
       "        text-align: right;\n",
       "    }\n",
       "</style>\n",
       "<table border=\"1\" class=\"dataframe\">\n",
       "  <thead>\n",
       "    <tr style=\"text-align: right;\">\n",
       "      <th></th>\n",
       "      <th>code</th>\n",
       "      <th>points_r1_2020</th>\n",
       "    </tr>\n",
       "  </thead>\n",
       "  <tbody>\n",
       "    <tr>\n",
       "      <th>0</th>\n",
       "      <td>AC120</td>\n",
       "      <td>209.0</td>\n",
       "    </tr>\n",
       "    <tr>\n",
       "      <th>1</th>\n",
       "      <td>AC137</td>\n",
       "      <td>252.0</td>\n",
       "    </tr>\n",
       "    <tr>\n",
       "      <th>2</th>\n",
       "      <td>AD101</td>\n",
       "      <td>NaN</td>\n",
       "    </tr>\n",
       "    <tr>\n",
       "      <th>3</th>\n",
       "      <td>AD102</td>\n",
       "      <td>NaN</td>\n",
       "    </tr>\n",
       "    <tr>\n",
       "      <th>4</th>\n",
       "      <td>AD103</td>\n",
       "      <td>NaN</td>\n",
       "    </tr>\n",
       "    <tr>\n",
       "      <th>...</th>\n",
       "      <td>...</td>\n",
       "      <td>...</td>\n",
       "    </tr>\n",
       "    <tr>\n",
       "      <th>1455</th>\n",
       "      <td>WD200</td>\n",
       "      <td>NaN</td>\n",
       "    </tr>\n",
       "    <tr>\n",
       "      <th>1460</th>\n",
       "      <td>WD210</td>\n",
       "      <td>279.0</td>\n",
       "    </tr>\n",
       "    <tr>\n",
       "      <th>1461</th>\n",
       "      <td>WD211</td>\n",
       "      <td>271.0</td>\n",
       "    </tr>\n",
       "    <tr>\n",
       "      <th>1462</th>\n",
       "      <td>WD212</td>\n",
       "      <td>270.0</td>\n",
       "    </tr>\n",
       "    <tr>\n",
       "      <th>1463</th>\n",
       "      <td>WD230</td>\n",
       "      <td>253.0</td>\n",
       "    </tr>\n",
       "  </tbody>\n",
       "</table>\n",
       "<p>1027 rows × 2 columns</p>\n",
       "</div>"
      ],
      "text/plain": [
       "       code  points_r1_2020\n",
       "0     AC120           209.0\n",
       "1     AC137           252.0\n",
       "2     AD101             NaN\n",
       "3     AD102             NaN\n",
       "4     AD103             NaN\n",
       "...     ...             ...\n",
       "1455  WD200             NaN\n",
       "1460  WD210           279.0\n",
       "1461  WD211           271.0\n",
       "1462  WD212           270.0\n",
       "1463  WD230           253.0\n",
       "\n",
       "[1027 rows x 2 columns]"
      ]
     },
     "execution_count": 70,
     "metadata": {},
     "output_type": "execute_result"
    }
   ],
   "source": [
    "# Change the title of the Course code and R1 POINTS columns\n",
    "df2020_r1 = df2020new[['COURSE CODE2', 'R1 POINTS']]\n",
    "df2020_r1.columns = ['code', 'points_r1_2020']\n",
    "df2020_r1"
   ]
  },
  {
   "cell_type": "code",
   "execution_count": 71,
   "id": "b3448bcf",
   "metadata": {
    "scrolled": false
   },
   "outputs": [
    {
     "data": {
      "text/html": [
       "<div>\n",
       "<style scoped>\n",
       "    .dataframe tbody tr th:only-of-type {\n",
       "        vertical-align: middle;\n",
       "    }\n",
       "\n",
       "    .dataframe tbody tr th {\n",
       "        vertical-align: top;\n",
       "    }\n",
       "\n",
       "    .dataframe thead th {\n",
       "        text-align: right;\n",
       "    }\n",
       "</style>\n",
       "<table border=\"1\" class=\"dataframe\">\n",
       "  <thead>\n",
       "    <tr style=\"text-align: right;\">\n",
       "      <th></th>\n",
       "      <th>points_r1_2020</th>\n",
       "    </tr>\n",
       "    <tr>\n",
       "      <th>code</th>\n",
       "      <th></th>\n",
       "    </tr>\n",
       "  </thead>\n",
       "  <tbody>\n",
       "    <tr>\n",
       "      <th>AC120</th>\n",
       "      <td>209.0</td>\n",
       "    </tr>\n",
       "    <tr>\n",
       "      <th>AC137</th>\n",
       "      <td>252.0</td>\n",
       "    </tr>\n",
       "    <tr>\n",
       "      <th>AD101</th>\n",
       "      <td>NaN</td>\n",
       "    </tr>\n",
       "    <tr>\n",
       "      <th>AD102</th>\n",
       "      <td>NaN</td>\n",
       "    </tr>\n",
       "    <tr>\n",
       "      <th>AD103</th>\n",
       "      <td>NaN</td>\n",
       "    </tr>\n",
       "    <tr>\n",
       "      <th>...</th>\n",
       "      <td>...</td>\n",
       "    </tr>\n",
       "    <tr>\n",
       "      <th>WD200</th>\n",
       "      <td>NaN</td>\n",
       "    </tr>\n",
       "    <tr>\n",
       "      <th>WD210</th>\n",
       "      <td>279.0</td>\n",
       "    </tr>\n",
       "    <tr>\n",
       "      <th>WD211</th>\n",
       "      <td>271.0</td>\n",
       "    </tr>\n",
       "    <tr>\n",
       "      <th>WD212</th>\n",
       "      <td>270.0</td>\n",
       "    </tr>\n",
       "    <tr>\n",
       "      <th>WD230</th>\n",
       "      <td>253.0</td>\n",
       "    </tr>\n",
       "  </tbody>\n",
       "</table>\n",
       "<p>1027 rows × 1 columns</p>\n",
       "</div>"
      ],
      "text/plain": [
       "       points_r1_2020\n",
       "code                 \n",
       "AC120           209.0\n",
       "AC137           252.0\n",
       "AD101             NaN\n",
       "AD102             NaN\n",
       "AD103             NaN\n",
       "...               ...\n",
       "WD200             NaN\n",
       "WD210           279.0\n",
       "WD211           271.0\n",
       "WD212           270.0\n",
       "WD230           253.0\n",
       "\n",
       "[1027 rows x 1 columns]"
      ]
     },
     "execution_count": 71,
     "metadata": {},
     "output_type": "execute_result"
    }
   ],
   "source": [
    "# Set the index to the code column\n",
    "df2020_r1.set_index('code', inplace=True)\n",
    "df2020_r1"
   ]
  },
  {
   "cell_type": "code",
   "execution_count": 72,
   "id": "564a1ec9",
   "metadata": {
    "scrolled": false
   },
   "outputs": [
    {
     "data": {
      "text/html": [
       "<div>\n",
       "<style scoped>\n",
       "    .dataframe tbody tr th:only-of-type {\n",
       "        vertical-align: middle;\n",
       "    }\n",
       "\n",
       "    .dataframe tbody tr th {\n",
       "        vertical-align: top;\n",
       "    }\n",
       "\n",
       "    .dataframe thead th {\n",
       "        text-align: right;\n",
       "    }\n",
       "</style>\n",
       "<table border=\"1\" class=\"dataframe\">\n",
       "  <thead>\n",
       "    <tr style=\"text-align: right;\">\n",
       "      <th></th>\n",
       "      <th>title</th>\n",
       "      <th>points_r1_2021</th>\n",
       "      <th>points_r1_2020</th>\n",
       "    </tr>\n",
       "    <tr>\n",
       "      <th>code</th>\n",
       "      <th></th>\n",
       "      <th></th>\n",
       "      <th></th>\n",
       "    </tr>\n",
       "  </thead>\n",
       "  <tbody>\n",
       "    <tr>\n",
       "      <th>AL801</th>\n",
       "      <td>Software Design for Virtual Reality and Gaming</td>\n",
       "      <td>300.0</td>\n",
       "      <td>303.0</td>\n",
       "    </tr>\n",
       "    <tr>\n",
       "      <th>AL802</th>\n",
       "      <td>Software Design in Artificial Intelligence for...</td>\n",
       "      <td>313.0</td>\n",
       "      <td>332.0</td>\n",
       "    </tr>\n",
       "    <tr>\n",
       "      <th>AL803</th>\n",
       "      <td>Software Design for Mobile Apps and Connected ...</td>\n",
       "      <td>350.0</td>\n",
       "      <td>337.0</td>\n",
       "    </tr>\n",
       "    <tr>\n",
       "      <th>AL805</th>\n",
       "      <td>Computer Engineering for Network Infrastructure</td>\n",
       "      <td>321.0</td>\n",
       "      <td>333.0</td>\n",
       "    </tr>\n",
       "    <tr>\n",
       "      <th>AL810</th>\n",
       "      <td>Quantity Surveying</td>\n",
       "      <td>328.0</td>\n",
       "      <td>319.0</td>\n",
       "    </tr>\n",
       "    <tr>\n",
       "      <th>...</th>\n",
       "      <td>...</td>\n",
       "      <td>...</td>\n",
       "      <td>...</td>\n",
       "    </tr>\n",
       "    <tr>\n",
       "      <th>SG441</th>\n",
       "      <td>Environmental Science</td>\n",
       "      <td>NaN</td>\n",
       "      <td>NaN</td>\n",
       "    </tr>\n",
       "    <tr>\n",
       "      <th>SG446</th>\n",
       "      <td>Applied Archaeology</td>\n",
       "      <td>NaN</td>\n",
       "      <td>NaN</td>\n",
       "    </tr>\n",
       "    <tr>\n",
       "      <th>TL803</th>\n",
       "      <td>Music Technology</td>\n",
       "      <td>NaN</td>\n",
       "      <td>NaN</td>\n",
       "    </tr>\n",
       "    <tr>\n",
       "      <th>TL812</th>\n",
       "      <td>Computing with Digital Media</td>\n",
       "      <td>NaN</td>\n",
       "      <td>NaN</td>\n",
       "    </tr>\n",
       "    <tr>\n",
       "      <th>WD148</th>\n",
       "      <td>Tourism Marketing</td>\n",
       "      <td>NaN</td>\n",
       "      <td>NaN</td>\n",
       "    </tr>\n",
       "  </tbody>\n",
       "</table>\n",
       "<p>1214 rows × 3 columns</p>\n",
       "</div>"
      ],
      "text/plain": [
       "                                                   title  points_r1_2021  \\\n",
       "code                                                                       \n",
       "AL801     Software Design for Virtual Reality and Gaming           300.0   \n",
       "AL802  Software Design in Artificial Intelligence for...           313.0   \n",
       "AL803  Software Design for Mobile Apps and Connected ...           350.0   \n",
       "AL805    Computer Engineering for Network Infrastructure           321.0   \n",
       "AL810                                 Quantity Surveying           328.0   \n",
       "...                                                  ...             ...   \n",
       "SG441                              Environmental Science             NaN   \n",
       "SG446                                Applied Archaeology             NaN   \n",
       "TL803                                   Music Technology             NaN   \n",
       "TL812                       Computing with Digital Media             NaN   \n",
       "WD148                                  Tourism Marketing             NaN   \n",
       "\n",
       "       points_r1_2020  \n",
       "code                   \n",
       "AL801           303.0  \n",
       "AL802           332.0  \n",
       "AL803           337.0  \n",
       "AL805           333.0  \n",
       "AL810           319.0  \n",
       "...               ...  \n",
       "SG441             NaN  \n",
       "SG446             NaN  \n",
       "TL803             NaN  \n",
       "TL812             NaN  \n",
       "WD148             NaN  \n",
       "\n",
       "[1214 rows x 3 columns]"
      ]
     },
     "execution_count": 72,
     "metadata": {},
     "output_type": "execute_result"
    }
   ],
   "source": [
    "# Join 2020 points to allcourses\n",
    "allcourses = allcourses.join(df2020_r1)\n",
    "allcourses"
   ]
  },
  {
   "cell_type": "markdown",
   "id": "13f7e5ab",
   "metadata": {},
   "source": [
    "#### 3.Join in the 2019 R1 points"
   ]
  },
  {
   "cell_type": "code",
   "execution_count": 73,
   "id": "53214dff",
   "metadata": {
    "scrolled": false
   },
   "outputs": [
    {
     "data": {
      "text/html": [
       "<div>\n",
       "<style scoped>\n",
       "    .dataframe tbody tr th:only-of-type {\n",
       "        vertical-align: middle;\n",
       "    }\n",
       "\n",
       "    .dataframe tbody tr th {\n",
       "        vertical-align: top;\n",
       "    }\n",
       "\n",
       "    .dataframe thead th {\n",
       "        text-align: right;\n",
       "    }\n",
       "</style>\n",
       "<table border=\"1\" class=\"dataframe\">\n",
       "  <thead>\n",
       "    <tr style=\"text-align: right;\">\n",
       "      <th></th>\n",
       "      <th>code</th>\n",
       "      <th>points_r1_2019</th>\n",
       "    </tr>\n",
       "  </thead>\n",
       "  <tbody>\n",
       "    <tr>\n",
       "      <th>0</th>\n",
       "      <td>AL801</td>\n",
       "      <td>304.0</td>\n",
       "    </tr>\n",
       "    <tr>\n",
       "      <th>1</th>\n",
       "      <td>AL802</td>\n",
       "      <td>301.0</td>\n",
       "    </tr>\n",
       "    <tr>\n",
       "      <th>2</th>\n",
       "      <td>AL803</td>\n",
       "      <td>309.0</td>\n",
       "    </tr>\n",
       "    <tr>\n",
       "      <th>3</th>\n",
       "      <td>AL805</td>\n",
       "      <td>329.0</td>\n",
       "    </tr>\n",
       "    <tr>\n",
       "      <th>4</th>\n",
       "      <td>AL810</td>\n",
       "      <td>307.0</td>\n",
       "    </tr>\n",
       "    <tr>\n",
       "      <th>...</th>\n",
       "      <td>...</td>\n",
       "      <td>...</td>\n",
       "    </tr>\n",
       "    <tr>\n",
       "      <th>925</th>\n",
       "      <td>WD200</td>\n",
       "      <td>221.0</td>\n",
       "    </tr>\n",
       "    <tr>\n",
       "      <th>926</th>\n",
       "      <td>WD210</td>\n",
       "      <td>271.0</td>\n",
       "    </tr>\n",
       "    <tr>\n",
       "      <th>927</th>\n",
       "      <td>WD211</td>\n",
       "      <td>275.0</td>\n",
       "    </tr>\n",
       "    <tr>\n",
       "      <th>928</th>\n",
       "      <td>WD212</td>\n",
       "      <td>274.0</td>\n",
       "    </tr>\n",
       "    <tr>\n",
       "      <th>929</th>\n",
       "      <td>WD230</td>\n",
       "      <td>273.0</td>\n",
       "    </tr>\n",
       "  </tbody>\n",
       "</table>\n",
       "<p>930 rows × 2 columns</p>\n",
       "</div>"
      ],
      "text/plain": [
       "      code  points_r1_2019\n",
       "0    AL801           304.0\n",
       "1    AL802           301.0\n",
       "2    AL803           309.0\n",
       "3    AL805           329.0\n",
       "4    AL810           307.0\n",
       "..     ...             ...\n",
       "925  WD200           221.0\n",
       "926  WD210           271.0\n",
       "927  WD211           275.0\n",
       "928  WD212           274.0\n",
       "929  WD230           273.0\n",
       "\n",
       "[930 rows x 2 columns]"
      ]
     },
     "execution_count": 73,
     "metadata": {},
     "output_type": "execute_result"
    }
   ],
   "source": [
    "# Change the title of the EOS column to points_r1_2019\n",
    "df2019_r1 = df2019[['Course Code', 'EOS']]\n",
    "df2019_r1.columns = ['code', 'points_r1_2019']\n",
    "df2019_r1"
   ]
  },
  {
   "cell_type": "code",
   "execution_count": 74,
   "id": "8c42180c",
   "metadata": {
    "scrolled": false
   },
   "outputs": [
    {
     "data": {
      "text/html": [
       "<div>\n",
       "<style scoped>\n",
       "    .dataframe tbody tr th:only-of-type {\n",
       "        vertical-align: middle;\n",
       "    }\n",
       "\n",
       "    .dataframe tbody tr th {\n",
       "        vertical-align: top;\n",
       "    }\n",
       "\n",
       "    .dataframe thead th {\n",
       "        text-align: right;\n",
       "    }\n",
       "</style>\n",
       "<table border=\"1\" class=\"dataframe\">\n",
       "  <thead>\n",
       "    <tr style=\"text-align: right;\">\n",
       "      <th></th>\n",
       "      <th>points_r1_2019</th>\n",
       "    </tr>\n",
       "    <tr>\n",
       "      <th>code</th>\n",
       "      <th></th>\n",
       "    </tr>\n",
       "  </thead>\n",
       "  <tbody>\n",
       "    <tr>\n",
       "      <th>AL801</th>\n",
       "      <td>304.0</td>\n",
       "    </tr>\n",
       "    <tr>\n",
       "      <th>AL802</th>\n",
       "      <td>301.0</td>\n",
       "    </tr>\n",
       "    <tr>\n",
       "      <th>AL803</th>\n",
       "      <td>309.0</td>\n",
       "    </tr>\n",
       "    <tr>\n",
       "      <th>AL805</th>\n",
       "      <td>329.0</td>\n",
       "    </tr>\n",
       "    <tr>\n",
       "      <th>AL810</th>\n",
       "      <td>307.0</td>\n",
       "    </tr>\n",
       "    <tr>\n",
       "      <th>...</th>\n",
       "      <td>...</td>\n",
       "    </tr>\n",
       "    <tr>\n",
       "      <th>WD200</th>\n",
       "      <td>221.0</td>\n",
       "    </tr>\n",
       "    <tr>\n",
       "      <th>WD210</th>\n",
       "      <td>271.0</td>\n",
       "    </tr>\n",
       "    <tr>\n",
       "      <th>WD211</th>\n",
       "      <td>275.0</td>\n",
       "    </tr>\n",
       "    <tr>\n",
       "      <th>WD212</th>\n",
       "      <td>274.0</td>\n",
       "    </tr>\n",
       "    <tr>\n",
       "      <th>WD230</th>\n",
       "      <td>273.0</td>\n",
       "    </tr>\n",
       "  </tbody>\n",
       "</table>\n",
       "<p>930 rows × 1 columns</p>\n",
       "</div>"
      ],
      "text/plain": [
       "       points_r1_2019\n",
       "code                 \n",
       "AL801           304.0\n",
       "AL802           301.0\n",
       "AL803           309.0\n",
       "AL805           329.0\n",
       "AL810           307.0\n",
       "...               ...\n",
       "WD200           221.0\n",
       "WD210           271.0\n",
       "WD211           275.0\n",
       "WD212           274.0\n",
       "WD230           273.0\n",
       "\n",
       "[930 rows x 1 columns]"
      ]
     },
     "execution_count": 74,
     "metadata": {},
     "output_type": "execute_result"
    }
   ],
   "source": [
    "# Set the index to the code column\n",
    "df2019_r1.set_index('code', inplace=True)\n",
    "df2019_r1"
   ]
  },
  {
   "cell_type": "code",
   "execution_count": 75,
   "id": "9fd748c0",
   "metadata": {
    "scrolled": false
   },
   "outputs": [
    {
     "data": {
      "text/html": [
       "<div>\n",
       "<style scoped>\n",
       "    .dataframe tbody tr th:only-of-type {\n",
       "        vertical-align: middle;\n",
       "    }\n",
       "\n",
       "    .dataframe tbody tr th {\n",
       "        vertical-align: top;\n",
       "    }\n",
       "\n",
       "    .dataframe thead th {\n",
       "        text-align: right;\n",
       "    }\n",
       "</style>\n",
       "<table border=\"1\" class=\"dataframe\">\n",
       "  <thead>\n",
       "    <tr style=\"text-align: right;\">\n",
       "      <th></th>\n",
       "      <th>title</th>\n",
       "      <th>points_r1_2021</th>\n",
       "      <th>points_r1_2020</th>\n",
       "      <th>points_r1_2019</th>\n",
       "    </tr>\n",
       "    <tr>\n",
       "      <th>code</th>\n",
       "      <th></th>\n",
       "      <th></th>\n",
       "      <th></th>\n",
       "      <th></th>\n",
       "    </tr>\n",
       "  </thead>\n",
       "  <tbody>\n",
       "    <tr>\n",
       "      <th>AL801</th>\n",
       "      <td>Software Design for Virtual Reality and Gaming</td>\n",
       "      <td>300.0</td>\n",
       "      <td>303.0</td>\n",
       "      <td>304.0</td>\n",
       "    </tr>\n",
       "    <tr>\n",
       "      <th>AL802</th>\n",
       "      <td>Software Design in Artificial Intelligence for...</td>\n",
       "      <td>313.0</td>\n",
       "      <td>332.0</td>\n",
       "      <td>301.0</td>\n",
       "    </tr>\n",
       "    <tr>\n",
       "      <th>AL803</th>\n",
       "      <td>Software Design for Mobile Apps and Connected ...</td>\n",
       "      <td>350.0</td>\n",
       "      <td>337.0</td>\n",
       "      <td>309.0</td>\n",
       "    </tr>\n",
       "    <tr>\n",
       "      <th>AL805</th>\n",
       "      <td>Computer Engineering for Network Infrastructure</td>\n",
       "      <td>321.0</td>\n",
       "      <td>333.0</td>\n",
       "      <td>329.0</td>\n",
       "    </tr>\n",
       "    <tr>\n",
       "      <th>AL810</th>\n",
       "      <td>Quantity Surveying</td>\n",
       "      <td>328.0</td>\n",
       "      <td>319.0</td>\n",
       "      <td>307.0</td>\n",
       "    </tr>\n",
       "    <tr>\n",
       "      <th>...</th>\n",
       "      <td>...</td>\n",
       "      <td>...</td>\n",
       "      <td>...</td>\n",
       "      <td>...</td>\n",
       "    </tr>\n",
       "    <tr>\n",
       "      <th>SG441</th>\n",
       "      <td>Environmental Science</td>\n",
       "      <td>NaN</td>\n",
       "      <td>NaN</td>\n",
       "      <td>297.0</td>\n",
       "    </tr>\n",
       "    <tr>\n",
       "      <th>SG446</th>\n",
       "      <td>Applied Archaeology</td>\n",
       "      <td>NaN</td>\n",
       "      <td>NaN</td>\n",
       "      <td>289.0</td>\n",
       "    </tr>\n",
       "    <tr>\n",
       "      <th>TL803</th>\n",
       "      <td>Music Technology</td>\n",
       "      <td>NaN</td>\n",
       "      <td>NaN</td>\n",
       "      <td>264.0</td>\n",
       "    </tr>\n",
       "    <tr>\n",
       "      <th>TL812</th>\n",
       "      <td>Computing with Digital Media</td>\n",
       "      <td>NaN</td>\n",
       "      <td>NaN</td>\n",
       "      <td>369.0</td>\n",
       "    </tr>\n",
       "    <tr>\n",
       "      <th>WD148</th>\n",
       "      <td>Tourism Marketing</td>\n",
       "      <td>NaN</td>\n",
       "      <td>NaN</td>\n",
       "      <td>269.0</td>\n",
       "    </tr>\n",
       "  </tbody>\n",
       "</table>\n",
       "<p>1214 rows × 4 columns</p>\n",
       "</div>"
      ],
      "text/plain": [
       "                                                   title  points_r1_2021  \\\n",
       "code                                                                       \n",
       "AL801     Software Design for Virtual Reality and Gaming           300.0   \n",
       "AL802  Software Design in Artificial Intelligence for...           313.0   \n",
       "AL803  Software Design for Mobile Apps and Connected ...           350.0   \n",
       "AL805    Computer Engineering for Network Infrastructure           321.0   \n",
       "AL810                                 Quantity Surveying           328.0   \n",
       "...                                                  ...             ...   \n",
       "SG441                              Environmental Science             NaN   \n",
       "SG446                                Applied Archaeology             NaN   \n",
       "TL803                                   Music Technology             NaN   \n",
       "TL812                       Computing with Digital Media             NaN   \n",
       "WD148                                  Tourism Marketing             NaN   \n",
       "\n",
       "       points_r1_2020  points_r1_2019  \n",
       "code                                   \n",
       "AL801           303.0           304.0  \n",
       "AL802           332.0           301.0  \n",
       "AL803           337.0           309.0  \n",
       "AL805           333.0           329.0  \n",
       "AL810           319.0           307.0  \n",
       "...               ...             ...  \n",
       "SG441             NaN           297.0  \n",
       "SG446             NaN           289.0  \n",
       "TL803             NaN           264.0  \n",
       "TL812             NaN           369.0  \n",
       "WD148             NaN           269.0  \n",
       "\n",
       "[1214 rows x 4 columns]"
      ]
     },
     "execution_count": 75,
     "metadata": {},
     "output_type": "execute_result"
    }
   ],
   "source": [
    "# Join 2019 points to allcourses\n",
    "allcourses = allcourses.join(df2019_r1)\n",
    "allcourses"
   ]
  },
  {
   "cell_type": "markdown",
   "id": "fde53bc3",
   "metadata": {},
   "source": [
    "#### 4. Dataset with 2021, 2020, 2019 Round 1 points"
   ]
  },
  {
   "cell_type": "markdown",
   "id": "4fbfd290",
   "metadata": {},
   "source": [
    "I now have one dataset with the course code, course title, Points R1 2021, Points R1 2020 and Points R1 2019. "
   ]
  },
  {
   "cell_type": "code",
   "execution_count": 76,
   "id": "5945e64a",
   "metadata": {},
   "outputs": [
    {
     "data": {
      "text/html": [
       "<div>\n",
       "<style scoped>\n",
       "    .dataframe tbody tr th:only-of-type {\n",
       "        vertical-align: middle;\n",
       "    }\n",
       "\n",
       "    .dataframe tbody tr th {\n",
       "        vertical-align: top;\n",
       "    }\n",
       "\n",
       "    .dataframe thead th {\n",
       "        text-align: right;\n",
       "    }\n",
       "</style>\n",
       "<table border=\"1\" class=\"dataframe\">\n",
       "  <thead>\n",
       "    <tr style=\"text-align: right;\">\n",
       "      <th></th>\n",
       "      <th>title</th>\n",
       "      <th>points_r1_2021</th>\n",
       "      <th>points_r1_2020</th>\n",
       "      <th>points_r1_2019</th>\n",
       "    </tr>\n",
       "    <tr>\n",
       "      <th>code</th>\n",
       "      <th></th>\n",
       "      <th></th>\n",
       "      <th></th>\n",
       "      <th></th>\n",
       "    </tr>\n",
       "  </thead>\n",
       "  <tbody>\n",
       "    <tr>\n",
       "      <th>AL801</th>\n",
       "      <td>Software Design for Virtual Reality and Gaming</td>\n",
       "      <td>300.0</td>\n",
       "      <td>303.0</td>\n",
       "      <td>304.0</td>\n",
       "    </tr>\n",
       "    <tr>\n",
       "      <th>AL802</th>\n",
       "      <td>Software Design in Artificial Intelligence for...</td>\n",
       "      <td>313.0</td>\n",
       "      <td>332.0</td>\n",
       "      <td>301.0</td>\n",
       "    </tr>\n",
       "    <tr>\n",
       "      <th>AL803</th>\n",
       "      <td>Software Design for Mobile Apps and Connected ...</td>\n",
       "      <td>350.0</td>\n",
       "      <td>337.0</td>\n",
       "      <td>309.0</td>\n",
       "    </tr>\n",
       "    <tr>\n",
       "      <th>AL805</th>\n",
       "      <td>Computer Engineering for Network Infrastructure</td>\n",
       "      <td>321.0</td>\n",
       "      <td>333.0</td>\n",
       "      <td>329.0</td>\n",
       "    </tr>\n",
       "    <tr>\n",
       "      <th>AL810</th>\n",
       "      <td>Quantity Surveying</td>\n",
       "      <td>328.0</td>\n",
       "      <td>319.0</td>\n",
       "      <td>307.0</td>\n",
       "    </tr>\n",
       "    <tr>\n",
       "      <th>...</th>\n",
       "      <td>...</td>\n",
       "      <td>...</td>\n",
       "      <td>...</td>\n",
       "      <td>...</td>\n",
       "    </tr>\n",
       "    <tr>\n",
       "      <th>SG441</th>\n",
       "      <td>Environmental Science</td>\n",
       "      <td>NaN</td>\n",
       "      <td>NaN</td>\n",
       "      <td>297.0</td>\n",
       "    </tr>\n",
       "    <tr>\n",
       "      <th>SG446</th>\n",
       "      <td>Applied Archaeology</td>\n",
       "      <td>NaN</td>\n",
       "      <td>NaN</td>\n",
       "      <td>289.0</td>\n",
       "    </tr>\n",
       "    <tr>\n",
       "      <th>TL803</th>\n",
       "      <td>Music Technology</td>\n",
       "      <td>NaN</td>\n",
       "      <td>NaN</td>\n",
       "      <td>264.0</td>\n",
       "    </tr>\n",
       "    <tr>\n",
       "      <th>TL812</th>\n",
       "      <td>Computing with Digital Media</td>\n",
       "      <td>NaN</td>\n",
       "      <td>NaN</td>\n",
       "      <td>369.0</td>\n",
       "    </tr>\n",
       "    <tr>\n",
       "      <th>WD148</th>\n",
       "      <td>Tourism Marketing</td>\n",
       "      <td>NaN</td>\n",
       "      <td>NaN</td>\n",
       "      <td>269.0</td>\n",
       "    </tr>\n",
       "  </tbody>\n",
       "</table>\n",
       "<p>1214 rows × 4 columns</p>\n",
       "</div>"
      ],
      "text/plain": [
       "                                                   title  points_r1_2021  \\\n",
       "code                                                                       \n",
       "AL801     Software Design for Virtual Reality and Gaming           300.0   \n",
       "AL802  Software Design in Artificial Intelligence for...           313.0   \n",
       "AL803  Software Design for Mobile Apps and Connected ...           350.0   \n",
       "AL805    Computer Engineering for Network Infrastructure           321.0   \n",
       "AL810                                 Quantity Surveying           328.0   \n",
       "...                                                  ...             ...   \n",
       "SG441                              Environmental Science             NaN   \n",
       "SG446                                Applied Archaeology             NaN   \n",
       "TL803                                   Music Technology             NaN   \n",
       "TL812                       Computing with Digital Media             NaN   \n",
       "WD148                                  Tourism Marketing             NaN   \n",
       "\n",
       "       points_r1_2020  points_r1_2019  \n",
       "code                                   \n",
       "AL801           303.0           304.0  \n",
       "AL802           332.0           301.0  \n",
       "AL803           337.0           309.0  \n",
       "AL805           333.0           329.0  \n",
       "AL810           319.0           307.0  \n",
       "...               ...             ...  \n",
       "SG441             NaN           297.0  \n",
       "SG446             NaN           289.0  \n",
       "TL803             NaN           264.0  \n",
       "TL812             NaN           369.0  \n",
       "WD148             NaN           269.0  \n",
       "\n",
       "[1214 rows x 4 columns]"
      ]
     },
     "execution_count": 76,
     "metadata": {},
     "output_type": "execute_result"
    }
   ],
   "source": [
    "allcourses"
   ]
  },
  {
   "cell_type": "code",
   "execution_count": 77,
   "id": "b67bf8c7",
   "metadata": {},
   "outputs": [],
   "source": [
    "# Create a file path for the pandas data\n",
    "dfallround1 = allcourses\n",
    "pathallround1 = 'data/allround1_' + nowstr + '.csv'"
   ]
  },
  {
   "cell_type": "code",
   "execution_count": 78,
   "id": "aedee636",
   "metadata": {},
   "outputs": [],
   "source": [
    "# Save pandas data frame to disk before removing the duplicated rows\n",
    "dfallround1.to_csv(pathallround1) "
   ]
  },
  {
   "cell_type": "markdown",
   "id": "a3d3fdfe",
   "metadata": {},
   "source": [
    "## Points analysis   \n",
    "***"
   ]
  },
  {
   "cell_type": "markdown",
   "id": "cb119c34",
   "metadata": {},
   "source": [
    "Courses can go up or down in points each year, to begin our analysis we need to calculate if they went up or down. "
   ]
  },
  {
   "cell_type": "code",
   "execution_count": 80,
   "id": "c22d0dca",
   "metadata": {
    "scrolled": false
   },
   "outputs": [],
   "source": [
    "# https://www.statology.org/create-column-based-on-condition-pandas/\n",
    "\n",
    "#create new column titled 'Change 21 vs 20'\n",
    "# dfallround1['Change 21 vs 20'] = np.where(dfallround1['points_r1_2021']>dfallround1['points_r1_2021'], \n",
    "                                          # 'Points increase', 'Points decrease')\n",
    "\n",
    "#view DataFrame \n",
    "# dfallround1"
   ]
  },
  {
   "cell_type": "code",
   "execution_count": 82,
   "id": "bd89ff27",
   "metadata": {},
   "outputs": [
    {
     "data": {
      "text/html": [
       "<div>\n",
       "<style scoped>\n",
       "    .dataframe tbody tr th:only-of-type {\n",
       "        vertical-align: middle;\n",
       "    }\n",
       "\n",
       "    .dataframe tbody tr th {\n",
       "        vertical-align: top;\n",
       "    }\n",
       "\n",
       "    .dataframe thead th {\n",
       "        text-align: right;\n",
       "    }\n",
       "</style>\n",
       "<table border=\"1\" class=\"dataframe\">\n",
       "  <thead>\n",
       "    <tr style=\"text-align: right;\">\n",
       "      <th></th>\n",
       "      <th>title</th>\n",
       "      <th>points_r1_2021</th>\n",
       "      <th>points_r1_2020</th>\n",
       "      <th>points_r1_2019</th>\n",
       "      <th>21vs20</th>\n",
       "      <th>21vs19</th>\n",
       "      <th>20vs19</th>\n",
       "    </tr>\n",
       "    <tr>\n",
       "      <th>code</th>\n",
       "      <th></th>\n",
       "      <th></th>\n",
       "      <th></th>\n",
       "      <th></th>\n",
       "      <th></th>\n",
       "      <th></th>\n",
       "      <th></th>\n",
       "    </tr>\n",
       "  </thead>\n",
       "  <tbody>\n",
       "    <tr>\n",
       "      <th>AL801</th>\n",
       "      <td>Software Design for Virtual Reality and Gaming</td>\n",
       "      <td>300.0</td>\n",
       "      <td>303.0</td>\n",
       "      <td>304.0</td>\n",
       "      <td>-3.0</td>\n",
       "      <td>-4.0</td>\n",
       "      <td>-1.0</td>\n",
       "    </tr>\n",
       "    <tr>\n",
       "      <th>AL802</th>\n",
       "      <td>Software Design in Artificial Intelligence for...</td>\n",
       "      <td>313.0</td>\n",
       "      <td>332.0</td>\n",
       "      <td>301.0</td>\n",
       "      <td>-19.0</td>\n",
       "      <td>12.0</td>\n",
       "      <td>31.0</td>\n",
       "    </tr>\n",
       "    <tr>\n",
       "      <th>AL803</th>\n",
       "      <td>Software Design for Mobile Apps and Connected ...</td>\n",
       "      <td>350.0</td>\n",
       "      <td>337.0</td>\n",
       "      <td>309.0</td>\n",
       "      <td>13.0</td>\n",
       "      <td>41.0</td>\n",
       "      <td>28.0</td>\n",
       "    </tr>\n",
       "    <tr>\n",
       "      <th>AL805</th>\n",
       "      <td>Computer Engineering for Network Infrastructure</td>\n",
       "      <td>321.0</td>\n",
       "      <td>333.0</td>\n",
       "      <td>329.0</td>\n",
       "      <td>-12.0</td>\n",
       "      <td>-8.0</td>\n",
       "      <td>4.0</td>\n",
       "    </tr>\n",
       "    <tr>\n",
       "      <th>AL810</th>\n",
       "      <td>Quantity Surveying</td>\n",
       "      <td>328.0</td>\n",
       "      <td>319.0</td>\n",
       "      <td>307.0</td>\n",
       "      <td>9.0</td>\n",
       "      <td>21.0</td>\n",
       "      <td>12.0</td>\n",
       "    </tr>\n",
       "    <tr>\n",
       "      <th>...</th>\n",
       "      <td>...</td>\n",
       "      <td>...</td>\n",
       "      <td>...</td>\n",
       "      <td>...</td>\n",
       "      <td>...</td>\n",
       "      <td>...</td>\n",
       "      <td>...</td>\n",
       "    </tr>\n",
       "    <tr>\n",
       "      <th>SG441</th>\n",
       "      <td>Environmental Science</td>\n",
       "      <td>NaN</td>\n",
       "      <td>NaN</td>\n",
       "      <td>297.0</td>\n",
       "      <td>NaN</td>\n",
       "      <td>NaN</td>\n",
       "      <td>NaN</td>\n",
       "    </tr>\n",
       "    <tr>\n",
       "      <th>SG446</th>\n",
       "      <td>Applied Archaeology</td>\n",
       "      <td>NaN</td>\n",
       "      <td>NaN</td>\n",
       "      <td>289.0</td>\n",
       "      <td>NaN</td>\n",
       "      <td>NaN</td>\n",
       "      <td>NaN</td>\n",
       "    </tr>\n",
       "    <tr>\n",
       "      <th>TL803</th>\n",
       "      <td>Music Technology</td>\n",
       "      <td>NaN</td>\n",
       "      <td>NaN</td>\n",
       "      <td>264.0</td>\n",
       "      <td>NaN</td>\n",
       "      <td>NaN</td>\n",
       "      <td>NaN</td>\n",
       "    </tr>\n",
       "    <tr>\n",
       "      <th>TL812</th>\n",
       "      <td>Computing with Digital Media</td>\n",
       "      <td>NaN</td>\n",
       "      <td>NaN</td>\n",
       "      <td>369.0</td>\n",
       "      <td>NaN</td>\n",
       "      <td>NaN</td>\n",
       "      <td>NaN</td>\n",
       "    </tr>\n",
       "    <tr>\n",
       "      <th>WD148</th>\n",
       "      <td>Tourism Marketing</td>\n",
       "      <td>NaN</td>\n",
       "      <td>NaN</td>\n",
       "      <td>269.0</td>\n",
       "      <td>NaN</td>\n",
       "      <td>NaN</td>\n",
       "      <td>NaN</td>\n",
       "    </tr>\n",
       "  </tbody>\n",
       "</table>\n",
       "<p>1214 rows × 7 columns</p>\n",
       "</div>"
      ],
      "text/plain": [
       "                                                   title  points_r1_2021  \\\n",
       "code                                                                       \n",
       "AL801     Software Design for Virtual Reality and Gaming           300.0   \n",
       "AL802  Software Design in Artificial Intelligence for...           313.0   \n",
       "AL803  Software Design for Mobile Apps and Connected ...           350.0   \n",
       "AL805    Computer Engineering for Network Infrastructure           321.0   \n",
       "AL810                                 Quantity Surveying           328.0   \n",
       "...                                                  ...             ...   \n",
       "SG441                              Environmental Science             NaN   \n",
       "SG446                                Applied Archaeology             NaN   \n",
       "TL803                                   Music Technology             NaN   \n",
       "TL812                       Computing with Digital Media             NaN   \n",
       "WD148                                  Tourism Marketing             NaN   \n",
       "\n",
       "       points_r1_2020  points_r1_2019  21vs20  21vs19  20vs19  \n",
       "code                                                           \n",
       "AL801           303.0           304.0    -3.0    -4.0    -1.0  \n",
       "AL802           332.0           301.0   -19.0    12.0    31.0  \n",
       "AL803           337.0           309.0    13.0    41.0    28.0  \n",
       "AL805           333.0           329.0   -12.0    -8.0     4.0  \n",
       "AL810           319.0           307.0     9.0    21.0    12.0  \n",
       "...               ...             ...     ...     ...     ...  \n",
       "SG441             NaN           297.0     NaN     NaN     NaN  \n",
       "SG446             NaN           289.0     NaN     NaN     NaN  \n",
       "TL803             NaN           264.0     NaN     NaN     NaN  \n",
       "TL812             NaN           369.0     NaN     NaN     NaN  \n",
       "WD148             NaN           269.0     NaN     NaN     NaN  \n",
       "\n",
       "[1214 rows x 7 columns]"
      ]
     },
     "execution_count": 82,
     "metadata": {},
     "output_type": "execute_result"
    }
   ],
   "source": [
    "# Create 3 new column showing the points difference between the 3 years \n",
    "# Column 1 21 vs 20\n",
    "# Column 2 21 vs 19\n",
    "# Column 3 20 vs 19\n",
    "dfallround1['21vs20'] = dfallround1['points_r1_2021']-dfallround1['points_r1_2020']\n",
    "dfallround1['21vs19'] = dfallround1['points_r1_2021']-dfallround1['points_r1_2019']\n",
    "dfallround1['20vs19'] = dfallround1['points_r1_2020']-dfallround1['points_r1_2019']\n",
    "\n",
    "#view DataFrame \n",
    "dfallround1"
   ]
  },
  {
   "cell_type": "code",
   "execution_count": 83,
   "id": "a7f7129a",
   "metadata": {},
   "outputs": [
    {
     "name": "stdout",
     "output_type": "stream",
     "text": [
      "                                                   title  points_r1_2021  \\\n",
      "code                                                                       \n",
      "AL801     Software Design for Virtual Reality and Gaming           300.0   \n",
      "AL802  Software Design in Artificial Intelligence for...           313.0   \n",
      "AL803  Software Design for Mobile Apps and Connected ...           350.0   \n",
      "AL805    Computer Engineering for Network Infrastructure           321.0   \n",
      "AL810                                 Quantity Surveying           328.0   \n",
      "AL811                                  Civil Engineering             NaN   \n",
      "AL820                 Mechanical and Polymer Engineering           327.0   \n",
      "AL830                                    General Nursing           451.0   \n",
      "AL832                              Mental Health Nursing           440.0   \n",
      "AL835                                       Pharmacology           356.0   \n",
      "\n",
      "       points_r1_2020  points_r1_2019  21vs20  21vs19  20vs19  \n",
      "code                                                           \n",
      "AL801           303.0           304.0    -3.0    -4.0    -1.0  \n",
      "AL802           332.0           301.0   -19.0    12.0    31.0  \n",
      "AL803           337.0           309.0    13.0    41.0    28.0  \n",
      "AL805           333.0           329.0   -12.0    -8.0     4.0  \n",
      "AL810           319.0           307.0     9.0    21.0    12.0  \n",
      "AL811           320.0             NaN     NaN     NaN     NaN  \n",
      "AL820           308.0           300.0    19.0    27.0     8.0  \n",
      "AL830           442.0           410.0     9.0    41.0    32.0  \n",
      "AL832           387.0           387.0    53.0    53.0     0.0  \n",
      "AL835             NaN             NaN     NaN     NaN     NaN  \n"
     ]
    }
   ],
   "source": [
    "print(dfallround1[0:10])"
   ]
  },
  {
   "cell_type": "code",
   "execution_count": 84,
   "id": "b2b5beb7",
   "metadata": {},
   "outputs": [],
   "source": [
    "# dfallround1 = dfallround1.replace(r'\\D', \"\", regex=True)"
   ]
  },
  {
   "cell_type": "code",
   "execution_count": 85,
   "id": "fed0165f",
   "metadata": {},
   "outputs": [
    {
     "name": "stdout",
     "output_type": "stream",
     "text": [
      "                                                   title  points_r1_2021  \\\n",
      "code                                                                       \n",
      "AL801     Software Design for Virtual Reality and Gaming           300.0   \n",
      "AL802  Software Design in Artificial Intelligence for...           313.0   \n",
      "AL803  Software Design for Mobile Apps and Connected ...           350.0   \n",
      "AL805    Computer Engineering for Network Infrastructure           321.0   \n",
      "AL810                                 Quantity Surveying           328.0   \n",
      "AL811                                  Civil Engineering             NaN   \n",
      "AL820                 Mechanical and Polymer Engineering           327.0   \n",
      "AL830                                    General Nursing           451.0   \n",
      "AL832                              Mental Health Nursing           440.0   \n",
      "AL835                                       Pharmacology           356.0   \n",
      "\n",
      "       points_r1_2020  points_r1_2019  21vs20  21vs19  20vs19  \n",
      "code                                                           \n",
      "AL801           303.0           304.0    -3.0    -4.0    -1.0  \n",
      "AL802           332.0           301.0   -19.0    12.0    31.0  \n",
      "AL803           337.0           309.0    13.0    41.0    28.0  \n",
      "AL805           333.0           329.0   -12.0    -8.0     4.0  \n",
      "AL810           319.0           307.0     9.0    21.0    12.0  \n",
      "AL811           320.0             NaN     NaN     NaN     NaN  \n",
      "AL820           308.0           300.0    19.0    27.0     8.0  \n",
      "AL830           442.0           410.0     9.0    41.0    32.0  \n",
      "AL832           387.0           387.0    53.0    53.0     0.0  \n",
      "AL835             NaN             NaN     NaN     NaN     NaN  \n"
     ]
    }
   ],
   "source": [
    "print(dfallround1[0:10])"
   ]
  },
  {
   "cell_type": "code",
   "execution_count": 87,
   "id": "f159b93e",
   "metadata": {},
   "outputs": [
    {
     "data": {
      "text/plain": [
       "code\n",
       "AL801      -3\n",
       "AL802     -19\n",
       "AL803      13\n",
       "AL805     -12\n",
       "AL810       9\n",
       "         ... \n",
       "SG441    <NA>\n",
       "SG446    <NA>\n",
       "TL803    <NA>\n",
       "TL812    <NA>\n",
       "WD148    <NA>\n",
       "Name: 21vs20, Length: 1214, dtype: Int64"
      ]
     },
     "execution_count": 87,
     "metadata": {},
     "output_type": "execute_result"
    }
   ],
   "source": [
    "#https://www.kite.com/python/answers/how-to-convert-a-pandas-dataframe-column-containing-nans-to-a-specific-type-in-python\n",
    "# Convert NaNs to Integer \n",
    "\n",
    "dfallround1['21vs20'].astype(\"Int64\")"
   ]
  },
  {
   "cell_type": "code",
   "execution_count": 90,
   "id": "04fce884",
   "metadata": {},
   "outputs": [
    {
     "data": {
      "text/plain": [
       "title              object\n",
       "points_r1_2021    float64\n",
       "points_r1_2020    float64\n",
       "points_r1_2019    float64\n",
       "21vs20            float64\n",
       "21vs19            float64\n",
       "20vs19            float64\n",
       "dtype: object"
      ]
     },
     "execution_count": 90,
     "metadata": {},
     "output_type": "execute_result"
    }
   ],
   "source": [
    "# Check the data types of each column\n",
    "dfallround1.dtypes"
   ]
  },
  {
   "cell_type": "code",
   "execution_count": 92,
   "id": "925a5f57",
   "metadata": {},
   "outputs": [],
   "source": [
    "# https://www.projectpro.io/recipes/insert-new-column-based-on-condition-in-python\n",
    "# Categorise the results based on if they increased, decrease, \n",
    "# stayed the same or if the course only appeared in one year of the comparison\n",
    "rating21vs20 = []\n",
    "for row in dfallround1['21vs20']:\n",
    "    if row > 0.0 :    rating21vs20.append('Increase')\n",
    "    elif row < 0.0:   rating21vs20.append('Decrease')   \n",
    "    elif row == 0.0:  rating20vs19.append('No change')\n",
    "    else:             rating21vs20.append('Course for 1 year only')\n",
    "\n",
    "rating20vs19 = []\n",
    "for row in dfallround1['20vs19']:\n",
    "    if row > 0.0 :    rating20vs19.append('Increase')\n",
    "    elif row < 0.0:   rating20vs19.append('Decrease')\n",
    "    elif row == 0.0:  rating20vs19.append('No change')\n",
    "    else:           rating20vs19.append('Course for 1 year only')\n",
    "\n",
    "rating21vs19 = []\n",
    "for row in dfallround1['21vs19']:\n",
    "    if row > 0.0 :    rating21vs19.append('Increase')\n",
    "    elif row < 0.0:   rating21vs19.append('Decrease')\n",
    "    elif row == 0.0:  rating21vs19.append('No change')\n",
    "    else:           rating21vs19.append('Course for 1 year only')\n"
   ]
  },
  {
   "cell_type": "code",
   "execution_count": 95,
   "id": "d0603c6b",
   "metadata": {},
   "outputs": [
    {
     "name": "stdout",
     "output_type": "stream",
     "text": [
      "                                                   title  points_r1_2021  \\\n",
      "code                                                                       \n",
      "AL801     Software Design for Virtual Reality and Gaming           300.0   \n",
      "AL802  Software Design in Artificial Intelligence for...           313.0   \n",
      "AL803  Software Design for Mobile Apps and Connected ...           350.0   \n",
      "AL805    Computer Engineering for Network Infrastructure           321.0   \n",
      "AL810                                 Quantity Surveying           328.0   \n",
      "...                                                  ...             ...   \n",
      "SG441                              Environmental Science             NaN   \n",
      "SG446                                Applied Archaeology             NaN   \n",
      "TL803                                   Music Technology             NaN   \n",
      "TL812                       Computing with Digital Media             NaN   \n",
      "WD148                                  Tourism Marketing             NaN   \n",
      "\n",
      "       points_r1_2020  points_r1_2019  21vs20  21vs19  20vs19  \\\n",
      "code                                                            \n",
      "AL801           303.0           304.0    -3.0    -4.0    -1.0   \n",
      "AL802           332.0           301.0   -19.0    12.0    31.0   \n",
      "AL803           337.0           309.0    13.0    41.0    28.0   \n",
      "AL805           333.0           329.0   -12.0    -8.0     4.0   \n",
      "AL810           319.0           307.0     9.0    21.0    12.0   \n",
      "...               ...             ...     ...     ...     ...   \n",
      "SG441             NaN           297.0     NaN     NaN     NaN   \n",
      "SG446             NaN           289.0     NaN     NaN     NaN   \n",
      "TL803             NaN           264.0     NaN     NaN     NaN   \n",
      "TL812             NaN           369.0     NaN     NaN     NaN   \n",
      "WD148             NaN           269.0     NaN     NaN     NaN   \n",
      "\n",
      "                 rating21vs20            rating20vs19            rating21vs19  \n",
      "code                                                                           \n",
      "AL801                Decrease                Decrease                Decrease  \n",
      "AL802                Decrease                Increase                Increase  \n",
      "AL803                Increase                Increase                Increase  \n",
      "AL805                Decrease                Increase                Decrease  \n",
      "AL810                Increase                Increase                Increase  \n",
      "...                       ...                     ...                     ...  \n",
      "SG441  Course for 1 year only  Course for 1 year only  Course for 1 year only  \n",
      "SG446  Course for 1 year only  Course for 1 year only  Course for 1 year only  \n",
      "TL803  Course for 1 year only  Course for 1 year only  Course for 1 year only  \n",
      "TL812  Course for 1 year only  Course for 1 year only  Course for 1 year only  \n",
      "WD148  Course for 1 year only  Course for 1 year only  Course for 1 year only  \n",
      "\n",
      "[1214 rows x 10 columns]\n"
     ]
    }
   ],
   "source": [
    "# Add the categorisation to the dataset\n",
    "dfallround1['rating21vs20'] = rating21vs20\n",
    "dfallround1['rating20vs19'] = rating20vs19\n",
    "dfallround1['rating21vs19'] = rating21vs19\n",
    "print(dfallround1) "
   ]
  },
  {
   "cell_type": "code",
   "execution_count": 98,
   "id": "90e4ed64",
   "metadata": {},
   "outputs": [],
   "source": [
    "# Create a file path for the pandas data\n",
    "pathround1 = 'data/allround1_' + nowstr + '.csv'\n",
    "# Save pandas data frame to disk\n",
    "dfallround1.to_csv(pathround1)"
   ]
  },
  {
   "cell_type": "code",
   "execution_count": 106,
   "id": "7068fbbf",
   "metadata": {},
   "outputs": [
    {
     "data": {
      "text/plain": [
       "Increase                  623\n",
       "Course for 1 year only    361\n",
       "Decrease                  187\n",
       "No change                  43\n",
       "Name: rating21vs20, dtype: int64"
      ]
     },
     "execution_count": 106,
     "metadata": {},
     "output_type": "execute_result"
    }
   ],
   "source": [
    "# Count each category\n",
    "dft = dfallround1['rating21vs20'].value_counts()\n",
    "# See the results\n",
    "dft"
   ]
  },
  {
   "cell_type": "code",
   "execution_count": 153,
   "id": "c95964a3",
   "metadata": {},
   "outputs": [],
   "source": [
    "# Count each category\n",
    "rating21vs20_count = dfallround1['rating21vs20'].value_counts()\n",
    "rating20vs19_count = dfallround1['rating20vs19'].value_counts()\n",
    "rating21vs19_count = dfallround1['rating21vs19'].value_counts()"
   ]
  },
  {
   "cell_type": "code",
   "execution_count": 154,
   "id": "90f181a8",
   "metadata": {},
   "outputs": [
    {
     "data": {
      "text/plain": [
       "<Figure size 1440x1008 with 0 Axes>"
      ]
     },
     "metadata": {},
     "output_type": "display_data"
    },
    {
     "data": {
      "image/png": "[encoded data removed]",
      "text/plain": [
       "<Figure size 432x288 with 1 Axes>"
      ]
     },
     "metadata": {},
     "output_type": "display_data"
    }
   ],
   "source": [
    "## https://matplotlib.org/stable/gallery/pie_and_polar_charts/pie_features.html\n",
    "# Show the 2021 vs 2020 points change\n",
    "plt.figure(figsize=(20,14))\n",
    "labels = 'Increase', 'Course for 1 year only', 'Decrease', 'No change'\n",
    "# explode = (0, 0.1, 0, 0)  # only \"explode\" the 2nd slice (i.e. 'Hogs')\n",
    "\n",
    "fig1, ax1 = plt.subplots()\n",
    "ax1.pie(dft,labels=labels, autopct='%1.1f%%', shadow=True, startangle=90)\n",
    "ax1.axis('equal')  # Equal aspect ratio ensures that pie is drawn as a circle.\n",
    "\n",
    "plt.show()\n",
    "\n",
    "# explode=explode,\n",
    "# labels=labels,\n",
    "# dfround1.plot(kind='pie', y = rating21vs20_count, ax=ax1, autopct='%1.1f%%', \n",
    "# startangle=90, shadow=False, labels=dfround1['rating21vs20'], legend = False, fontsize=14)"
   ]
  },
  {
   "cell_type": "markdown",
   "id": "9c18d6e8",
   "metadata": {},
   "source": [
    "This shows the following:  \n",
    "51.3% increased in points  \n",
    "15.4% decreased in points   \n",
    "3.5% had no change in points  \n",
    "29.7% represents where the course only existed in one of the years  "
   ]
  },
  {
   "cell_type": "code",
   "execution_count": 117,
   "id": "b1450fe6",
   "metadata": {},
   "outputs": [
    {
     "data": {
      "image/png": "[encoded data removed]",
      "text/plain": [
       "<Figure size 1440x720 with 3 Axes>"
      ]
     },
     "metadata": {},
     "output_type": "display_data"
    }
   ],
   "source": [
    "### REMOVE ????\n",
    "# I'll now plot all three years comparison side by side\n",
    "fig = plt.figure(figsize=(20,10))\n",
    "labels = 'Increase', 'Course for 1 year only', 'Decrease', 'No change'\n",
    "# explode = (0, 0.1, 0, 0)  # only \"explode\" the 2nd slice (i.e. 'Hogs')\n",
    "\n",
    "# fig, (ax1, ax2) = plt.subplots(1, 2)\n",
    "ax1 = fig.add_subplot(131)\n",
    "# ax1 = plt.subplots()\n",
    "ax1.pie(rating21vs20_count,labels=labels, autopct='%1.1f%%', shadow=True, startangle=90)\n",
    "ax1.axis('equal')  # Equal aspect ratio ensures that pie is drawn as a circle.\n",
    "\n",
    "\n",
    "ax2 = fig.add_subplot(132)\n",
    "# ax2 = plt.subplots()\n",
    "ax2.pie(rating21vs19_count,labels=labels, autopct='%1.1f%%', shadow=True, startangle=90)\n",
    "ax2.axis('equal')  # Equal aspect ratio ensures that pie is drawn as a circle.\n",
    "\n",
    "ax3 = fig.add_subplot(133)\n",
    "# ax3 = plt.subplots()\n",
    "ax3.pie(rating21vs19_count,labels=labels, autopct='%1.1f%%', shadow=True, startangle=90)\n",
    "ax3.axis('equal')  # Equal aspect ratio ensures that pie is drawn as a circle.\n",
    "\n",
    "plt.show()"
   ]
  },
  {
   "cell_type": "code",
   "execution_count": 116,
   "id": "90ee39ee",
   "metadata": {},
   "outputs": [
    {
     "data": {
      "image/png": "[encoded data removed]",
      "text/plain": [
       "<Figure size 1440x1008 with 3 Axes>"
      ]
     },
     "metadata": {},
     "output_type": "display_data"
    }
   ],
   "source": [
    "# I'll now plot all three years comparison side by side\n",
    "\n",
    "fig = plt.figure(figsize=(20,14))\n",
    "\n",
    "# labels = 'Increase', 'Course for 1 year only', 'Decrease', 'No change'\n",
    "# explode = (0, 0.1, 0, 0)  # only \"explode\" the 2nd slice (i.e. 'Hogs')\n",
    "# fig, (ax1, ax2) = plt.subplots(1, 2)\n",
    "\n",
    "labels = 'Increase', 'Course for 1 year only', 'Decrease', 'No change'\n",
    "\n",
    "plt.subplot(1, 3, 1)\n",
    "plt.title('2021 vs 2020')\n",
    "plt.pie((rating21vs20_count), labels=labels)\n",
    "\n",
    "plt.subplot(1, 3, 2)\n",
    "plt.title('2021 vs 2019')\n",
    "plt.pie((rating21vs19_count), labels=labels)\n",
    "\n",
    "plt.subplot(1, 3, 3)\n",
    "plt.title('2020 vs 2019')\n",
    "plt.pie((rating20vs19_count), labels=labels)\n",
    "\n",
    "plt.show()"
   ]
  },
  {
   "cell_type": "code",
   "execution_count": null,
   "id": "e1a1a3dd",
   "metadata": {},
   "outputs": [],
   "source": []
  },
  {
   "cell_type": "code",
   "execution_count": null,
   "id": "cb2eae8a",
   "metadata": {},
   "outputs": [],
   "source": []
  },
  {
   "cell_type": "markdown",
   "id": "303bf78d",
   "metadata": {},
   "source": [
    "# START HERE"
   ]
  },
  {
   "cell_type": "markdown",
   "id": "1b59afe8",
   "metadata": {},
   "source": [
    " # HOW TO FILTER ON INDEX TO PICK OUT A COLLEGE"
   ]
  },
  {
   "cell_type": "code",
   "execution_count": null,
   "id": "6b10f015",
   "metadata": {},
   "outputs": [],
   "source": [
    "# Count each category\n",
    "rating21vs20_count = dfallround1['rating21vs20'].value_counts()\n",
    "rating20vs19_count = dfallround1['rating20vs19'].value_counts()\n",
    "rating21vs19_count = dfallround1['rating21vs19'].value_counts()"
   ]
  },
  {
   "cell_type": "code",
   "execution_count": 121,
   "id": "312f0e44",
   "metadata": {},
   "outputs": [
    {
     "data": {
      "text/plain": [
       "['title',\n",
       " 'points_r1_2021',\n",
       " 'points_r1_2020',\n",
       " 'points_r1_2019',\n",
       " '21vs20',\n",
       " '21vs19',\n",
       " '20vs19',\n",
       " 'rating21vs20',\n",
       " 'rating20vs19',\n",
       " 'rating21vs19']"
      ]
     },
     "execution_count": 121,
     "metadata": {},
     "output_type": "execute_result"
    }
   ],
   "source": [
    "list(dfallround1.columns)"
   ]
  },
  {
   "cell_type": "code",
   "execution_count": 156,
   "id": "50a71637",
   "metadata": {},
   "outputs": [
    {
     "ename": "NameError",
     "evalue": "name 'DataFrame' is not defined",
     "output_type": "error",
     "traceback": [
      "\u001b[1;31m---------------------------------------------------------------------------\u001b[0m",
      "\u001b[1;31mNameError\u001b[0m                                 Traceback (most recent call last)",
      "\u001b[1;32m<ipython-input-156-d8cf388be583>\u001b[0m in \u001b[0;36m<module>\u001b[1;34m\u001b[0m\n\u001b[1;32m----> 1\u001b[1;33m \u001b[0mdf\u001b[0m \u001b[1;33m=\u001b[0m \u001b[0mDataFrame\u001b[0m\u001b[1;33m(\u001b[0m\u001b[0mdata\u001b[0m\u001b[1;33m=\u001b[0m\u001b[1;33m[\u001b[0m\u001b[1;33m[\u001b[0m\u001b[1;34m'a'\u001b[0m\u001b[1;33m,\u001b[0m \u001b[1;36m1\u001b[0m\u001b[1;33m]\u001b[0m\u001b[1;33m,\u001b[0m \u001b[1;33m[\u001b[0m\u001b[1;34m'b'\u001b[0m\u001b[1;33m,\u001b[0m \u001b[1;36m2\u001b[0m\u001b[1;33m]\u001b[0m\u001b[1;33m,\u001b[0m \u001b[1;33m[\u001b[0m\u001b[1;34m'c'\u001b[0m\u001b[1;33m,\u001b[0m \u001b[1;36m3\u001b[0m\u001b[1;33m]\u001b[0m\u001b[1;33m]\u001b[0m\u001b[1;33m,\u001b[0m \u001b[0mindex\u001b[0m\u001b[1;33m=\u001b[0m\u001b[1;33m[\u001b[0m\u001b[1;34m'N01'\u001b[0m\u001b[1;33m,\u001b[0m \u001b[1;34m'N02'\u001b[0m\u001b[1;33m,\u001b[0m \u001b[1;34m'N03'\u001b[0m\u001b[1;33m]\u001b[0m\u001b[1;33m)\u001b[0m\u001b[1;33m\u001b[0m\u001b[1;33m\u001b[0m\u001b[0m\n\u001b[0m\u001b[0;32m      2\u001b[0m \u001b[0mdf\u001b[0m\u001b[1;33m.\u001b[0m\u001b[0mindex\u001b[0m\u001b[1;33m.\u001b[0m\u001b[0misin\u001b[0m\u001b[1;33m(\u001b[0m\u001b[1;33m[\u001b[0m\u001b[1;34m'01'\u001b[0m\u001b[1;33m,\u001b[0m \u001b[1;34m'02'\u001b[0m\u001b[1;33m]\u001b[0m\u001b[1;33m)\u001b[0m\u001b[1;33m\u001b[0m\u001b[1;33m\u001b[0m\u001b[0m\n",
      "\u001b[1;31mNameError\u001b[0m: name 'DataFrame' is not defined"
     ]
    }
   ],
   "source": [
    "df = DataFrame(data=[['a', 1], ['b', 2], ['c', 3]], index=['N01', 'N02', 'N03'])\n",
    "df.index.isin(['01', '02'])"
   ]
  },
  {
   "cell_type": "code",
   "execution_count": 155,
   "id": "ce0d8f88",
   "metadata": {},
   "outputs": [
    {
     "data": {
      "text/plain": [
       "array([], dtype=bool)"
      ]
     },
     "execution_count": 155,
     "metadata": {},
     "output_type": "execute_result"
    }
   ],
   "source": [
    "dfallround1.index.str.contains('AL')"
   ]
  },
  {
   "cell_type": "code",
   "execution_count": 145,
   "id": "d6ae6033",
   "metadata": {},
   "outputs": [],
   "source": [
    "dfallround_reset=dfallround1.reset_index()"
   ]
  },
  {
   "cell_type": "code",
   "execution_count": 146,
   "id": "1e86aba1",
   "metadata": {},
   "outputs": [
    {
     "data": {
      "text/plain": [
       "['code',\n",
       " 'title',\n",
       " 'points_r1_2021',\n",
       " 'points_r1_2020',\n",
       " 'points_r1_2019',\n",
       " '21vs20',\n",
       " '21vs19',\n",
       " '20vs19',\n",
       " 'rating21vs20',\n",
       " 'rating20vs19',\n",
       " 'rating21vs19']"
      ]
     },
     "execution_count": 146,
     "metadata": {},
     "output_type": "execute_result"
    }
   ],
   "source": [
    "list(dfallround1_reset.columns)"
   ]
  },
  {
   "cell_type": "code",
   "execution_count": 148,
   "id": "791704e6",
   "metadata": {},
   "outputs": [
    {
     "data": {
      "text/html": [
       "<div>\n",
       "<style scoped>\n",
       "    .dataframe tbody tr th:only-of-type {\n",
       "        vertical-align: middle;\n",
       "    }\n",
       "\n",
       "    .dataframe tbody tr th {\n",
       "        vertical-align: top;\n",
       "    }\n",
       "\n",
       "    .dataframe thead th {\n",
       "        text-align: right;\n",
       "    }\n",
       "</style>\n",
       "<table border=\"1\" class=\"dataframe\">\n",
       "  <thead>\n",
       "    <tr style=\"text-align: right;\">\n",
       "      <th></th>\n",
       "      <th>code</th>\n",
       "      <th>title</th>\n",
       "      <th>points_r1_2021</th>\n",
       "      <th>points_r1_2020</th>\n",
       "      <th>points_r1_2019</th>\n",
       "      <th>21vs20</th>\n",
       "      <th>21vs19</th>\n",
       "      <th>20vs19</th>\n",
       "      <th>rating21vs20</th>\n",
       "      <th>rating20vs19</th>\n",
       "      <th>rating21vs19</th>\n",
       "    </tr>\n",
       "  </thead>\n",
       "  <tbody>\n",
       "  </tbody>\n",
       "</table>\n",
       "</div>"
      ],
      "text/plain": [
       "Empty DataFrame\n",
       "Columns: [code, title, points_r1_2021, points_r1_2020, points_r1_2019, 21vs20, 21vs19, 20vs19, rating21vs20, rating20vs19, rating21vs19]\n",
       "Index: []"
      ]
     },
     "execution_count": 148,
     "metadata": {},
     "output_type": "execute_result"
    }
   ],
   "source": [
    "dfallround_reset"
   ]
  },
  {
   "cell_type": "code",
   "execution_count": 138,
   "id": "9b97cf78",
   "metadata": {},
   "outputs": [
    {
     "ename": "KeyError",
     "evalue": "'A'",
     "output_type": "error",
     "traceback": [
      "\u001b[1;31m---------------------------------------------------------------------------\u001b[0m",
      "\u001b[1;31mKeyError\u001b[0m                                  Traceback (most recent call last)",
      "\u001b[1;32m~\\Anaconda3\\lib\\site-packages\\pandas\\core\\indexes\\base.py\u001b[0m in \u001b[0;36mget_loc\u001b[1;34m(self, key, method, tolerance)\u001b[0m\n\u001b[0;32m   3079\u001b[0m             \u001b[1;32mtry\u001b[0m\u001b[1;33m:\u001b[0m\u001b[1;33m\u001b[0m\u001b[1;33m\u001b[0m\u001b[0m\n\u001b[1;32m-> 3080\u001b[1;33m                 \u001b[1;32mreturn\u001b[0m \u001b[0mself\u001b[0m\u001b[1;33m.\u001b[0m\u001b[0m_engine\u001b[0m\u001b[1;33m.\u001b[0m\u001b[0mget_loc\u001b[0m\u001b[1;33m(\u001b[0m\u001b[0mcasted_key\u001b[0m\u001b[1;33m)\u001b[0m\u001b[1;33m\u001b[0m\u001b[1;33m\u001b[0m\u001b[0m\n\u001b[0m\u001b[0;32m   3081\u001b[0m             \u001b[1;32mexcept\u001b[0m \u001b[0mKeyError\u001b[0m \u001b[1;32mas\u001b[0m \u001b[0merr\u001b[0m\u001b[1;33m:\u001b[0m\u001b[1;33m\u001b[0m\u001b[1;33m\u001b[0m\u001b[0m\n",
      "\u001b[1;32mpandas\\_libs\\index.pyx\u001b[0m in \u001b[0;36mpandas._libs.index.IndexEngine.get_loc\u001b[1;34m()\u001b[0m\n",
      "\u001b[1;32mpandas\\_libs\\index.pyx\u001b[0m in \u001b[0;36mpandas._libs.index.IndexEngine.get_loc\u001b[1;34m()\u001b[0m\n",
      "\u001b[1;32mpandas\\_libs\\hashtable_class_helper.pxi\u001b[0m in \u001b[0;36mpandas._libs.hashtable.PyObjectHashTable.get_item\u001b[1;34m()\u001b[0m\n",
      "\u001b[1;32mpandas\\_libs\\hashtable_class_helper.pxi\u001b[0m in \u001b[0;36mpandas._libs.hashtable.PyObjectHashTable.get_item\u001b[1;34m()\u001b[0m\n",
      "\u001b[1;31mKeyError\u001b[0m: 'A'",
      "\nThe above exception was the direct cause of the following exception:\n",
      "\u001b[1;31mKeyError\u001b[0m                                  Traceback (most recent call last)",
      "\u001b[1;32m<ipython-input-138-252a3586f31c>\u001b[0m in \u001b[0;36m<module>\u001b[1;34m\u001b[0m\n\u001b[1;32m----> 1\u001b[1;33m \u001b[0mdfallround1\u001b[0m\u001b[1;33m.\u001b[0m\u001b[0mloc\u001b[0m\u001b[1;33m[\u001b[0m\u001b[0mdfallround1\u001b[0m\u001b[1;33m.\u001b[0m\u001b[0mindex\u001b[0m\u001b[1;33m,\u001b[0m \u001b[1;34m'A'\u001b[0m\u001b[1;33m]\u001b[0m\u001b[1;33m\u001b[0m\u001b[1;33m\u001b[0m\u001b[0m\n\u001b[0m",
      "\u001b[1;32m~\\Anaconda3\\lib\\site-packages\\pandas\\core\\indexing.py\u001b[0m in \u001b[0;36m__getitem__\u001b[1;34m(self, key)\u001b[0m\n\u001b[0;32m    887\u001b[0m                     \u001b[1;31m# AttributeError for IntervalTree get_value\u001b[0m\u001b[1;33m\u001b[0m\u001b[1;33m\u001b[0m\u001b[1;33m\u001b[0m\u001b[0m\n\u001b[0;32m    888\u001b[0m                     \u001b[1;32mreturn\u001b[0m \u001b[0mself\u001b[0m\u001b[1;33m.\u001b[0m\u001b[0mobj\u001b[0m\u001b[1;33m.\u001b[0m\u001b[0m_get_value\u001b[0m\u001b[1;33m(\u001b[0m\u001b[1;33m*\u001b[0m\u001b[0mkey\u001b[0m\u001b[1;33m,\u001b[0m \u001b[0mtakeable\u001b[0m\u001b[1;33m=\u001b[0m\u001b[0mself\u001b[0m\u001b[1;33m.\u001b[0m\u001b[0m_takeable\u001b[0m\u001b[1;33m)\u001b[0m\u001b[1;33m\u001b[0m\u001b[1;33m\u001b[0m\u001b[0m\n\u001b[1;32m--> 889\u001b[1;33m             \u001b[1;32mreturn\u001b[0m \u001b[0mself\u001b[0m\u001b[1;33m.\u001b[0m\u001b[0m_getitem_tuple\u001b[0m\u001b[1;33m(\u001b[0m\u001b[0mkey\u001b[0m\u001b[1;33m)\u001b[0m\u001b[1;33m\u001b[0m\u001b[1;33m\u001b[0m\u001b[0m\n\u001b[0m\u001b[0;32m    890\u001b[0m         \u001b[1;32melse\u001b[0m\u001b[1;33m:\u001b[0m\u001b[1;33m\u001b[0m\u001b[1;33m\u001b[0m\u001b[0m\n\u001b[0;32m    891\u001b[0m             \u001b[1;31m# we by definition only have the 0th axis\u001b[0m\u001b[1;33m\u001b[0m\u001b[1;33m\u001b[0m\u001b[1;33m\u001b[0m\u001b[0m\n",
      "\u001b[1;32m~\\Anaconda3\\lib\\site-packages\\pandas\\core\\indexing.py\u001b[0m in \u001b[0;36m_getitem_tuple\u001b[1;34m(self, tup)\u001b[0m\n\u001b[0;32m   1058\u001b[0m     \u001b[1;32mdef\u001b[0m \u001b[0m_getitem_tuple\u001b[0m\u001b[1;33m(\u001b[0m\u001b[0mself\u001b[0m\u001b[1;33m,\u001b[0m \u001b[0mtup\u001b[0m\u001b[1;33m:\u001b[0m \u001b[0mTuple\u001b[0m\u001b[1;33m)\u001b[0m\u001b[1;33m:\u001b[0m\u001b[1;33m\u001b[0m\u001b[1;33m\u001b[0m\u001b[0m\n\u001b[0;32m   1059\u001b[0m         \u001b[1;32mwith\u001b[0m \u001b[0msuppress\u001b[0m\u001b[1;33m(\u001b[0m\u001b[0mIndexingError\u001b[0m\u001b[1;33m)\u001b[0m\u001b[1;33m:\u001b[0m\u001b[1;33m\u001b[0m\u001b[1;33m\u001b[0m\u001b[0m\n\u001b[1;32m-> 1060\u001b[1;33m             \u001b[1;32mreturn\u001b[0m \u001b[0mself\u001b[0m\u001b[1;33m.\u001b[0m\u001b[0m_getitem_lowerdim\u001b[0m\u001b[1;33m(\u001b[0m\u001b[0mtup\u001b[0m\u001b[1;33m)\u001b[0m\u001b[1;33m\u001b[0m\u001b[1;33m\u001b[0m\u001b[0m\n\u001b[0m\u001b[0;32m   1061\u001b[0m \u001b[1;33m\u001b[0m\u001b[0m\n\u001b[0;32m   1062\u001b[0m         \u001b[1;31m# no multi-index, so validate all of the indexers\u001b[0m\u001b[1;33m\u001b[0m\u001b[1;33m\u001b[0m\u001b[1;33m\u001b[0m\u001b[0m\n",
      "\u001b[1;32m~\\Anaconda3\\lib\\site-packages\\pandas\\core\\indexing.py\u001b[0m in \u001b[0;36m_getitem_lowerdim\u001b[1;34m(self, tup)\u001b[0m\n\u001b[0;32m    805\u001b[0m                 \u001b[1;31m# We don't need to check for tuples here because those are\u001b[0m\u001b[1;33m\u001b[0m\u001b[1;33m\u001b[0m\u001b[1;33m\u001b[0m\u001b[0m\n\u001b[0;32m    806\u001b[0m                 \u001b[1;31m#  caught by the _is_nested_tuple_indexer check above.\u001b[0m\u001b[1;33m\u001b[0m\u001b[1;33m\u001b[0m\u001b[1;33m\u001b[0m\u001b[0m\n\u001b[1;32m--> 807\u001b[1;33m                 \u001b[0msection\u001b[0m \u001b[1;33m=\u001b[0m \u001b[0mself\u001b[0m\u001b[1;33m.\u001b[0m\u001b[0m_getitem_axis\u001b[0m\u001b[1;33m(\u001b[0m\u001b[0mkey\u001b[0m\u001b[1;33m,\u001b[0m \u001b[0maxis\u001b[0m\u001b[1;33m=\u001b[0m\u001b[0mi\u001b[0m\u001b[1;33m)\u001b[0m\u001b[1;33m\u001b[0m\u001b[1;33m\u001b[0m\u001b[0m\n\u001b[0m\u001b[0;32m    808\u001b[0m \u001b[1;33m\u001b[0m\u001b[0m\n\u001b[0;32m    809\u001b[0m                 \u001b[1;31m# We should never have a scalar section here, because\u001b[0m\u001b[1;33m\u001b[0m\u001b[1;33m\u001b[0m\u001b[1;33m\u001b[0m\u001b[0m\n",
      "\u001b[1;32m~\\Anaconda3\\lib\\site-packages\\pandas\\core\\indexing.py\u001b[0m in \u001b[0;36m_getitem_axis\u001b[1;34m(self, key, axis)\u001b[0m\n\u001b[0;32m   1122\u001b[0m         \u001b[1;31m# fall thru to straight lookup\u001b[0m\u001b[1;33m\u001b[0m\u001b[1;33m\u001b[0m\u001b[1;33m\u001b[0m\u001b[0m\n\u001b[0;32m   1123\u001b[0m         \u001b[0mself\u001b[0m\u001b[1;33m.\u001b[0m\u001b[0m_validate_key\u001b[0m\u001b[1;33m(\u001b[0m\u001b[0mkey\u001b[0m\u001b[1;33m,\u001b[0m \u001b[0maxis\u001b[0m\u001b[1;33m)\u001b[0m\u001b[1;33m\u001b[0m\u001b[1;33m\u001b[0m\u001b[0m\n\u001b[1;32m-> 1124\u001b[1;33m         \u001b[1;32mreturn\u001b[0m \u001b[0mself\u001b[0m\u001b[1;33m.\u001b[0m\u001b[0m_get_label\u001b[0m\u001b[1;33m(\u001b[0m\u001b[0mkey\u001b[0m\u001b[1;33m,\u001b[0m \u001b[0maxis\u001b[0m\u001b[1;33m=\u001b[0m\u001b[0maxis\u001b[0m\u001b[1;33m)\u001b[0m\u001b[1;33m\u001b[0m\u001b[1;33m\u001b[0m\u001b[0m\n\u001b[0m\u001b[0;32m   1125\u001b[0m \u001b[1;33m\u001b[0m\u001b[0m\n\u001b[0;32m   1126\u001b[0m     \u001b[1;32mdef\u001b[0m \u001b[0m_get_slice_axis\u001b[0m\u001b[1;33m(\u001b[0m\u001b[0mself\u001b[0m\u001b[1;33m,\u001b[0m \u001b[0mslice_obj\u001b[0m\u001b[1;33m:\u001b[0m \u001b[0mslice\u001b[0m\u001b[1;33m,\u001b[0m \u001b[0maxis\u001b[0m\u001b[1;33m:\u001b[0m \u001b[0mint\u001b[0m\u001b[1;33m)\u001b[0m\u001b[1;33m:\u001b[0m\u001b[1;33m\u001b[0m\u001b[1;33m\u001b[0m\u001b[0m\n",
      "\u001b[1;32m~\\Anaconda3\\lib\\site-packages\\pandas\\core\\indexing.py\u001b[0m in \u001b[0;36m_get_label\u001b[1;34m(self, label, axis)\u001b[0m\n\u001b[0;32m   1071\u001b[0m     \u001b[1;32mdef\u001b[0m \u001b[0m_get_label\u001b[0m\u001b[1;33m(\u001b[0m\u001b[0mself\u001b[0m\u001b[1;33m,\u001b[0m \u001b[0mlabel\u001b[0m\u001b[1;33m,\u001b[0m \u001b[0maxis\u001b[0m\u001b[1;33m:\u001b[0m \u001b[0mint\u001b[0m\u001b[1;33m)\u001b[0m\u001b[1;33m:\u001b[0m\u001b[1;33m\u001b[0m\u001b[1;33m\u001b[0m\u001b[0m\n\u001b[0;32m   1072\u001b[0m         \u001b[1;31m# GH#5667 this will fail if the label is not present in the axis.\u001b[0m\u001b[1;33m\u001b[0m\u001b[1;33m\u001b[0m\u001b[1;33m\u001b[0m\u001b[0m\n\u001b[1;32m-> 1073\u001b[1;33m         \u001b[1;32mreturn\u001b[0m \u001b[0mself\u001b[0m\u001b[1;33m.\u001b[0m\u001b[0mobj\u001b[0m\u001b[1;33m.\u001b[0m\u001b[0mxs\u001b[0m\u001b[1;33m(\u001b[0m\u001b[0mlabel\u001b[0m\u001b[1;33m,\u001b[0m \u001b[0maxis\u001b[0m\u001b[1;33m=\u001b[0m\u001b[0maxis\u001b[0m\u001b[1;33m)\u001b[0m\u001b[1;33m\u001b[0m\u001b[1;33m\u001b[0m\u001b[0m\n\u001b[0m\u001b[0;32m   1074\u001b[0m \u001b[1;33m\u001b[0m\u001b[0m\n\u001b[0;32m   1075\u001b[0m     \u001b[1;32mdef\u001b[0m \u001b[0m_handle_lowerdim_multi_index_axis0\u001b[0m\u001b[1;33m(\u001b[0m\u001b[0mself\u001b[0m\u001b[1;33m,\u001b[0m \u001b[0mtup\u001b[0m\u001b[1;33m:\u001b[0m \u001b[0mTuple\u001b[0m\u001b[1;33m)\u001b[0m\u001b[1;33m:\u001b[0m\u001b[1;33m\u001b[0m\u001b[1;33m\u001b[0m\u001b[0m\n",
      "\u001b[1;32m~\\Anaconda3\\lib\\site-packages\\pandas\\core\\generic.py\u001b[0m in \u001b[0;36mxs\u001b[1;34m(self, key, axis, level, drop_level)\u001b[0m\n\u001b[0;32m   3722\u001b[0m         \u001b[1;32mif\u001b[0m \u001b[0maxis\u001b[0m \u001b[1;33m==\u001b[0m \u001b[1;36m1\u001b[0m\u001b[1;33m:\u001b[0m\u001b[1;33m\u001b[0m\u001b[1;33m\u001b[0m\u001b[0m\n\u001b[0;32m   3723\u001b[0m             \u001b[1;32mif\u001b[0m \u001b[0mdrop_level\u001b[0m\u001b[1;33m:\u001b[0m\u001b[1;33m\u001b[0m\u001b[1;33m\u001b[0m\u001b[0m\n\u001b[1;32m-> 3724\u001b[1;33m                 \u001b[1;32mreturn\u001b[0m \u001b[0mself\u001b[0m\u001b[1;33m[\u001b[0m\u001b[0mkey\u001b[0m\u001b[1;33m]\u001b[0m\u001b[1;33m\u001b[0m\u001b[1;33m\u001b[0m\u001b[0m\n\u001b[0m\u001b[0;32m   3725\u001b[0m             \u001b[0mindex\u001b[0m \u001b[1;33m=\u001b[0m \u001b[0mself\u001b[0m\u001b[1;33m.\u001b[0m\u001b[0mcolumns\u001b[0m\u001b[1;33m\u001b[0m\u001b[1;33m\u001b[0m\u001b[0m\n\u001b[0;32m   3726\u001b[0m         \u001b[1;32melse\u001b[0m\u001b[1;33m:\u001b[0m\u001b[1;33m\u001b[0m\u001b[1;33m\u001b[0m\u001b[0m\n",
      "\u001b[1;32m~\\Anaconda3\\lib\\site-packages\\pandas\\core\\frame.py\u001b[0m in \u001b[0;36m__getitem__\u001b[1;34m(self, key)\u001b[0m\n\u001b[0;32m   3022\u001b[0m             \u001b[1;32mif\u001b[0m \u001b[0mself\u001b[0m\u001b[1;33m.\u001b[0m\u001b[0mcolumns\u001b[0m\u001b[1;33m.\u001b[0m\u001b[0mnlevels\u001b[0m \u001b[1;33m>\u001b[0m \u001b[1;36m1\u001b[0m\u001b[1;33m:\u001b[0m\u001b[1;33m\u001b[0m\u001b[1;33m\u001b[0m\u001b[0m\n\u001b[0;32m   3023\u001b[0m                 \u001b[1;32mreturn\u001b[0m \u001b[0mself\u001b[0m\u001b[1;33m.\u001b[0m\u001b[0m_getitem_multilevel\u001b[0m\u001b[1;33m(\u001b[0m\u001b[0mkey\u001b[0m\u001b[1;33m)\u001b[0m\u001b[1;33m\u001b[0m\u001b[1;33m\u001b[0m\u001b[0m\n\u001b[1;32m-> 3024\u001b[1;33m             \u001b[0mindexer\u001b[0m \u001b[1;33m=\u001b[0m \u001b[0mself\u001b[0m\u001b[1;33m.\u001b[0m\u001b[0mcolumns\u001b[0m\u001b[1;33m.\u001b[0m\u001b[0mget_loc\u001b[0m\u001b[1;33m(\u001b[0m\u001b[0mkey\u001b[0m\u001b[1;33m)\u001b[0m\u001b[1;33m\u001b[0m\u001b[1;33m\u001b[0m\u001b[0m\n\u001b[0m\u001b[0;32m   3025\u001b[0m             \u001b[1;32mif\u001b[0m \u001b[0mis_integer\u001b[0m\u001b[1;33m(\u001b[0m\u001b[0mindexer\u001b[0m\u001b[1;33m)\u001b[0m\u001b[1;33m:\u001b[0m\u001b[1;33m\u001b[0m\u001b[1;33m\u001b[0m\u001b[0m\n\u001b[0;32m   3026\u001b[0m                 \u001b[0mindexer\u001b[0m \u001b[1;33m=\u001b[0m \u001b[1;33m[\u001b[0m\u001b[0mindexer\u001b[0m\u001b[1;33m]\u001b[0m\u001b[1;33m\u001b[0m\u001b[1;33m\u001b[0m\u001b[0m\n",
      "\u001b[1;32m~\\Anaconda3\\lib\\site-packages\\pandas\\core\\indexes\\base.py\u001b[0m in \u001b[0;36mget_loc\u001b[1;34m(self, key, method, tolerance)\u001b[0m\n\u001b[0;32m   3080\u001b[0m                 \u001b[1;32mreturn\u001b[0m \u001b[0mself\u001b[0m\u001b[1;33m.\u001b[0m\u001b[0m_engine\u001b[0m\u001b[1;33m.\u001b[0m\u001b[0mget_loc\u001b[0m\u001b[1;33m(\u001b[0m\u001b[0mcasted_key\u001b[0m\u001b[1;33m)\u001b[0m\u001b[1;33m\u001b[0m\u001b[1;33m\u001b[0m\u001b[0m\n\u001b[0;32m   3081\u001b[0m             \u001b[1;32mexcept\u001b[0m \u001b[0mKeyError\u001b[0m \u001b[1;32mas\u001b[0m \u001b[0merr\u001b[0m\u001b[1;33m:\u001b[0m\u001b[1;33m\u001b[0m\u001b[1;33m\u001b[0m\u001b[0m\n\u001b[1;32m-> 3082\u001b[1;33m                 \u001b[1;32mraise\u001b[0m \u001b[0mKeyError\u001b[0m\u001b[1;33m(\u001b[0m\u001b[0mkey\u001b[0m\u001b[1;33m)\u001b[0m \u001b[1;32mfrom\u001b[0m \u001b[0merr\u001b[0m\u001b[1;33m\u001b[0m\u001b[1;33m\u001b[0m\u001b[0m\n\u001b[0m\u001b[0;32m   3083\u001b[0m \u001b[1;33m\u001b[0m\u001b[0m\n\u001b[0;32m   3084\u001b[0m         \u001b[1;32mif\u001b[0m \u001b[0mtolerance\u001b[0m \u001b[1;32mis\u001b[0m \u001b[1;32mnot\u001b[0m \u001b[1;32mNone\u001b[0m\u001b[1;33m:\u001b[0m\u001b[1;33m\u001b[0m\u001b[1;33m\u001b[0m\u001b[0m\n",
      "\u001b[1;31mKeyError\u001b[0m: 'A'"
     ]
    }
   ],
   "source": [
    "dfallround1.loc[dfallround1.index, 'A']"
   ]
  },
  {
   "cell_type": "code",
   "execution_count": 120,
   "id": "15b78e40",
   "metadata": {},
   "outputs": [
    {
     "ename": "KeyError",
     "evalue": "'code'",
     "output_type": "error",
     "traceback": [
      "\u001b[1;31m---------------------------------------------------------------------------\u001b[0m",
      "\u001b[1;31mKeyError\u001b[0m                                  Traceback (most recent call last)",
      "\u001b[1;32m~\\Anaconda3\\lib\\site-packages\\pandas\\core\\indexes\\base.py\u001b[0m in \u001b[0;36mget_loc\u001b[1;34m(self, key, method, tolerance)\u001b[0m\n\u001b[0;32m   3079\u001b[0m             \u001b[1;32mtry\u001b[0m\u001b[1;33m:\u001b[0m\u001b[1;33m\u001b[0m\u001b[1;33m\u001b[0m\u001b[0m\n\u001b[1;32m-> 3080\u001b[1;33m                 \u001b[1;32mreturn\u001b[0m \u001b[0mself\u001b[0m\u001b[1;33m.\u001b[0m\u001b[0m_engine\u001b[0m\u001b[1;33m.\u001b[0m\u001b[0mget_loc\u001b[0m\u001b[1;33m(\u001b[0m\u001b[0mcasted_key\u001b[0m\u001b[1;33m)\u001b[0m\u001b[1;33m\u001b[0m\u001b[1;33m\u001b[0m\u001b[0m\n\u001b[0m\u001b[0;32m   3081\u001b[0m             \u001b[1;32mexcept\u001b[0m \u001b[0mKeyError\u001b[0m \u001b[1;32mas\u001b[0m \u001b[0merr\u001b[0m\u001b[1;33m:\u001b[0m\u001b[1;33m\u001b[0m\u001b[1;33m\u001b[0m\u001b[0m\n",
      "\u001b[1;32mpandas\\_libs\\index.pyx\u001b[0m in \u001b[0;36mpandas._libs.index.IndexEngine.get_loc\u001b[1;34m()\u001b[0m\n",
      "\u001b[1;32mpandas\\_libs\\index.pyx\u001b[0m in \u001b[0;36mpandas._libs.index.IndexEngine.get_loc\u001b[1;34m()\u001b[0m\n",
      "\u001b[1;32mpandas\\_libs\\hashtable_class_helper.pxi\u001b[0m in \u001b[0;36mpandas._libs.hashtable.PyObjectHashTable.get_item\u001b[1;34m()\u001b[0m\n",
      "\u001b[1;32mpandas\\_libs\\hashtable_class_helper.pxi\u001b[0m in \u001b[0;36mpandas._libs.hashtable.PyObjectHashTable.get_item\u001b[1;34m()\u001b[0m\n",
      "\u001b[1;31mKeyError\u001b[0m: 'code'",
      "\nThe above exception was the direct cause of the following exception:\n",
      "\u001b[1;31mKeyError\u001b[0m                                  Traceback (most recent call last)",
      "\u001b[1;32m<ipython-input-120-ae16933923b9>\u001b[0m in \u001b[0;36m<module>\u001b[1;34m\u001b[0m\n\u001b[1;32m----> 1\u001b[1;33m \u001b[0mdfallround1\u001b[0m\u001b[1;33m[\u001b[0m\u001b[0mdfallround1\u001b[0m\u001b[1;33m[\u001b[0m\u001b[1;34m'code'\u001b[0m\u001b[1;33m]\u001b[0m\u001b[1;33m.\u001b[0m\u001b[0mstr\u001b[0m\u001b[1;33m[\u001b[0m\u001b[1;36m0\u001b[0m\u001b[1;33m]\u001b[0m\u001b[1;33m.\u001b[0m\u001b[0misin\u001b[0m\u001b[1;33m(\u001b[0m\u001b[1;33m[\u001b[0m\u001b[1;34m'AL'\u001b[0m\u001b[1;33m]\u001b[0m\u001b[1;33m)\u001b[0m\u001b[1;33m,\u001b[0m \u001b[1;34m'code'\u001b[0m\u001b[1;33m]\u001b[0m\u001b[1;33m\u001b[0m\u001b[1;33m\u001b[0m\u001b[0m\n\u001b[0m",
      "\u001b[1;32m~\\Anaconda3\\lib\\site-packages\\pandas\\core\\frame.py\u001b[0m in \u001b[0;36m__getitem__\u001b[1;34m(self, key)\u001b[0m\n\u001b[0;32m   3022\u001b[0m             \u001b[1;32mif\u001b[0m \u001b[0mself\u001b[0m\u001b[1;33m.\u001b[0m\u001b[0mcolumns\u001b[0m\u001b[1;33m.\u001b[0m\u001b[0mnlevels\u001b[0m \u001b[1;33m>\u001b[0m \u001b[1;36m1\u001b[0m\u001b[1;33m:\u001b[0m\u001b[1;33m\u001b[0m\u001b[1;33m\u001b[0m\u001b[0m\n\u001b[0;32m   3023\u001b[0m                 \u001b[1;32mreturn\u001b[0m \u001b[0mself\u001b[0m\u001b[1;33m.\u001b[0m\u001b[0m_getitem_multilevel\u001b[0m\u001b[1;33m(\u001b[0m\u001b[0mkey\u001b[0m\u001b[1;33m)\u001b[0m\u001b[1;33m\u001b[0m\u001b[1;33m\u001b[0m\u001b[0m\n\u001b[1;32m-> 3024\u001b[1;33m             \u001b[0mindexer\u001b[0m \u001b[1;33m=\u001b[0m \u001b[0mself\u001b[0m\u001b[1;33m.\u001b[0m\u001b[0mcolumns\u001b[0m\u001b[1;33m.\u001b[0m\u001b[0mget_loc\u001b[0m\u001b[1;33m(\u001b[0m\u001b[0mkey\u001b[0m\u001b[1;33m)\u001b[0m\u001b[1;33m\u001b[0m\u001b[1;33m\u001b[0m\u001b[0m\n\u001b[0m\u001b[0;32m   3025\u001b[0m             \u001b[1;32mif\u001b[0m \u001b[0mis_integer\u001b[0m\u001b[1;33m(\u001b[0m\u001b[0mindexer\u001b[0m\u001b[1;33m)\u001b[0m\u001b[1;33m:\u001b[0m\u001b[1;33m\u001b[0m\u001b[1;33m\u001b[0m\u001b[0m\n\u001b[0;32m   3026\u001b[0m                 \u001b[0mindexer\u001b[0m \u001b[1;33m=\u001b[0m \u001b[1;33m[\u001b[0m\u001b[0mindexer\u001b[0m\u001b[1;33m]\u001b[0m\u001b[1;33m\u001b[0m\u001b[1;33m\u001b[0m\u001b[0m\n",
      "\u001b[1;32m~\\Anaconda3\\lib\\site-packages\\pandas\\core\\indexes\\base.py\u001b[0m in \u001b[0;36mget_loc\u001b[1;34m(self, key, method, tolerance)\u001b[0m\n\u001b[0;32m   3080\u001b[0m                 \u001b[1;32mreturn\u001b[0m \u001b[0mself\u001b[0m\u001b[1;33m.\u001b[0m\u001b[0m_engine\u001b[0m\u001b[1;33m.\u001b[0m\u001b[0mget_loc\u001b[0m\u001b[1;33m(\u001b[0m\u001b[0mcasted_key\u001b[0m\u001b[1;33m)\u001b[0m\u001b[1;33m\u001b[0m\u001b[1;33m\u001b[0m\u001b[0m\n\u001b[0;32m   3081\u001b[0m             \u001b[1;32mexcept\u001b[0m \u001b[0mKeyError\u001b[0m \u001b[1;32mas\u001b[0m \u001b[0merr\u001b[0m\u001b[1;33m:\u001b[0m\u001b[1;33m\u001b[0m\u001b[1;33m\u001b[0m\u001b[0m\n\u001b[1;32m-> 3082\u001b[1;33m                 \u001b[1;32mraise\u001b[0m \u001b[0mKeyError\u001b[0m\u001b[1;33m(\u001b[0m\u001b[0mkey\u001b[0m\u001b[1;33m)\u001b[0m \u001b[1;32mfrom\u001b[0m \u001b[0merr\u001b[0m\u001b[1;33m\u001b[0m\u001b[1;33m\u001b[0m\u001b[0m\n\u001b[0m\u001b[0;32m   3083\u001b[0m \u001b[1;33m\u001b[0m\u001b[0m\n\u001b[0;32m   3084\u001b[0m         \u001b[1;32mif\u001b[0m \u001b[0mtolerance\u001b[0m \u001b[1;32mis\u001b[0m \u001b[1;32mnot\u001b[0m \u001b[1;32mNone\u001b[0m\u001b[1;33m:\u001b[0m\u001b[1;33m\u001b[0m\u001b[1;33m\u001b[0m\u001b[0m\n",
      "\u001b[1;31mKeyError\u001b[0m: 'code'"
     ]
    }
   ],
   "source": [
    "dfallround1[dfallround1['code'].str[0].isin(['AL']), 'code']"
   ]
  },
  {
   "cell_type": "markdown",
   "id": "5767a650",
   "metadata": {},
   "source": [
    " ## next steps   \n",
    " \n",
    "YOU CAN LOOK AT THIS OVERALL, BY COLLEGE OR BY COURSE\n",
    "\n",
    "Do subplot that shows all 3 years of comparison on plot - complete\n",
    " \n",
    "Do the analysis by college\n",
    "\n",
    "Do analysis on one course\n",
    "\n",
    "Show how much the course went up or down in points\n",
    "  "
   ]
  },
  {
   "cell_type": "code",
   "execution_count": null,
   "id": "2f7167ff",
   "metadata": {},
   "outputs": [],
   "source": []
  },
  {
   "cell_type": "code",
   "execution_count": null,
   "id": "14d08e68",
   "metadata": {},
   "outputs": [],
   "source": [
    "plt.figure(figsize=(20,14))\n",
    "labels = 'Increase', 'Course for 1 year only', 'Decrease', 'No change'\n",
    "\n",
    "fig1, ax1 = plt.subplots()\n",
    "ax1.pie(rating20vs19_count,labels=labels, autopct='%1.1f%%', explode=[0.05]*4, shadow=True, startangle=90)\n",
    "ax1.axis('equal')  \n",
    "\n",
    "plt.show()"
   ]
  },
  {
   "cell_type": "code",
   "execution_count": null,
   "id": "439cb731",
   "metadata": {},
   "outputs": [],
   "source": [
    "plt.figure(figsize=(20,14))\n",
    "labels = 'Increase', 'Course for 1 year only', 'Decrease', 'No change'\n",
    "\n",
    "fig1, ax1 = plt.subplots()\n",
    "ax1.pie(rating21vs19_count,labels=labels, autopct='%1.1f%%', shadow=True, startangle=90)\n",
    "ax1.axis('equal')  \n",
    "\n",
    "plt.show()"
   ]
  },
  {
   "cell_type": "code",
   "execution_count": null,
   "id": "902c010f",
   "metadata": {},
   "outputs": [],
   "source": [
    "data = dfround1.groupby(\"rating21vs19\").count()\n",
    "data.plot.pie(autopct=\"%.1f%%\",subplots=True)"
   ]
  },
  {
   "cell_type": "code",
   "execution_count": null,
   "id": "c1773595",
   "metadata": {},
   "outputs": [],
   "source": [
    "# dfround1.plot(kind='pie', y = rating21vs20_count, ax=ax1, autopct='%1.1f%%', \n",
    "# startangle=90, shadow=False, labels=dfround1['rating21vs20'], legend = False, fontsize=14)"
   ]
  },
  {
   "cell_type": "code",
   "execution_count": null,
   "id": "a7452d9d",
   "metadata": {},
   "outputs": [],
   "source": [
    "np.where('21 vs 20' > 0, 'high', \n",
    "         (np.where('21 vs 20' < 0, 'low', 'medium')))"
   ]
  },
  {
   "cell_type": "code",
   "execution_count": null,
   "id": "58455267",
   "metadata": {},
   "outputs": [],
   "source": [
    "############## testing\n",
    "# https://thispointer.com/pandas-count-rows-in-a-dataframe-all-or-those-only-that-satisfy-a-condition/\n",
    "\n",
    "\n",
    "seriesObj = dfround1.apply(lambda x: True if x['21 vs 20'] == 0 else False , axis=1)\n",
    "# Count number of True in series\n",
    "numOfRows = len(seriesObj[seriesObj == True].index)\n",
    "print('Number of Rows in dataframe in which Age > 30 : ', numOfRows)"
   ]
  },
  {
   "cell_type": "code",
   "execution_count": null,
   "id": "8a9552da",
   "metadata": {},
   "outputs": [],
   "source": [
    "# https://stackoverflow.com/questions/39109045/numpy-where-with-multiple-conditions\n",
    "col = 'Change_21v20'\n",
    "\n",
    "def conditions(x):\n",
    "    if '21 vs 20' > 0:\n",
    "        return \"High\"\n",
    "    elif '21 vs 20' < 0:\n",
    "        return \"Medium\"\n",
    "    else:\n",
    "        return \"Low\"\n",
    "\n",
    "func = np.vectorize(conditions)\n",
    "func\n",
    "# Change_21v20 = func(dfround1[\"21 vs 20\"])\n",
    "\n",
    "# dfround1['Change_21v20'] = Change_21v20"
   ]
  },
  {
   "cell_type": "code",
   "execution_count": null,
   "id": "c0dd31f0",
   "metadata": {
    "scrolled": false
   },
   "outputs": [],
   "source": []
  },
  {
   "cell_type": "code",
   "execution_count": null,
   "id": "4fc2108c",
   "metadata": {},
   "outputs": [],
   "source": []
  },
  {
   "cell_type": "code",
   "execution_count": null,
   "id": "4880aa0b",
   "metadata": {},
   "outputs": [],
   "source": []
  },
  {
   "cell_type": "code",
   "execution_count": null,
   "id": "9196d830",
   "metadata": {},
   "outputs": [],
   "source": []
  },
  {
   "cell_type": "code",
   "execution_count": null,
   "id": "fad12ad6",
   "metadata": {},
   "outputs": [],
   "source": [
    "# Create a file path for the pandas data\n",
    "pathround1 = 'data/round1a_' + nowstr + '.csv'\n",
    "dfround1.to_csv(pathround1) "
   ]
  },
  {
   "cell_type": "code",
   "execution_count": null,
   "id": "dacc46e3",
   "metadata": {},
   "outputs": [],
   "source": []
  },
  {
   "cell_type": "code",
   "execution_count": null,
   "id": "e0346a65",
   "metadata": {},
   "outputs": [],
   "source": []
  },
  {
   "cell_type": "code",
   "execution_count": null,
   "id": "a883e9a4",
   "metadata": {},
   "outputs": [],
   "source": [
    "# series of counts\n",
    "data1 = dfround1.value_counts(\"Change 21 vs 20\")\n",
    "# print the counts\n",
    "print(data1)\n",
    "plot = dfround1.plot.pie(y=str.'Change 21 vs 20', figsize=(5, 5))\n",
    "plt.show()"
   ]
  },
  {
   "cell_type": "code",
   "execution_count": null,
   "id": "a6a7326c",
   "metadata": {
    "scrolled": false
   },
   "outputs": [],
   "source": [
    "import pandas as pd\n",
    "\n",
    "items_df = pd.DataFrame({\n",
    "    'Id': [302, 504, 708, 103, 343, 565],\n",
    "    'Name': ['Watch', 'Camera', 'Phone', 'Shoes', 'Laptop', 'Bed'],\n",
    "    'Actual Price': [300, 400, 350, 100, 1000, 400],\n",
    "    'Discount(%)': [10, 15, 5, 0, 2, 7]\n",
    "})\n",
    "\n",
    "print(\"Initial DataFrame:\")\n",
    "print(items_df, \"\\n\")\n",
    "\n",
    "items_df['Final Price'] = items_df['Actual Price'] - ((items_df['Discount(%)']/100) * items_df['Actual Price'])\n",
    "\n",
    "\n",
    "print(\"DataFrame after addition of new column\")\n",
    "print(items_df, \"\\n\")\n",
    "\n",
    "items_df.dtypes"
   ]
  },
  {
   "cell_type": "code",
   "execution_count": null,
   "id": "96319630",
   "metadata": {},
   "outputs": [],
   "source": [
    "def conditions(x):\n",
    "    if ['21 vs 20'] > 0:\n",
    "        return \"Increase\"\n",
    "    elif ['21 vs 20'] < 0:\n",
    "        return \"Decrease\"\n",
    "    elif ['21 vs 20'] == 0:\n",
    "        return \"No Change\"\n",
    "    else:\n",
    "        return \"Course in 1 year only\"\n",
    "    \n",
    "dfround1['Class'] = dfround1.apply(conditions, axis=1)"
   ]
  },
  {
   "cell_type": "code",
   "execution_count": null,
   "id": "accbdfcc",
   "metadata": {
    "scrolled": false
   },
   "outputs": [],
   "source": [
    "df_full['class'] = np.where( ( (df_full['discount'] > 20) & (df_full['tax'] == 0 ) & (df_full['total'] > 100) & df_full['productdiscount'] ) , 1, 0)"
   ]
  },
  {
   "cell_type": "code",
   "execution_count": null,
   "id": "0884f0f0",
   "metadata": {
    "scrolled": false
   },
   "outputs": [],
   "source": [
    "# create a list of our conditions\n",
    "conditions = [\n",
    "    (dfround1['21 vs 20'] > 0),\n",
    "    (dfround1['21 vs 20'] < 0),\n",
    "    (dfround1['21 vs 20'] == 0)\n",
    "    ]\n",
    "\n",
    "\n",
    "def conditions(x):\n",
    "    if '21 vs 20' > 0:\n",
    "        return \"Increase\"\n",
    "    elif '21 vs 20' < 0:\n",
    "        return \"Decrease\"\n",
    "    elif '21 vs 20' == 0:\n",
    "        return \"No Change\"\n",
    "    else:\n",
    "        return \"Course in 1 year only\"\n",
    "    \n",
    "# create a list of the values we want to assign for each condition\n",
    "# values = ['Points increased', 'Points unchanged', 'Points decreased']\n",
    "\n",
    "create a new column and use np.select to assign values to it using our lists as arguments\n",
    "df['points'] = np.select(conditions, values)\n",
    "\n",
    "df.head()"
   ]
  },
  {
   "cell_type": "markdown",
   "id": "3d0f16b2",
   "metadata": {},
   "source": [
    "***\n",
    "### End"
   ]
  },
  {
   "cell_type": "code",
   "execution_count": null,
   "id": "0d4e2471",
   "metadata": {
    "scrolled": false
   },
   "outputs": [],
   "source": []
  }
 ],
 "metadata": {
  "kernelspec": {
   "display_name": "Python 3",
   "language": "python",
   "name": "python3"
  },
  "language_info": {
   "codemirror_mode": {
    "name": "ipython",
    "version": 3
   },
   "file_extension": ".py",
   "mimetype": "text/x-python",
   "name": "python",
   "nbconvert_exporter": "python",
   "pygments_lexer": "ipython3",
   "version": "3.8.8"
  }
 },
 "nbformat": 4,
 "nbformat_minor": 5
}
