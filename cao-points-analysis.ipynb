{
 "cells": [
  {
   "cell_type": "markdown",
   "id": "75824ace",
   "metadata": {},
   "source": [
    "## CAO Points Analysis\n",
    "\n",
    "https://www.cao.ie/index.php?page=points&p=2021&bb=points\n",
    "\n",
    "***"
   ]
  },
  {
   "cell_type": "code",
   "execution_count": 1,
   "id": "4a6b71e2",
   "metadata": {},
   "outputs": [],
   "source": [
    "# To access a URL from python\n",
    "# import urllib\n",
    "\n",
    "# Convenient HTTP requests\n",
    "import requests as rq\n",
    "\n",
    "# Regular expressions\n",
    "import re\n",
    "\n",
    "# Should always call this out on the requirements txt file as it doesn't come as standard package with python\n",
    "# Only if you have anaconda does it come with the package\n",
    "\n",
    "# Dates and times\n",
    "import datetime as dt"
   ]
  },
  {
   "cell_type": "code",
   "execution_count": 2,
   "id": "f0844374",
   "metadata": {},
   "outputs": [
    {
     "data": {
      "text/plain": [
       "<Response [200]>"
      ]
     },
     "execution_count": 2,
     "metadata": {},
     "output_type": "execute_result"
    }
   ],
   "source": [
    "# Fetch the CAO points URL.\n",
    "resp = rq.get('http://www2.cao.ie/points/l8.php')\n",
    "# Have a quick peek (http code for ok)\n",
    "resp\n",
    "# To see the whole text\n",
    "# resp.text"
   ]
  },
  {
   "cell_type": "markdown",
   "id": "23524cdd",
   "metadata": {},
   "source": [
    "### Save Original data set\n",
    "\n",
    "***"
   ]
  },
  {
   "cell_type": "code",
   "execution_count": 3,
   "id": "137fb3ba",
   "metadata": {},
   "outputs": [],
   "source": [
    "# Get the current date and time\n",
    "now = dt.datetime.now()\n",
    "\n",
    "# Format as a string\n",
    "nowstr = now.strftime('%Y%m%d_%H%M%S')"
   ]
  },
  {
   "cell_type": "code",
   "execution_count": 4,
   "id": "e0836537",
   "metadata": {},
   "outputs": [],
   "source": [
    "# Create a file path for the original data\n",
    "path = 'data/cao2021_' + nowstr + 'html'"
   ]
  },
  {
   "cell_type": "markdown",
   "id": "b2919efc",
   "metadata": {},
   "source": [
    "<br>\n",
    "\n",
    "### Error on server\n",
    "\n",
    "***\n",
    "\n",
    "Technically, the server says we should decode as per:\n",
    "```\n",
    "Content-Type: text/html; charset=iso-8859-1\n",
    "```\n",
    "However, one line uses \\x96 which isn't defined in iso-8859-1.\n",
    "<br>Therefore we use the similar decoding standard cp1252, which is very similar but includes #x96."
   ]
  },
  {
   "cell_type": "code",
   "execution_count": 5,
   "id": "b9fcf204",
   "metadata": {},
   "outputs": [],
   "source": [
    "# The server uses the wrong encoding, fix it\n",
    "original_encoding = resp.encoding\n",
    "# Change to cp1252\n",
    "resp.encoding = 'cp1252'"
   ]
  },
  {
   "cell_type": "code",
   "execution_count": 6,
   "id": "940316a3",
   "metadata": {},
   "outputs": [],
   "source": [
    "# Save the original html file\n",
    "with open (path, 'w') as f:\n",
    "    f.write(resp.text)"
   ]
  },
  {
   "cell_type": "markdown",
   "id": "7873f5c6",
   "metadata": {},
   "source": [
    "<br>\n",
    "\n",
    "### Use regular expressions to select lines we want\n",
    "\n",
    "***"
   ]
  },
  {
   "cell_type": "code",
   "execution_count": 7,
   "id": "f13eb930",
   "metadata": {},
   "outputs": [],
   "source": [
    "# Compile the regular expression for matching lines\n",
    "re_course = re.compile('([A-Z]{2}[0-9]{3})  (.*)([0-9]{3})(\\*?) *')"
   ]
  },
  {
   "cell_type": "markdown",
   "id": "66de9843",
   "metadata": {},
   "source": [
    "<br>\n",
    "\n",
    "### Loop through the lines of the response\n",
    "\n",
    "***"
   ]
  },
  {
   "cell_type": "code",
   "execution_count": 9,
   "id": "649e3462",
   "metadata": {},
   "outputs": [
    {
     "name": "stdout",
     "output_type": "stream",
     "text": [
      "Total number of lines is 922.\n"
     ]
    }
   ],
   "source": [
    "# The file path for the csv file\n",
    "path = 'data/cao2021_csv_' + nowstr + '.csv'\n",
    "\n",
    "# Keep track of how many courses we process \n",
    "no_lines = 0\n",
    "\n",
    "# Open the cav file for writing\n",
    "with open (path, 'w') as f:\n",
    "    # Loop through lines of the respone\n",
    "    for line in resp.iter_lines():\n",
    "        # Decode the line, changed from ISO-8859-1 to cp1252\n",
    "        # as one line uses \\x96 which isn't defined in iso-8859-1\n",
    "        dline = line.decode('cp1252')\n",
    "        # Match only the lines representing courses\n",
    "        if re_course.fullmatch(dline):\n",
    "            # Add one to the lines counter\n",
    "            no_lines = no_lines + 1\n",
    "            # Uncomment next lines to see the original\n",
    "            # print(line)\n",
    "            # Pick out the relevant parts of the matched line\n",
    "            # csv_version = re_course.sub(r'\\1,\\2,\\3,\\4', dline)\n",
    "            # Print the CSV-style line\n",
    "            # print(csv_version)\n",
    "            # Split the line on two or more spaces\n",
    "            linesplit = re.split('  +', dline)\n",
    "            # print(linesplit)\n",
    "            # print(','.join(linesplit))\n",
    "            # Rejoin the substrings with commas between them\n",
    "            f.write(','.join(linesplit) + '\\n')\n",
    "\n",
    "# Print the total number of processed lines\n",
    "print(f\"Total number of lines is {no_lines}.\")"
   ]
  },
  {
   "cell_type": "markdown",
   "id": "bbb9b2f3",
   "metadata": {},
   "source": [
    "### End"
   ]
  },
  {
   "cell_type": "code",
   "execution_count": null,
   "id": "ff7a86c9",
   "metadata": {},
   "outputs": [],
   "source": []
  }
 ],
 "metadata": {
  "kernelspec": {
   "display_name": "Python 3",
   "language": "python",
   "name": "python3"
  },
  "language_info": {
   "codemirror_mode": {
    "name": "ipython",
    "version": 3
   },
   "file_extension": ".py",
   "mimetype": "text/x-python",
   "name": "python",
   "nbconvert_exporter": "python",
   "pygments_lexer": "ipython3",
   "version": "3.8.8"
  }
 },
 "nbformat": 4,
 "nbformat_minor": 5
}
